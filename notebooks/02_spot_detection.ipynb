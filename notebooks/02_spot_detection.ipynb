{
 "cells": [
  {
   "cell_type": "code",
   "execution_count": 1,
   "id": "worldwide-supplement",
   "metadata": {},
   "outputs": [
    {
     "name": "stderr",
     "output_type": "stream",
     "text": [
      "C:\\ProgramData\\Anaconda3\\lib\\site-packages\\tensorflow\\python\\framework\\dtypes.py:516: FutureWarning: Passing (type, 1) or '1type' as a synonym of type is deprecated; in a future version of numpy, it will be understood as (type, (1,)) / '(1,)type'.\n",
      "  _np_qint8 = np.dtype([(\"qint8\", np.int8, 1)])\n",
      "C:\\ProgramData\\Anaconda3\\lib\\site-packages\\tensorflow\\python\\framework\\dtypes.py:517: FutureWarning: Passing (type, 1) or '1type' as a synonym of type is deprecated; in a future version of numpy, it will be understood as (type, (1,)) / '(1,)type'.\n",
      "  _np_quint8 = np.dtype([(\"quint8\", np.uint8, 1)])\n",
      "C:\\ProgramData\\Anaconda3\\lib\\site-packages\\tensorflow\\python\\framework\\dtypes.py:518: FutureWarning: Passing (type, 1) or '1type' as a synonym of type is deprecated; in a future version of numpy, it will be understood as (type, (1,)) / '(1,)type'.\n",
      "  _np_qint16 = np.dtype([(\"qint16\", np.int16, 1)])\n",
      "C:\\ProgramData\\Anaconda3\\lib\\site-packages\\tensorflow\\python\\framework\\dtypes.py:519: FutureWarning: Passing (type, 1) or '1type' as a synonym of type is deprecated; in a future version of numpy, it will be understood as (type, (1,)) / '(1,)type'.\n",
      "  _np_quint16 = np.dtype([(\"quint16\", np.uint16, 1)])\n",
      "C:\\ProgramData\\Anaconda3\\lib\\site-packages\\tensorflow\\python\\framework\\dtypes.py:520: FutureWarning: Passing (type, 1) or '1type' as a synonym of type is deprecated; in a future version of numpy, it will be understood as (type, (1,)) / '(1,)type'.\n",
      "  _np_qint32 = np.dtype([(\"qint32\", np.int32, 1)])\n",
      "C:\\ProgramData\\Anaconda3\\lib\\site-packages\\tensorflow\\python\\framework\\dtypes.py:525: FutureWarning: Passing (type, 1) or '1type' as a synonym of type is deprecated; in a future version of numpy, it will be understood as (type, (1,)) / '(1,)type'.\n",
      "  np_resource = np.dtype([(\"resource\", np.ubyte, 1)])\n",
      "C:\\ProgramData\\Anaconda3\\lib\\site-packages\\h5py\\__init__.py:72: UserWarning: h5py is running against HDF5 1.10.2 when it was built against 1.10.3, this may cause problems\n",
      "  '{0}.{1}.{2}'.format(*version.hdf5_built_version_tuple)\n",
      "C:\\ProgramData\\Anaconda3\\lib\\site-packages\\tensorboard\\compat\\tensorflow_stub\\dtypes.py:541: FutureWarning: Passing (type, 1) or '1type' as a synonym of type is deprecated; in a future version of numpy, it will be understood as (type, (1,)) / '(1,)type'.\n",
      "  _np_qint8 = np.dtype([(\"qint8\", np.int8, 1)])\n",
      "C:\\ProgramData\\Anaconda3\\lib\\site-packages\\tensorboard\\compat\\tensorflow_stub\\dtypes.py:542: FutureWarning: Passing (type, 1) or '1type' as a synonym of type is deprecated; in a future version of numpy, it will be understood as (type, (1,)) / '(1,)type'.\n",
      "  _np_quint8 = np.dtype([(\"quint8\", np.uint8, 1)])\n",
      "C:\\ProgramData\\Anaconda3\\lib\\site-packages\\tensorboard\\compat\\tensorflow_stub\\dtypes.py:543: FutureWarning: Passing (type, 1) or '1type' as a synonym of type is deprecated; in a future version of numpy, it will be understood as (type, (1,)) / '(1,)type'.\n",
      "  _np_qint16 = np.dtype([(\"qint16\", np.int16, 1)])\n",
      "C:\\ProgramData\\Anaconda3\\lib\\site-packages\\tensorboard\\compat\\tensorflow_stub\\dtypes.py:544: FutureWarning: Passing (type, 1) or '1type' as a synonym of type is deprecated; in a future version of numpy, it will be understood as (type, (1,)) / '(1,)type'.\n",
      "  _np_quint16 = np.dtype([(\"quint16\", np.uint16, 1)])\n",
      "C:\\ProgramData\\Anaconda3\\lib\\site-packages\\tensorboard\\compat\\tensorflow_stub\\dtypes.py:545: FutureWarning: Passing (type, 1) or '1type' as a synonym of type is deprecated; in a future version of numpy, it will be understood as (type, (1,)) / '(1,)type'.\n",
      "  _np_qint32 = np.dtype([(\"qint32\", np.int32, 1)])\n",
      "C:\\ProgramData\\Anaconda3\\lib\\site-packages\\tensorboard\\compat\\tensorflow_stub\\dtypes.py:550: FutureWarning: Passing (type, 1) or '1type' as a synonym of type is deprecated; in a future version of numpy, it will be understood as (type, (1,)) / '(1,)type'.\n",
      "  np_resource = np.dtype([(\"resource\", np.ubyte, 1)])\n",
      "Using TensorFlow backend.\n"
     ]
    }
   ],
   "source": [
    "import os\n",
    "import numpy as np\n",
    "import cv2\n",
    "import mrcnn.config\n",
    "import mrcnn.utils\n",
    "from mrcnn.model import MaskRCNN\n",
    "from pathlib import Path\n"
   ]
  },
  {
   "cell_type": "code",
   "execution_count": 2,
   "id": "unlike-lighting",
   "metadata": {},
   "outputs": [],
   "source": [
    "# Configuration that will be used by the Mask-RCNN library\n",
    "class MaskRCNNConfig(mrcnn.config.Config):\n",
    "    NAME = \"coco_pretrained_model_config\"\n",
    "    IMAGES_PER_GPU = 1\n",
    "    GPU_COUNT = 1\n",
    "    NUM_CLASSES = 1 + 80  # COCO dataset has 80 classes + one background class\n",
    "    DETECTION_MIN_CONFIDENCE = 0.6\n",
    "\n",
    "\n",
    "# Filter a list of Mask R-CNN detection results to get only the detected cars / trucks\n",
    "def get_car_boxes(boxes, class_ids):\n",
    "    car_boxes = []\n",
    "\n",
    "    for i, box in enumerate(boxes):\n",
    "        # If the detected object isn't a car / truck, skip it\n",
    "        if class_ids[i] in [3, 8, 6]:\n",
    "            car_boxes.append(box)\n",
    "\n",
    "    return np.array(car_boxes)"
   ]
  },
  {
   "cell_type": "code",
   "execution_count": 4,
   "id": "controversial-packing",
   "metadata": {},
   "outputs": [],
   "source": [
    "# Root directory of the project\n",
    "ROOT_DIR = Path(\"..\\\\\")\n",
    "\n",
    "# Directory to save logs and trained model\n",
    "MODEL_DIR = os.path.join(ROOT_DIR, \"models\")\n",
    "\n",
    "# Local path to trained weights file\n",
    "COCO_MODEL_PATH = os.path.join(MODEL_DIR, \"mask_rcnn_coco.h5\")\n",
    "\n",
    "# Download COCO trained weights from Releases if needed\n",
    "if not os.path.exists(COCO_MODEL_PATH):\n",
    "    mrcnn.utils.download_trained_weights(COCO_MODEL_PATH)"
   ]
  },
  {
   "cell_type": "code",
   "execution_count": 5,
   "id": "settled-valuable",
   "metadata": {},
   "outputs": [],
   "source": [
    "# Directory of images to run detection on\n",
    "IMAGE_DIR = os.path.join(ROOT_DIR, \".\\\\data\\\\raw\")  #Not using this right now...\n",
    "#Could use it to train when 'all spots are full' then look for movement"
   ]
  },
  {
   "cell_type": "code",
   "execution_count": 13,
   "id": "biblical-cement",
   "metadata": {},
   "outputs": [],
   "source": [
    "# Video file or camera to process - set this to 0 to use your webcam instead of a video file\n",
    "VIDEO_SOURCE = os.path.join(IMAGE_DIR,\"parkingTest_bestcompress_Trim.mp4\")\n",
    "\n",
    "# Local path to output processed videos\n",
    "VIDEO_SAVE_DIR = os.path.join(ROOT_DIR, \".\\\\data\\\\processed\")\n",
    "VIDEO_SAVE_FILE = os.path.join(VIDEO_SAVE_DIR, \"FinalFile.avi\")                           "
   ]
  },
  {
   "cell_type": "code",
   "execution_count": 7,
   "id": "noticed-gamma",
   "metadata": {},
   "outputs": [
    {
     "name": "stdout",
     "output_type": "stream",
     "text": [
      "WARNING:tensorflow:From C:\\ProgramData\\Anaconda3\\lib\\site-packages\\keras\\backend\\tensorflow_backend.py:4070: The name tf.nn.max_pool is deprecated. Please use tf.nn.max_pool2d instead.\n",
      "\n",
      "WARNING:tensorflow:From C:\\ProgramData\\Anaconda3\\lib\\site-packages\\mrcnn\\model.py:341: The name tf.log is deprecated. Please use tf.math.log instead.\n",
      "\n",
      "WARNING:tensorflow:From C:\\ProgramData\\Anaconda3\\lib\\site-packages\\mrcnn\\model.py:399: add_dispatch_support.<locals>.wrapper (from tensorflow.python.ops.array_ops) is deprecated and will be removed in a future version.\n",
      "Instructions for updating:\n",
      "Use tf.where in 2.0, which has the same broadcast rule as np.where\n",
      "WARNING:tensorflow:From C:\\ProgramData\\Anaconda3\\lib\\site-packages\\mrcnn\\model.py:423: calling crop_and_resize_v1 (from tensorflow.python.ops.image_ops_impl) with box_ind is deprecated and will be removed in a future version.\n",
      "Instructions for updating:\n",
      "box_ind is deprecated, use box_indices instead\n",
      "WARNING:tensorflow:From C:\\ProgramData\\Anaconda3\\lib\\site-packages\\mrcnn\\model.py:723: The name tf.sets.set_intersection is deprecated. Please use tf.sets.intersection instead.\n",
      "\n",
      "WARNING:tensorflow:From C:\\ProgramData\\Anaconda3\\lib\\site-packages\\mrcnn\\model.py:725: The name tf.sparse_tensor_to_dense is deprecated. Please use tf.sparse.to_dense instead.\n",
      "\n",
      "WARNING:tensorflow:From C:\\ProgramData\\Anaconda3\\lib\\site-packages\\mrcnn\\model.py:775: to_float (from tensorflow.python.ops.math_ops) is deprecated and will be removed in a future version.\n",
      "Instructions for updating:\n",
      "Use `tf.cast` instead.\n"
     ]
    }
   ],
   "source": [
    "# Create a Mask-RCNN model in inference mode\n",
    "model = MaskRCNN(mode=\"inference\", model_dir=MODEL_DIR, config=MaskRCNNConfig())\n",
    "\n",
    "# Load pre-trained model\n",
    "model.load_weights(COCO_MODEL_PATH, by_name=True)\n",
    "\n",
    "# Location of parking spaces\n",
    "parked_car_boxes = None"
   ]
  },
  {
   "cell_type": "code",
   "execution_count": 14,
   "id": "composite-console",
   "metadata": {},
   "outputs": [],
   "source": [
    "def writeFramesToFile(frame_array, fileName=\"video.avi\", nthFrames=1, fps=15):\n",
    "    '''writeFramesToFile(frame_array, fileName=\"video.avi\", nthFrames=1, fps=15)\n",
    "    Writes array of images to a video file of type .avi\n",
    "    parameters:\n",
    "      frame_array - python list of frames as pixel values from openCV\n",
    "      fileName - path to save file\n",
    "      nthFrames - how many frames to keep, 1 will keep all frames, 2 will remove every other, etc...\n",
    "      fps - frames per second'''\n",
    "    assert (len(frame_array) > 0)\n",
    "    \n",
    "    #check first frame and find shape\n",
    "    width = len(frame_array[0][0])\n",
    "    height = len(frame_array[0])\n",
    "    size = (width,height)\n",
    "\n",
    "    #make video writer\n",
    "    out = cv2.VideoWriter(fileName,cv2.VideoWriter_fourcc(*'DIVX'), fps, size) #name, writer, fps, size\n",
    "\n",
    "    for i in range(0, len(frame_array), nthFrames):\n",
    "        out.write(frame_array[i])\n",
    "    out.release()\n",
    "    return None"
   ]
  },
  {
   "cell_type": "code",
   "execution_count": 15,
   "id": "premium-billy",
   "metadata": {},
   "outputs": [
    {
     "name": "stdout",
     "output_type": "stream",
     "text": [
      "done\n"
     ]
    }
   ],
   "source": [
    "#Make sure the video is being read properly. This is just a check\n",
    "# Load the video file we want to run detection on\n",
    "video_capture = cv2.VideoCapture(VIDEO_SOURCE)\n",
    "\n",
    "# How many frames of video we've seen in a row with a parking space open\n",
    "free_space_frames = 0\n",
    "frame_array=[]\n",
    "\n",
    "# Loop over each frame of video\n",
    "while video_capture.isOpened():\n",
    "    success, frame = video_capture.read()\n",
    "    if not success:\n",
    "        break\n",
    "\n",
    "    # Convert the image from BGR color (which OpenCV uses) to RGB color\n",
    "    rgb_image = frame[:, :, ::-1]\n",
    "\n",
    "    # Show the frame of video on the screen\n",
    "    cv2.imshow('Video', frame)\n",
    "    \n",
    "    #Save the frame for a final video output\n",
    "    frame_array.append(frame)\n",
    "\n",
    "    # Hit 'q' to quit\n",
    "    if cv2.waitKey(1) & 0xFF == ord('q'):\n",
    "        break\n",
    "\n",
    "# Clean up everything when finished\n",
    "video_capture.release()\n",
    "cv2.destroyAllWindows()\n",
    "writeFramesToFile(frame_array=frame_array, fileName=VIDEO_SAVE_FILE)\n",
    "print(\"done\")\n"
   ]
  },
  {
   "cell_type": "code",
   "execution_count": 16,
   "id": "matched-trash",
   "metadata": {},
   "outputs": [],
   "source": [
    "# Have we sent an SMS alert yet?\n",
    "sms_sent = False"
   ]
  },
  {
   "cell_type": "code",
   "execution_count": null,
   "id": "handed-notebook",
   "metadata": {},
   "outputs": [
    {
     "name": "stdout",
     "output_type": "stream",
     "text": [
      "WARNING:tensorflow:From C:\\ProgramData\\Anaconda3\\lib\\site-packages\\keras\\backend\\tensorflow_backend.py:422: The name tf.global_variables is deprecated. Please use tf.compat.v1.global_variables instead.\n",
      "\n"
     ]
    }
   ],
   "source": [
    "# Load the video file we want to run detection on\n",
    "video_capture = cv2.VideoCapture(VIDEO_SOURCE)\n",
    "\n",
    "# How many frames of video we've seen in a row with a parking space open\n",
    "free_space_frames = 0\n",
    "frame_array=[]\n",
    "\n",
    "# Loop over each frame of video\n",
    "while video_capture.isOpened():\n",
    "    success, frame = video_capture.read()\n",
    "    if not success:\n",
    "        break\n",
    "\n",
    "    # Convert the image from BGR color (which OpenCV uses) to RGB color\n",
    "    rgb_image = frame[:, :, ::-1]\n",
    "\n",
    "    # Run the image through the Mask R-CNN model to get results.\n",
    "    results = model.detect([rgb_image], verbose=0)\n",
    "\n",
    "    # Mask R-CNN assumes we are running detection on multiple images.\n",
    "    # We only passed in one image to detect, so only grab the first result.\n",
    "    r = results[0]\n",
    "\n",
    "    # The r variable will now have the results of detection:\n",
    "    # - r['rois'] are the bounding box of each detected object\n",
    "    # - r['class_ids'] are the class id (type) of each detected object\n",
    "    # - r['scores'] are the confidence scores for each detection\n",
    "    # - r['masks'] are the object masks for each detected object (which gives you the object outline)\n",
    "\n",
    "    if parked_car_boxes is None:\n",
    "        # This is the first frame of video - assume all the cars detected are in parking spaces.\n",
    "        # Save the location of each car as a parking space box and go to the next frame of video.\n",
    "        parked_car_boxes = get_car_boxes(r['rois'], r['class_ids'])\n",
    "    else:\n",
    "        # We already know where the parking spaces are. Check if any are currently unoccupied.\n",
    "\n",
    "        # Get where cars are currently located in the frame\n",
    "        car_boxes = get_car_boxes(r['rois'], r['class_ids'])\n",
    "\n",
    "        # See how much those cars overlap with the known parking spaces\n",
    "        overlaps = mrcnn.utils.compute_overlaps(parked_car_boxes, car_boxes)\n",
    "\n",
    "        # Assume no spaces are free until we find one that is free\n",
    "        free_space = False\n",
    "\n",
    "        # Loop through each known parking space box\n",
    "        for parking_area, overlap_areas in zip(parked_car_boxes, overlaps):\n",
    "\n",
    "            # For this parking space, find the max amount it was covered by any\n",
    "            # car that was detected in our image (doesn't really matter which car)\n",
    "            max_IoU_overlap = np.max(overlap_areas)\n",
    "\n",
    "            # Get the top-left and bottom-right coordinates of the parking area\n",
    "            y1, x1, y2, x2 = parking_area\n",
    "\n",
    "            # Check if the parking space is occupied by seeing if any car overlaps\n",
    "            # it by more than 0.15 using IoU\n",
    "            if max_IoU_overlap < 0.15:\n",
    "                # Parking space not occupied! Draw a green box around it\n",
    "                cv2.rectangle(frame, (x1, y1), (x2, y2), (0, 255, 0), 3)\n",
    "                # Flag that we have seen at least one open space\n",
    "                free_space = True\n",
    "            else:\n",
    "                # Parking space is still occupied - draw a red box around it\n",
    "                cv2.rectangle(frame, (x1, y1), (x2, y2), (0, 0, 255), 1)\n",
    "\n",
    "            # Write the IoU measurement inside the box\n",
    "            font = cv2.FONT_HERSHEY_DUPLEX\n",
    "            cv2.putText(frame, f\"{max_IoU_overlap:0.2}\", (x1 + 6, y2 - 6), font, 0.3, (255, 255, 255))\n",
    "\n",
    "        # If at least one space was free, start counting frames\n",
    "        # This is so we don't alert based on one frame of a spot being open.\n",
    "        # This helps prevent the script triggered on one bad detection.\n",
    "        if free_space:\n",
    "            free_space_frames += 1\n",
    "        else:\n",
    "            # If no spots are free, reset the count\n",
    "            free_space_frames = 0\n",
    "\n",
    "        # If a space has been free for several frames, we are pretty sure it is really free!\n",
    "        if free_space_frames > 10:\n",
    "            # Write SPACE AVAILABLE!! at the top of the screen\n",
    "            font = cv2.FONT_HERSHEY_DUPLEX\n",
    "            cv2.putText(frame, f\"SPACE AVAILABLE!\", (10, 150), font, 3.0, (0, 255, 0), 2, cv2.FILLED)\n",
    "\n",
    "            # If we haven't sent an SMS yet, sent it!\n",
    "            if not sms_sent:\n",
    "                print(\"SENDING SMS!!!\")\n",
    "                #Message code goes here\n",
    "                #I'm not using but left this block in as a useful check\n",
    "                \n",
    "                sms_sent = True\n",
    "\n",
    "        # Show the frame of video on the screen\n",
    "        cv2.imshow('Video', frame)\n",
    "\n",
    "    # Hit 'q' to quit\n",
    "    if cv2.waitKey(1) & 0xFF == ord('q'):\n",
    "        break\n",
    "\n",
    "# Clean up everything when finished\n",
    "video_capture.release()\n",
    "cv2.destroyAllWindows()\n",
    "writeFramesToFile(frame_array=frame_array, fileName=VIDEO_SAVE_FILE)\n",
    "print(\"done\")"
   ]
  },
  {
   "cell_type": "code",
   "execution_count": 38,
   "id": "absolute-acceptance",
   "metadata": {},
   "outputs": [
    {
     "data": {
      "text/plain": [
       "24"
      ]
     },
     "execution_count": 38,
     "metadata": {},
     "output_type": "execute_result"
    }
   ],
   "source": [
    "sms_sent\n",
    "free_space_frames\n",
    "\n"
   ]
  },
  {
   "cell_type": "code",
   "execution_count": null,
   "id": "instructional-grave",
   "metadata": {},
   "outputs": [],
   "source": []
  }
 ],
 "metadata": {
  "kernelspec": {
   "display_name": "Python 3",
   "language": "python",
   "name": "python3"
  },
  "language_info": {
   "codemirror_mode": {
    "name": "ipython",
    "version": 3
   },
   "file_extension": ".py",
   "mimetype": "text/x-python",
   "name": "python",
   "nbconvert_exporter": "python",
   "pygments_lexer": "ipython3",
   "version": "3.7.3"
  }
 },
 "nbformat": 4,
 "nbformat_minor": 5
}
