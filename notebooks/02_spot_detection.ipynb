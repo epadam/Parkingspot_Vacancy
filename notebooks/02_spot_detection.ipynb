{
 "cells": [
  {
   "cell_type": "markdown",
   "id": "chief-entertainment",
   "metadata": {},
   "source": [
    "# Parking spot detection"
   ]
  },
  {
   "cell_type": "markdown",
   "id": "collaborative-luxury",
   "metadata": {},
   "source": [
    "## Imports"
   ]
  },
  {
   "cell_type": "code",
   "execution_count": 7,
   "id": "worldwide-supplement",
   "metadata": {
    "ExecuteTime": {
     "end_time": "2021-05-11T19:13:47.585000Z",
     "start_time": "2021-05-11T19:13:47.556319Z"
    }
   },
   "outputs": [],
   "source": [
    "import os\n",
    "import numpy as np \n",
    "import cv2 #open cvs, image processing\n",
    "from pathlib import Path\n",
    "from matplotlib import pyplot as plt #image plots\n",
    "import random  #Remove in final version\n",
    "import sys"
   ]
  },
  {
   "cell_type": "code",
   "execution_count": 3,
   "id": "f1fe360b",
   "metadata": {},
   "outputs": [
    {
     "name": "stdout",
     "output_type": "stream",
     "text": [
      "2.5.0\n"
     ]
    }
   ],
   "source": [
    "import tensorflow as tf\n",
    "print(tf.__version__)"
   ]
  },
  {
   "cell_type": "markdown",
   "id": "auburn-belle",
   "metadata": {
    "heading_collapsed": true
   },
   "source": [
    "## Configure MaskRCNN"
   ]
  },
  {
   "cell_type": "code",
   "execution_count": 8,
   "id": "72a8b576",
   "metadata": {},
   "outputs": [],
   "source": [
    "# Set the ROOT_DIR variable to the root directory of the Mask_RCNN git repo\n",
    "ROOT_DIR = '../../aktwelve_Mask_RCNN'\n",
    "# Import mrcnn libraries\n",
    "sys.path.append(ROOT_DIR)\n",
    "assert os.path.exists(ROOT_DIR), 'ROOT_DIR does not exist'\n",
    "import mrcnn.config\n",
    "import mrcnn.utils\n",
    "from mrcnn.model import MaskRCNN"
   ]
  },
  {
   "cell_type": "code",
   "execution_count": 9,
   "id": "unlike-lighting",
   "metadata": {
    "ExecuteTime": {
     "end_time": "2021-05-11T17:40:41.310964Z",
     "start_time": "2021-05-11T17:40:41.297999Z"
    },
    "hidden": true
   },
   "outputs": [],
   "source": [
    "# Configuration that will be used by the Mask-RCNN library\n",
    "class MaskRCNNConfig(mrcnn.config.Config):\n",
    "    NAME = \"coco_pretrained_model_config\"\n",
    "    IMAGES_PER_GPU = 1\n",
    "    GPU_COUNT = 1\n",
    "    NUM_CLASSES = 1 + 80  # COCO dataset has 80 classes + one background class\n",
    "    DETECTION_MIN_CONFIDENCE = 0.6\n",
    "\n",
    "\n",
    "# Filter a list of Mask R-CNN detection results to get only the detected cars / trucks\n",
    "def get_car_boxes(boxes, class_ids):\n",
    "    car_boxes = []\n",
    "\n",
    "    for i, box in enumerate(boxes):\n",
    "        # If the detected object isn't a car / truck, skip it\n",
    "        if class_ids[i] in [3, 8, 6]:\n",
    "            car_boxes.append(box)\n",
    "\n",
    "    return np.array(car_boxes)"
   ]
  },
  {
   "cell_type": "markdown",
   "id": "silver-luxembourg",
   "metadata": {},
   "source": [
    "## Setup file structure and download COCO weights"
   ]
  },
  {
   "cell_type": "code",
   "execution_count": 10,
   "id": "controversial-packing",
   "metadata": {
    "ExecuteTime": {
     "end_time": "2021-05-11T17:40:41.700544Z",
     "start_time": "2021-05-11T17:40:41.314952Z"
    }
   },
   "outputs": [],
   "source": [
    "# Root directory of the project\n",
    "ROOT_DIR = Path(\"..\\\\\")\n",
    "\n",
    "# Directory to save logs and trained model (if doing your own training)\n",
    "MODEL_DIR = os.path.join(ROOT_DIR, \"models\")\n",
    "\n",
    "# Local path to trained weights file\n",
    "COCO_MODEL_PATH = os.path.join(MODEL_DIR, \"mask_rcnn_coco.h5\")\n",
    "\n",
    "# Download COCO trained weights from Releases if needed\n",
    "if not os.path.exists(COCO_MODEL_PATH):\n",
    "    mrcnn.utils.download_trained_weights(COCO_MODEL_PATH)"
   ]
  },
  {
   "cell_type": "code",
   "execution_count": 11,
   "id": "settled-valuable",
   "metadata": {
    "ExecuteTime": {
     "end_time": "2021-05-11T17:40:41.763379Z",
     "start_time": "2021-05-11T17:40:41.707525Z"
    }
   },
   "outputs": [],
   "source": [
    "# Directory of images to run detection on - only if training your own\n",
    "IMAGE_DIR = os.path.join(ROOT_DIR, \".\\\\data\\\\raw\")  #Not using this right now...\n",
    "#Could use it to train when 'all spots are full' then look for movement"
   ]
  },
  {
   "cell_type": "code",
   "execution_count": 12,
   "id": "biblical-cement",
   "metadata": {
    "ExecuteTime": {
     "end_time": "2021-05-11T17:40:41.809253Z",
     "start_time": "2021-05-11T17:40:41.772351Z"
    }
   },
   "outputs": [],
   "source": [
    "# Video file or camera to process - set this to 0 to use your webcam instead of a video file\n",
    "VIDEO_SOURCE = os.path.join(IMAGE_DIR,\"parkingTest_bestcompress_Trim.mp4\")\n",
    "\n",
    "# Local path to output processed videos\n",
    "VIDEO_SAVE_DIR = os.path.join(ROOT_DIR, \".\\\\data\\\\processed\")\n",
    "VIDEO_SAVE_FILE = os.path.join(VIDEO_SAVE_DIR, \"FinalFile.avi\")                           "
   ]
  },
  {
   "cell_type": "markdown",
   "id": "concerned-saudi",
   "metadata": {
    "heading_collapsed": true
   },
   "source": [
    "## Create Mask-RCNN model"
   ]
  },
  {
   "cell_type": "code",
   "execution_count": 13,
   "id": "noticed-gamma",
   "metadata": {
    "ExecuteTime": {
     "end_time": "2021-05-11T17:42:47.304651Z",
     "start_time": "2021-05-11T17:40:41.816233Z"
    },
    "hidden": true
   },
   "outputs": [
    {
     "name": "stdout",
     "output_type": "stream",
     "text": [
      "WARNING:tensorflow:From c:\\users\\rejex\\.conda\\envs\\parking_vacancy_tf2\\lib\\site-packages\\tensorflow\\python\\ops\\array_ops.py:5049: calling gather (from tensorflow.python.ops.array_ops) with validate_indices is deprecated and will be removed in a future version.\n",
      "Instructions for updating:\n",
      "The `validate_indices` argument has no effect. Indices are always validated on CPU and never validated on GPU.\n",
      "WARNING:tensorflow:From c:\\users\\rejex\\.conda\\envs\\parking_vacancy_tf2\\lib\\site-packages\\tensorflow\\python\\util\\deprecation.py:602: calling map_fn_v2 (from tensorflow.python.ops.map_fn) with dtype is deprecated and will be removed in a future version.\n",
      "Instructions for updating:\n",
      "Use fn_output_signature instead\n"
     ]
    }
   ],
   "source": [
    "# Create a Mask-RCNN model in inference mode\n",
    "model = MaskRCNN(mode=\"inference\", model_dir=MODEL_DIR, config=MaskRCNNConfig())\n",
    "\n",
    "# Load pre-trained model\n",
    "model.load_weights(COCO_MODEL_PATH, by_name=True)"
   ]
  },
  {
   "cell_type": "markdown",
   "id": "marine-testimony",
   "metadata": {},
   "source": [
    "## Function to save openCV frames to avi file"
   ]
  },
  {
   "cell_type": "code",
   "execution_count": 14,
   "id": "composite-console",
   "metadata": {
    "ExecuteTime": {
     "end_time": "2021-05-11T17:42:47.382078Z",
     "start_time": "2021-05-11T17:42:47.318014Z"
    }
   },
   "outputs": [],
   "source": [
    "def writeFramesToFile(frame_array, fileName=\"video.avi\", nthFrames=1, fps=15):\n",
    "    '''writeFramesToFile(frame_array, fileName=\"video.avi\", nthFrames=1, fps=15)\n",
    "    Writes array of images to a video file of type .avi\n",
    "    parameters:\n",
    "      frame_array - python list of frames as pixel values from openCV\n",
    "      fileName - path to save file\n",
    "      nthFrames - how many frames to keep, 1 will keep all frames, 2 will remove every other, etc...\n",
    "      fps - frames per second'''\n",
    "    assert (len(frame_array) > 0)\n",
    "    \n",
    "    #check first frame and find shape\n",
    "    width = len(frame_array[0][0])\n",
    "    height = len(frame_array[0])\n",
    "    size = (width,height)\n",
    "\n",
    "    #make video writer\n",
    "    out = cv2.VideoWriter(fileName,cv2.VideoWriter_fourcc(*'DIVX'), fps, size) #name, writer, fps, size\n",
    "\n",
    "    for i in range(0, len(frame_array), nthFrames):\n",
    "        out.write(frame_array[i])\n",
    "    out.release()\n",
    "    return None"
   ]
  },
  {
   "cell_type": "markdown",
   "id": "sorted-prague",
   "metadata": {
    "heading_collapsed": true
   },
   "source": [
    "### scratch for testing movie loop"
   ]
  },
  {
   "cell_type": "code",
   "execution_count": 15,
   "id": "premium-billy",
   "metadata": {
    "ExecuteTime": {
     "end_time": "2021-05-11T17:43:06.778360Z",
     "start_time": "2021-05-11T17:42:47.512886Z"
    },
    "hidden": true
   },
   "outputs": [
    {
     "name": "stdout",
     "output_type": "stream",
     "text": [
      "done\n"
     ]
    }
   ],
   "source": [
    "#Make sure the video is being read properly. This is just a check\n",
    "# Load the video file we want to run detection on\n",
    "video_capture = cv2.VideoCapture(VIDEO_SOURCE)\n",
    "\n",
    "# How many frames of video we've seen in a row with a parking space open\n",
    "free_space_frames = 0\n",
    "frame_array=[]\n",
    "\n",
    "# Loop over each frame of video\n",
    "while video_capture.isOpened():\n",
    "    success, frame = video_capture.read()\n",
    "    if not success:\n",
    "        break\n",
    "\n",
    "    # Convert the image from BGR color (which OpenCV uses) to RGB color\n",
    "    rgb_image = frame[:, :, ::-1]\n",
    "    \n",
    "    #print number of frames\n",
    "    font = cv2.FONT_HERSHEY_DUPLEX\n",
    "    cv2.putText(frame, f\"Frame: {len(frame_array)}\", (10, 340), font, 0.5, (0, 255, 0), 2, cv2.FILLED)\n",
    "\n",
    "    # Show the frame of video on the screen\n",
    "    cv2.imshow('Video', frame)\n",
    "    \n",
    "    #Save the frame for a final video output\n",
    "    frame_array.append(frame)\n",
    "\n",
    "    # Hit 'q' to quit\n",
    "    if cv2.waitKey(1000) & 0xFF == ord('q'):\n",
    "        break\n",
    "\n",
    "# Clean up everything when finished\n",
    "video_capture.release()\n",
    "cv2.destroyAllWindows()\n",
    "writeFramesToFile(frame_array=frame_array, fileName=VIDEO_SAVE_FILE)\n",
    "print(\"done\")\n"
   ]
  },
  {
   "cell_type": "markdown",
   "id": "experimental-james",
   "metadata": {},
   "source": [
    "## Function to detect parking spaces"
   ]
  },
  {
   "cell_type": "code",
   "execution_count": 21,
   "id": "plain-updating",
   "metadata": {
    "ExecuteTime": {
     "end_time": "2021-05-11T19:22:20.657127Z",
     "start_time": "2021-05-11T19:22:20.586330Z"
    }
   },
   "outputs": [],
   "source": [
    "def detectSpots(video_file, video_save_file='findParkingSpaces.avi', initial_check_frame_cutoff=10):\n",
    "    '''detectSpots(video_file, initial_check_frame_cutoff=10)\n",
    "    Returns: np 2D array of bounding boxes of all bounding boxes that are still occupied\n",
    "    after initial_check_frame_cutoff frames.  These can be considered \"parking spaces\".\n",
    "    \n",
    "    An update might identify any spaces that get occupied at some point and stay occupied \n",
    "    for a set length of time, in case some areas start off vacant.'''\n",
    "    # Load the video file we want to run detection on\n",
    "    video_capture = cv2.VideoCapture(video_file)\n",
    "\n",
    "    #Store the annotated frames for output to video/counting how many frames we've seen\n",
    "    frame_array=[]\n",
    "\n",
    "    #Will contain bounding boxes of parked cars to identify 'parkable spots'\n",
    "    parked_car_boxes = []\n",
    "    parked_car_boxes_updated = []\n",
    "\n",
    "    # Loop over each frame of video\n",
    "    while video_capture.isOpened():\n",
    "        success, frame = video_capture.read()\n",
    "        if not success:\n",
    "            print(\"Processed entire video, exiting\")\n",
    "            break\n",
    "\n",
    "        # Convert the image from BGR color (which OpenCV uses) to RGB color\n",
    "        rgb_image = frame[:, :, ::-1]\n",
    "\n",
    "        #ignore the inbetween frames 0 to x, don't run the model on them and save processing time\n",
    "        if 0 < len(frame_array) < initial_check_frame_cutoff: \n",
    "            print(f\"ignore this frame for processing, #{len(frame_array)}\")\n",
    "        else:\n",
    "            print(f\"Processing frame: #{len(frame_array)}\")\n",
    "            # Run the image through the Mask R-CNN model to get results.\n",
    "            results = model.detect([rgb_image], verbose=0)\n",
    "\n",
    "            # Mask R-CNN assumes we are running detection on multiple images.\n",
    "            # We only passed in one image to detect, so only grab the first result.\n",
    "            r = results[0]\n",
    "\n",
    "            # The r variable will now have the results of detection:\n",
    "            # - r['rois'] are the bounding box of each detected object\n",
    "            # - r['class_ids'] are the class id (type) of each detected object\n",
    "            # - r['scores'] are the confidence scores for each detection\n",
    "            # - r['masks'] are the object masks for each detected object (which gives you the object outline)\n",
    "\n",
    "            if len(frame_array) == 0:\n",
    "                # This is the first frame of video,\n",
    "                # Save the location of each car as a parking space box and go to the next frame of video.\n",
    "                # We check if any of those cars moved in the next 5 frames and assume those that don't are parked\n",
    "                parked_car_boxes =  get_car_boxes(r['rois'], r['class_ids'])\n",
    "                parked_car_boxes_init= parked_car_boxes\n",
    "                print(f'Parking spots 1st frame:', len(parked_car_boxes))\n",
    "\n",
    "            #If we are past the xth initial frame, already know where parked cars are, then check if any cars moved:                                        \n",
    "            else:\n",
    "                # We already know where the parking spaces are. Check if any are currently unoccupied.\n",
    "\n",
    "                # Get where cars are currently located in the frame\n",
    "                car_boxes = get_car_boxes(r['rois'], r['class_ids'])\n",
    "\n",
    "                # See how much those cars overlap with the known parking spaces\n",
    "                overlaps = mrcnn.utils.compute_overlaps(parked_car_boxes, car_boxes)\n",
    "\n",
    "                # Loop through each known parking space box\n",
    "                for row, areas in enumerate(zip(parked_car_boxes, overlaps)):\n",
    "                    parking_area, overlap_areas = areas\n",
    "                    # For this parking space, find the max amount it was covered by any\n",
    "                    # car that was detected in our image (doesn't really matter which car)\n",
    "                    max_IoU_overlap = np.max(overlap_areas)\n",
    "\n",
    "                    # Get the top-left and bottom-right coordinates of the parking area\n",
    "                    y1, x1, y2, x2 = parking_area\n",
    "\n",
    "                    # Check if the parking space is occupied by seeing if any car overlaps\n",
    "                    # it by more than x amount using IoU\n",
    "                    if max_IoU_overlap < 0.20:\n",
    "                        #In the first few frames, remove this 'spot' and consider it as a moving car instead\n",
    "                        # Transient event, draw green box\n",
    "                        cv2.rectangle(frame, (x1, y1), (x2, y2), (0, 255, 0), 3)\n",
    "                    else:\n",
    "                        #if len(frame_array) == initial_check_frame_cutoff: \n",
    "                        #Consider this a parking spot, car is still in it!\n",
    "                        #Dangerous to mutate array while using it! So make a new one\n",
    "                        parked_car_boxes_updated.append(list(parking_area))\n",
    "\n",
    "                        # Parking space is still occupied - draw a red box around it\n",
    "                        cv2.rectangle(frame, (x1, y1), (x2, y2), (0, 0, 255), 1)\n",
    "\n",
    "                    # Write the top and bottom corner locations in the box for ref\n",
    "                    font = cv2.FONT_HERSHEY_DUPLEX\n",
    "                    cv2.putText(frame, str(parking_area), (x1 + 6, y2 - 6), font, 0.3, (255, 255, 255))\n",
    "\n",
    "                parked_car_boxes = np.array(parked_car_boxes_updated)  #only happens once\n",
    "\n",
    "        #print number of frames\n",
    "        font = cv2.FONT_HERSHEY_COMPLEX_SMALL\n",
    "        cv2.putText(frame, f\"Frame: {len(frame_array)}\", (10, 340), font, 0.5, (0, 255, 0), 2, cv2.FILLED)\n",
    "\n",
    "        # Show the frame of video on the screen\n",
    "        cv2.imshow('Video', frame)\n",
    "\n",
    "        #Append frame to outputvideo\n",
    "        frame_array.append(frame)\n",
    "\n",
    "        # Hit 'q' to quit\n",
    "        if cv2.waitKey(1) & 0xFF == ord('q'):\n",
    "            print(\"Quit by user\")\n",
    "            break\n",
    "\n",
    "        #stop when cutoff reached\n",
    "        if len(frame_array) > initial_check_frame_cutoff:\n",
    "            print(f\"Finished, processed frames: 0 - {len(frame_array)}\")\n",
    "            break;\n",
    "        \n",
    "\n",
    "    # Clean up everything when finished\n",
    "    video_capture.release()\n",
    "    cv2.destroyAllWindows()\n",
    "    writeFramesToFile(frame_array=frame_array, fileName=video_save_file)\n",
    "\n",
    "    plt.figure(figsize = (64,48))\n",
    "    plt.imshow(frame[:, :, ::-1], interpolation='nearest')\n",
    "    plt.tight_layout() #Convert to RBG\n",
    "    plt.title('Identified Spots')\n",
    "    plt.show()\n",
    "    return parked_car_boxes"
   ]
  },
  {
   "cell_type": "markdown",
   "id": "outstanding-arcade",
   "metadata": {},
   "source": [
    "## Function to find vacant spots"
   ]
  },
  {
   "cell_type": "code",
   "execution_count": 22,
   "id": "continuing-stability",
   "metadata": {
    "ExecuteTime": {
     "end_time": "2021-05-11T20:24:15.285963Z",
     "start_time": "2021-05-11T20:24:15.219694Z"
    }
   },
   "outputs": [],
   "source": [
    "def countSpots(video_source, parked_car_boxes, video_save_file=\"annotatedVideo.avi\",\n",
    "               framesToProcess=True, freeSpaceFrameCutOff=5, showVideo = True):\n",
    "    '''Counts how many spots are vacant at the end of the video \n",
    "    saves a video showing spots being vacant\n",
    "    returns: count of spots in final frame that are vacant\n",
    "    inputs: video_source: file path\n",
    "            parked_car_boxes: bounding boxes of parking spaces\n",
    "            video_save_file: default \"annotatedVideo.avi\", video with annotations\n",
    "            framesToProcess: default to all frames.  Enter an int to process only part of the file. Good for saving time\n",
    "            freeSpaceFrameCutOff: default 2, number of frames a spot must be empty before appearing as such, helps with jitter'''\n",
    "    # Load the video file we want to run detection on\n",
    "    video_capture = cv2.VideoCapture(video_source)\n",
    "\n",
    "    #Store the annotated frames for output to video\n",
    "    frame_array=[]\n",
    "    \n",
    "    #Dictionary of parking space index and how many frames it's been 'free'\n",
    "    carBoxes_OpenFrames = {i: 0 for i in range(len(parked_car_boxes))}\n",
    "\n",
    "    # Loop over each frame of video\n",
    "    while video_capture.isOpened():\n",
    "        success, frame = video_capture.read()\n",
    "        if not success:\n",
    "            break\n",
    "\n",
    "        # Convert the image from BGR color (which OpenCV uses) to RGB color\n",
    "        rgb_image = frame[:, :, ::-1]\n",
    "\n",
    "        print(f\"Processing frame: #{len(frame_array)}\")\n",
    "        # Run the image through the Mask R-CNN model to get results.\n",
    "        results = model.detect([rgb_image], verbose=0)\n",
    "\n",
    "        # Mask R-CNN assumes we are running detection on multiple images.\n",
    "        # We only passed in one image to detect, so only grab the first result.\n",
    "        r = results[0]\n",
    "\n",
    "        # The r variable will now have the results of detection:\n",
    "        # - r['rois'] are the bounding box of each detected object\n",
    "        # - r['class_ids'] are the class id (type) of each detected object\n",
    "        # - r['scores'] are the confidence scores for each detection\n",
    "        # - r['masks'] are the object masks for each detected object (which gives you the object outline)\n",
    "\n",
    "        # We already know where the parking spaces are. Check if any are currently unoccupied.\n",
    "\n",
    "        # Get where cars are currently located in the frame\n",
    "        car_boxes = get_car_boxes(r['rois'], r['class_ids'])\n",
    "\n",
    "        # See how much those cars overlap with the known parking spaces\n",
    "        overlaps = mrcnn.utils.compute_overlaps(parked_car_boxes, car_boxes)\n",
    "\n",
    "        # Assume no spaces are free until we find one that is free\n",
    "        free_spaces = 0\n",
    "\n",
    "        # Loop through each known parking space box\n",
    "        for row, areas in enumerate(zip(parked_car_boxes, overlaps)):\n",
    "            parking_area, overlap_areas = areas\n",
    "            # For this parking space, find the max amount it was covered by any\n",
    "            # car that was detected in our image (doesn't really matter which car)\n",
    "            max_IoU_overlap = np.max(overlap_areas)\n",
    "\n",
    "            # Get the top-left and bottom-right coordinates of the parking area\n",
    "            y1, x1, y2, x2 = parking_area\n",
    "\n",
    "            # Check if the parking space is empty by seeing if any car overlaps\n",
    "            # it by more than x amount using IoU\n",
    "            if max_IoU_overlap < 0.20:    \n",
    "                #If the spot has appeared open long enough, count it as free!\n",
    "                # This is so we don't alert based on one frame of a spot being open/closed.\n",
    "                # This helps prevent the script triggered on one bad detection.\n",
    "                if carBoxes_OpenFrames[row] > freeSpaceFrameCutOff:\n",
    "                    # Parking space not occupied! Draw a green box around it\n",
    "                    cv2.rectangle(frame, (x1, y1), (x2, y2), (0, 255, 0), 3)\n",
    "                    \n",
    "                    #Count this as occupied, and don't let it be immediately changed\n",
    "                    carBoxes_OpenFrames[row] = freeSpaceFrameCutOff * 2\n",
    "                else:\n",
    "                    # Parking space is still occupied - draw a red box around it\n",
    "                    cv2.rectangle(frame, (x1, y1), (x2, y2), (0, 0, 255), 1)\n",
    "                    \n",
    "                    # Tag this spot as being open for +1 frame\n",
    "                    carBoxes_OpenFrames[row] += 1\n",
    "\n",
    "            else:\n",
    "                #else, spot appears occupied this frame \n",
    "                #If it's been occupied for more than the frame cutoff:\n",
    "                if carBoxes_OpenFrames[row] <= freeSpaceFrameCutOff:\n",
    "                    # Parking space is occupied - draw a red box around it\n",
    "                    cv2.rectangle(frame, (x1, y1), (x2, y2), (0, 0, 255), 1)\n",
    "                    #Set the frame counter to 0, it's full, don't let it change immediately\n",
    "                    carBoxes_OpenFrames[row] = 0 \n",
    "                else:\n",
    "                     #Start counting frames this spot is full,\n",
    "                    # So script isn't triggered from someone driving by\n",
    "                    carBoxes_OpenFrames[row] -= 1\n",
    "\n",
    "                    # Parking space still 'free'. Draw a green box around it\n",
    "                    cv2.rectangle(frame, (x1, y1), (x2, y2), (0, 255, 0), 3)\n",
    "                \n",
    "            # Write the IoU measurement inside the box\n",
    "            font = cv2.FONT_HERSHEY_DUPLEX\n",
    "            cv2.putText(frame, f\"{max_IoU_overlap:0.2}\", (x1 + 6, y2 - 6), font, 0.3, (255, 255, 255))\n",
    "\n",
    "      \n",
    "        # If a space has been free for several frames, let's count it as free\n",
    "        #  loop through all 'free' frames and sum the result\n",
    "        free_spaces = sum([int(i) > freeSpaceFrameCutOff for i in carBoxes_OpenFrames.values()])\n",
    "            \n",
    "        # Write how many free spots there are at the top of the screen\n",
    "        font = cv2.FONT_HERSHEY_DUPLEX\n",
    "        cv2.putText(frame, f\"Free Spaces: {free_spaces}\", (30, 30), font, 1.0, (0, 255, 0), 2, cv2.FILLED)\n",
    "\n",
    "        print(f'Free Spaces: {free_spaces}')\n",
    "        #print number of frames\n",
    "        font = cv2.FONT_HERSHEY_COMPLEX_SMALL\n",
    "        cv2.putText(frame, f\"Frame: {len(frame_array)}\", (10, 340), font, 0.5, (255, 255, 255))\n",
    "\n",
    "        # Show the video in a new window\n",
    "        if showVideo:\n",
    "            cv2.imshow('Video', frame)\n",
    "\n",
    "        #Append frame to outputvideo\n",
    "        frame_array.append(frame)\n",
    "\n",
    "        # Hit 'q' to quit showing video\n",
    "        if cv2.waitKey(1) & 0xFF == ord('q'):\n",
    "            break\n",
    "        \n",
    "        if (framesToProcess != True and len(frame_array) > framesToProcess):\n",
    "            print(f\"Stopped processing at frame {len(frame_array)} as requested by framesToProcess parameter\")\n",
    "            break\n",
    "\n",
    "    # Clean up everything when finished\n",
    "    video_capture.release()  #free the video\n",
    "    if showVideo: \n",
    "        cv2.destroyAllWindows()  #Close the video player\n",
    "    writeFramesToFile(frame_array=frame_array, fileName=video_save_file) #save the file\n",
    "    print(\"done\")\n",
    "    return free_spaces"
   ]
  },
  {
   "cell_type": "markdown",
   "id": "looking-document",
   "metadata": {},
   "source": [
    "## Code to find spots on given movie"
   ]
  },
  {
   "cell_type": "code",
   "execution_count": 31,
   "id": "69efbf55",
   "metadata": {},
   "outputs": [],
   "source": [
    "#Load boxes from file if they exist\n",
    "boundingBoxFile = os.path.join(ROOT_DIR,'data\\processed\\spot_boxes.csv')\n",
    "if os.path.exists(boundingBoxFile):\n",
    "    parked_car_boxes = np.loadtxt(boundingBoxFile, delimiter=',')\n",
    "else:\n",
    "    #Learn where boxes are from movie\n",
    "    parked_car_boxes = detectSpots(VIDEO_SOURCE, os.path.join(VIDEO_SAVE_DIR, \"findSpots.avi\"), 12)\n",
    "    \n",
    "    #One of those 'spots' is actually a car on the road, I'm going to remove it manually\n",
    "    badSpot = np.where(parked_car_boxes == [304,   0, 344,  15])\n",
    "    parked_car_boxes = np.delete(parked_car_boxes, badSpot[0][0], axis=0)\n",
    "\n",
    "    #Save edited boxes to file for future use\n",
    "    np.savetxt(os.path.join(ROOT_DIR,'spot_boxes.csv'), parked_car_boxes, delimiter=',')"
   ]
  },
  {
   "cell_type": "code",
   "execution_count": 25,
   "id": "cellular-christian",
   "metadata": {
    "ExecuteTime": {
     "end_time": "2021-05-11T22:36:54.333395Z",
     "start_time": "2021-05-11T20:24:18.229124Z"
    }
   },
   "outputs": [
    {
     "name": "stdout",
     "output_type": "stream",
     "text": [
      "Processing frame: #0\n",
      "Free Spaces: 0\n",
      "Processing frame: #1\n",
      "Free Spaces: 0\n",
      "Processing frame: #2\n",
      "Free Spaces: 0\n",
      "Processing frame: #3\n",
      "Free Spaces: 0\n",
      "Processing frame: #4\n",
      "Free Spaces: 0\n",
      "Processing frame: #5\n",
      "Free Spaces: 0\n",
      "Stopped processing at frame 6 as requested by framesToProcess parameter\n",
      "done\n"
     ]
    },
    {
     "data": {
      "text/plain": [
       "0"
      ]
     },
     "execution_count": 25,
     "metadata": {},
     "output_type": "execute_result"
    }
   ],
   "source": [
    "countSpots(video_source = VIDEO_SOURCE, parked_car_boxes=parked_car_boxes, video_save_file=VIDEO_SAVE_FILE,\n",
    "          framesToProcess=5, freeSpaceFrameCutOff=10)"
   ]
  },
  {
   "cell_type": "code",
   "execution_count": 72,
   "id": "needed-steal",
   "metadata": {
    "ExecuteTime": {
     "end_time": "2021-05-11T20:22:19.194304Z",
     "start_time": "2021-05-11T20:22:19.184045Z"
    }
   },
   "outputs": [
    {
     "data": {
      "text/plain": [
       "dict"
      ]
     },
     "execution_count": 72,
     "metadata": {},
     "output_type": "execute_result"
    }
   ],
   "source": [
    "type(carBoxes_OpenFrames)"
   ]
  }
 ],
 "metadata": {
  "kernelspec": {
   "display_name": "Python 3",
   "language": "python",
   "name": "python3"
  },
  "language_info": {
   "codemirror_mode": {
    "name": "ipython",
    "version": 3
   },
   "file_extension": ".py",
   "mimetype": "text/x-python",
   "name": "python",
   "nbconvert_exporter": "python",
   "pygments_lexer": "ipython3",
   "version": "3.7.10"
  },
  "toc": {
   "base_numbering": 1,
   "nav_menu": {},
   "number_sections": true,
   "sideBar": true,
   "skip_h1_title": false,
   "title_cell": "Table of Contents",
   "title_sidebar": "Contents",
   "toc_cell": false,
   "toc_position": {},
   "toc_section_display": true,
   "toc_window_display": false
  }
 },
 "nbformat": 4,
 "nbformat_minor": 5
}
