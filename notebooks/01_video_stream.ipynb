{
 "cells": [
  {
   "cell_type": "code",
   "execution_count": 1,
   "id": "distributed-bracelet",
   "metadata": {},
   "outputs": [],
   "source": [
    "import pafy #for youtube streaming, requires youtube-dl\n",
    "import cv2 #openCV\n",
    "import time  "
   ]
  },
  {
   "cell_type": "code",
   "execution_count": 2,
   "id": "broad-effectiveness",
   "metadata": {},
   "outputs": [],
   "source": [
    "videoURL = \"https://www.youtube.com/watch?v=DoUOrTJbIu4\" #Jackson hole town square, live stream\n",
    "\n",
    "video = pafy.new(videoURL)\n",
    "\n",
    "#only working on this specific video, lets confirm\n",
    "assert (\"Jackson Wyoming Town Square Live Webcam\" in video.title) "
   ]
  },
  {
   "cell_type": "code",
   "execution_count": 3,
   "id": "optional-folks",
   "metadata": {},
   "outputs": [
    {
     "name": "stdout",
     "output_type": "stream",
     "text": [
      "[normal:mp4@256x144, normal:mp4@426x240, normal:mp4@640x360, normal:mp4@854x480, normal:mp4@1280x720, normal:mp4@1920x1080]\n"
     ]
    }
   ],
   "source": [
    "best = video.getbest(preftype=\"mp4\")  #Get best resolution stream available\n",
    "medVid = video.streams[2]\n",
    "\n",
    "#See all stream qualitys\n",
    "print(video.streams)"
   ]
  },
  {
   "cell_type": "code",
   "execution_count": null,
   "id": "gothic-component",
   "metadata": {},
   "outputs": [],
   "source": []
  },
  {
   "cell_type": "code",
   "execution_count": 6,
   "id": "ongoing-leonard",
   "metadata": {},
   "outputs": [],
   "source": [
    "#Display screen in new window\n",
    "capture = cv2.VideoCapture(medVid.url) #replace with 'best' to get full resolution.\n",
    "\n",
    "numFrames = 100 #It will crash if more than 100-120 frames are shown, likley a youtube limit.\n",
    "frame_array=[]\n",
    "\n",
    "for i in range(numFrames):  \n",
    "    grabbed, frame = capture.read()  #read in single frame\n",
    "    if grabbed == False:\n",
    "        break\n",
    "    \n",
    "    #Save to array for output\n",
    "    frame_array.append(frame)\n",
    "    \n",
    "    cv2.imshow('frame',frame)  #Show the frame\n",
    "    #Shown in a new window, To exit, push q on the keyboard\n",
    "    if cv2.waitKey(20) & 0xFF == ord('q'):\n",
    "        break\n",
    "    print(round((i/numFrames)*100,0),\"%      #\",i,\"          \",end='\\r')  #print how much until done showing clip\n",
    "        \n",
    "capture.release()\n",
    "cv2.destroyAllWindows()  #close the windows automatically\n"
   ]
  },
  {
   "cell_type": "code",
   "execution_count": 16,
   "id": "decimal-contributor",
   "metadata": {},
   "outputs": [],
   "source": [
    "def getVideoFrames(url, n_frames):\n",
    "    '''getVideoFrames(url = string, n_frames= int)\n",
    "    returns array of images.\n",
    "    Runs in multiple takes as youtube seems to boot after doing more than 100-120 frames at once.\n",
    "    This pauses then starts a new connection, returning the final strung together list of images.'''\n",
    "\n",
    "    framesPerTake = 110 #It will crash if more than 100-120 frames are shown, likley a youtube limit.\n",
    "    outerLoop = int(n_frames/framesPerTake)\n",
    "    frame_array=[]\n",
    "\n",
    "    for j in range(outerLoop):\n",
    "        capture = cv2.VideoCapture(url) #replace with 'best' to get full resolution.\n",
    "\n",
    "        for i in range(framesPerTake):  \n",
    "            grabbed, frame = capture.read()  #read in single frame\n",
    "            if grabbed == False:\n",
    "                break\n",
    "            tester+=1\n",
    "            \n",
    "            #Save to array for output\n",
    "            frame_array.append(frame)\n",
    "            \n",
    "        print(round((j/outerLoop)*100,0),\"%      #\",j*framesPerTake,\"          \",end='\\r')  #print how much until done showing clip\n",
    "        time.sleep(framesPerTake/30)\n",
    "        capture.release()\n",
    "\n",
    "    return frame_array"
   ]
  },
  {
   "cell_type": "code",
   "execution_count": 8,
   "id": "maritime-quarterly",
   "metadata": {},
   "outputs": [],
   "source": [
    "def getVideoFrames_alternate(url, n_frames):\n",
    "    '''getVideoFrames url - string, n_frames int\n",
    "    returns array of images.'''\n",
    "    \n",
    "    frame_array=[]\n",
    "    \n",
    "    tester=0      \n",
    "\n",
    "    for i in range(n_frames):\n",
    "        capture = cv2.VideoCapture(url) #replace with 'best' to get full resolution.\n",
    "        grabbed, frame = capture.read()  #read in single frame\n",
    "        if grabbed == False:\n",
    "            break\n",
    "        tester+=1\n",
    "        #Save to array for output\n",
    "        frame_array.append(frame)\n",
    "        print(round((i/n_frames)*100,0),\"%      #\",i,\"          \",end='\\r')  #print how much until done showing clip\n",
    "        # Wait for x seconds before getting next image\n",
    "        time.sleep(0.5)\n",
    "\n",
    "        capture.release()\n",
    "\n",
    "    print(tester)\n",
    "    return frame_array"
   ]
  },
  {
   "cell_type": "code",
   "execution_count": 9,
   "id": "worst-magazine",
   "metadata": {},
   "outputs": [],
   "source": [
    "def writeFramesToFile(frame_array, fileName=\"video.avi\", nthFrames=1):\n",
    "    #check first frame and find shape\n",
    "    width = len(frame_array[0][0])\n",
    "    height = len(frame_array[0])\n",
    "    size = (width,height)\n",
    "\n",
    "    #make video writer\n",
    "    out = cv2.VideoWriter(fileName,cv2.VideoWriter_fourcc(*'DIVX'), 15, size) #name, writer, fps, size\n",
    "\n",
    "    for i in range(0, len(frame_array), nthFrames):\n",
    "        out.write(frame_array[i])\n",
    "    out.release()\n",
    "    return None"
   ]
  },
  {
   "cell_type": "code",
   "execution_count": 15,
   "id": "enhanced-former",
   "metadata": {},
   "outputs": [],
   "source": [
    "frame_array = getVideoFrames(url=medVid.url, n_frames=100)\n",
    "#writeFramesToFile(frame_array=frame_array, fileName=\"parkingTest_stillworks.avi\", nthFrames=3)"
   ]
  },
  {
   "cell_type": "code",
   "execution_count": 12,
   "id": "demanding-computer",
   "metadata": {},
   "outputs": [
    {
     "ename": "IndexError",
     "evalue": "list index out of range",
     "output_type": "error",
     "traceback": [
      "\u001b[1;31m---------------------------------------------------------------------------\u001b[0m",
      "\u001b[1;31mIndexError\u001b[0m                                Traceback (most recent call last)",
      "\u001b[1;32m<ipython-input-12-1005fe6e4512>\u001b[0m in \u001b[0;36m<module>\u001b[1;34m\u001b[0m\n\u001b[1;32m----> 1\u001b[1;33m \u001b[0mwriteFramesToFile\u001b[0m\u001b[1;33m(\u001b[0m\u001b[0mframe_array\u001b[0m\u001b[1;33m=\u001b[0m\u001b[0mframe_array\u001b[0m\u001b[1;33m,\u001b[0m \u001b[0mfileName\u001b[0m\u001b[1;33m=\u001b[0m\u001b[1;34m\"parkingTest_stillWorks.avi\"\u001b[0m\u001b[1;33m,\u001b[0m \u001b[0mnthFrames\u001b[0m\u001b[1;33m=\u001b[0m\u001b[1;36m10\u001b[0m\u001b[1;33m)\u001b[0m\u001b[1;33m\u001b[0m\u001b[1;33m\u001b[0m\u001b[0m\n\u001b[0m",
      "\u001b[1;32m<ipython-input-9-2d1d7305f5a2>\u001b[0m in \u001b[0;36mwriteFramesToFile\u001b[1;34m(frame_array, fileName, nthFrames)\u001b[0m\n\u001b[0;32m      1\u001b[0m \u001b[1;32mdef\u001b[0m \u001b[0mwriteFramesToFile\u001b[0m\u001b[1;33m(\u001b[0m\u001b[0mframe_array\u001b[0m\u001b[1;33m,\u001b[0m \u001b[0mfileName\u001b[0m\u001b[1;33m=\u001b[0m\u001b[1;34m\"video.avi\"\u001b[0m\u001b[1;33m,\u001b[0m \u001b[0mnthFrames\u001b[0m\u001b[1;33m=\u001b[0m\u001b[1;36m1\u001b[0m\u001b[1;33m)\u001b[0m\u001b[1;33m:\u001b[0m\u001b[1;33m\u001b[0m\u001b[1;33m\u001b[0m\u001b[0m\n\u001b[0;32m      2\u001b[0m     \u001b[1;31m#check first frame and find shape\u001b[0m\u001b[1;33m\u001b[0m\u001b[1;33m\u001b[0m\u001b[1;33m\u001b[0m\u001b[0m\n\u001b[1;32m----> 3\u001b[1;33m     \u001b[0mwidth\u001b[0m \u001b[1;33m=\u001b[0m \u001b[0mlen\u001b[0m\u001b[1;33m(\u001b[0m\u001b[0mframe_array\u001b[0m\u001b[1;33m[\u001b[0m\u001b[1;36m0\u001b[0m\u001b[1;33m]\u001b[0m\u001b[1;33m[\u001b[0m\u001b[1;36m0\u001b[0m\u001b[1;33m]\u001b[0m\u001b[1;33m)\u001b[0m\u001b[1;33m\u001b[0m\u001b[1;33m\u001b[0m\u001b[0m\n\u001b[0m\u001b[0;32m      4\u001b[0m     \u001b[0mheight\u001b[0m \u001b[1;33m=\u001b[0m \u001b[0mlen\u001b[0m\u001b[1;33m(\u001b[0m\u001b[0mframe_array\u001b[0m\u001b[1;33m[\u001b[0m\u001b[1;36m0\u001b[0m\u001b[1;33m]\u001b[0m\u001b[1;33m)\u001b[0m\u001b[1;33m\u001b[0m\u001b[1;33m\u001b[0m\u001b[0m\n\u001b[0;32m      5\u001b[0m     \u001b[0msize\u001b[0m \u001b[1;33m=\u001b[0m \u001b[1;33m(\u001b[0m\u001b[0mwidth\u001b[0m\u001b[1;33m,\u001b[0m\u001b[0mheight\u001b[0m\u001b[1;33m)\u001b[0m\u001b[1;33m\u001b[0m\u001b[1;33m\u001b[0m\u001b[0m\n",
      "\u001b[1;31mIndexError\u001b[0m: list index out of range"
     ]
    }
   ],
   "source": [
    "writeFramesToFile(frame_array=frame_array, fileName=\"parkingTest_stillWorks.avi\", nthFrames=10)"
   ]
  },
  {
   "cell_type": "code",
   "execution_count": 11,
   "id": "cardiac-operations",
   "metadata": {},
   "outputs": [],
   "source": [
    "def frame_count(video_path, manual=False):\n",
    "    \"\"\"frame_count - get how many frames are in a video\n",
    "    video_path - path to video\n",
    "    manual - True or False, manual method is much more accurate but slow\"\"\"\n",
    "    #Credit: https://stackoverflow.com/questions/25359288/\n",
    "    #        how-to-know-total-number-of-frame-in-a-file-with-cv2-in-python\n",
    "    # answer from: nanthancy \n",
    "    def manual_count(handler):\n",
    "        frames = 0\n",
    "        while True:\n",
    "            status, frame = handler.read()\n",
    "            if not status:\n",
    "                break\n",
    "            frames += 1\n",
    "        return frames \n",
    "\n",
    "    cap = cv2.VideoCapture(video_path)\n",
    "    # Slow, inefficient but 100% accurate method \n",
    "    if manual:\n",
    "        frames = manual_count(cap)\n",
    "    # Fast, efficient but inaccurate method\n",
    "    else:\n",
    "        try:\n",
    "            frames = int(cap.get(cv2.CAP_PROP_FRAME_COUNT))\n",
    "        except:\n",
    "            frames = manual_count(cap)\n",
    "    cap.release()\n",
    "    return frames"
   ]
  },
  {
   "cell_type": "code",
   "execution_count": 14,
   "id": "peripheral-oklahoma",
   "metadata": {},
   "outputs": [
    {
     "data": {
      "text/plain": [
       "2997"
      ]
     },
     "execution_count": 14,
     "metadata": {},
     "output_type": "execute_result"
    }
   ],
   "source": [
    "frame_count(\"temp7.ts\", manual=True)"
   ]
  },
  {
   "cell_type": "code",
   "execution_count": null,
   "id": "religious-august",
   "metadata": {},
   "outputs": [],
   "source": [
    "cap = cv2.VideoCapture(\"temp7.ts\")\n",
    "cap.set(1, 100)\n",
    "success, frame = cap.read()\n",
    "cv2.imshow(\"window\", frame)\n",
    "\n",
    "#Set waitKey \n",
    "cv2.waitKey()\n",
    "\n",
    "cap.release()\n",
    "cv2.destroyAllWindows()\n"
   ]
  },
  {
   "cell_type": "code",
   "execution_count": null,
   "id": "constant-expense",
   "metadata": {},
   "outputs": [],
   "source": [
    "cap.release()\n",
    "cv2.destroyAllWindows()"
   ]
  },
  {
   "cell_type": "code",
   "execution_count": null,
   "id": "designed-occupation",
   "metadata": {},
   "outputs": [],
   "source": []
  }
 ],
 "metadata": {
  "kernelspec": {
   "display_name": "Python 3",
   "language": "python",
   "name": "python3"
  },
  "language_info": {
   "codemirror_mode": {
    "name": "ipython",
    "version": 3
   },
   "file_extension": ".py",
   "mimetype": "text/x-python",
   "name": "python",
   "nbconvert_exporter": "python",
   "pygments_lexer": "ipython3",
   "version": "3.7.3"
  }
 },
 "nbformat": 4,
 "nbformat_minor": 5
}
