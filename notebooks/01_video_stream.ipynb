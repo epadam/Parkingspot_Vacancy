{
 "cells": [
  {
   "cell_type": "code",
   "execution_count": 1,
   "id": "distributed-bracelet",
   "metadata": {},
   "outputs": [
    {
     "ename": "ModuleNotFoundError",
     "evalue": "No module named 'pafy'",
     "output_type": "error",
     "traceback": [
      "\u001b[1;31m---------------------------------------------------------------------------\u001b[0m",
      "\u001b[1;31mModuleNotFoundError\u001b[0m                       Traceback (most recent call last)",
      "\u001b[1;32m<ipython-input-1-27ef22d1575b>\u001b[0m in \u001b[0;36m<module>\u001b[1;34m\u001b[0m\n\u001b[1;32m----> 1\u001b[1;33m \u001b[1;32mimport\u001b[0m \u001b[0mpafy\u001b[0m \u001b[1;31m#for youtube streaming\u001b[0m\u001b[1;33m\u001b[0m\u001b[1;33m\u001b[0m\u001b[0m\n\u001b[0m\u001b[0;32m      2\u001b[0m \u001b[1;32mimport\u001b[0m \u001b[0mcv2\u001b[0m \u001b[1;31m#openCV\u001b[0m\u001b[1;33m\u001b[0m\u001b[1;33m\u001b[0m\u001b[0m\n\u001b[0;32m      3\u001b[0m \u001b[1;32mimport\u001b[0m \u001b[0mtime\u001b[0m\u001b[1;33m\u001b[0m\u001b[1;33m\u001b[0m\u001b[0m\n",
      "\u001b[1;31mModuleNotFoundError\u001b[0m: No module named 'pafy'"
     ]
    }
   ],
   "source": [
    "import pafy #for youtube streaming\n",
    "import cv2 #openCV\n",
    "import time"
   ]
  },
  {
   "cell_type": "code",
   "execution_count": 2,
   "id": "broad-effectiveness",
   "metadata": {},
   "outputs": [],
   "source": [
    "videoURL = \"https://www.youtube.com/watch?v=DoUOrTJbIu4\" #Jackson hole town square, live stream\n",
    "\n",
    "video = pafy.new(videoURL)\n",
    "\n",
    "#only working on this specific video, lets confirm\n",
    "assert (\"Jackson Wyoming Town Square Live Webcam\" in video.title) "
   ]
  },
  {
   "cell_type": "code",
   "execution_count": 3,
   "id": "optional-folks",
   "metadata": {},
   "outputs": [
    {
     "name": "stdout",
     "output_type": "stream",
     "text": [
      "[normal:mp4@256x144, normal:mp4@426x240, normal:mp4@640x360, normal:mp4@854x480, normal:mp4@1280x720, normal:mp4@1920x1080]\n"
     ]
    }
   ],
   "source": [
    "best = video.getbest(preftype=\"mp4\")  #Get best resolution stream available\n",
    "medVid = video.streams[2]\n",
    "\n",
    "#See all stream qualitys\n",
    "print(video.streams)"
   ]
  },
  {
   "cell_type": "code",
   "execution_count": null,
   "id": "ongoing-leonard",
   "metadata": {},
   "outputs": [],
   "source": [
    "#Display screen in new window\n",
    "capture = cv2.VideoCapture(medVid.url) #replace with 'best' to get full resolution.\n",
    "\n",
    "numFrames = 100 #It will crash if more than 100-120 frames are shown, likley a youtube limit.\n",
    "frame_array=[]\n",
    "\n",
    "for i in range(numFrames):  \n",
    "    grabbed, frame = capture.read()  #read in single frame\n",
    "    if grabbed == False:\n",
    "        break\n",
    "    \n",
    "    #Save to array for output\n",
    "    frame_array.append(frame)\n",
    "    \n",
    "    cv2.imshow('frame',frame)  #Show the frame\n",
    "    #Shown in a new window, To exit, push q on the keyboard\n",
    "    if cv2.waitKey(20) & 0xFF == ord('q'):\n",
    "        break\n",
    "    print(round((i/numFrames)*100,0),\"%      #\",i,\"          \",end='\\r')  #print how much until done showing clip\n",
    "        \n",
    "capture.release()\n",
    "cv2.destroyAllWindows()  #close the windows automatically\n"
   ]
  },
  {
   "cell_type": "code",
   "execution_count": 86,
   "id": "decimal-contributor",
   "metadata": {},
   "outputs": [],
   "source": [
    "def getVideoFrames(url, n_frames):\n",
    "    '''getVideoFrames(url = string, n_frames= int)\n",
    "    returns array of images.\n",
    "    Runs in multiple takes as youtube seems to boot after doing more than 100-120 frames at once.\n",
    "    This pauses then starts a new connection, returning the final strung together list of images.'''\n",
    "\n",
    "    framesPerTake = 110 #It will crash if more than 100-120 frames are shown, likley a youtube limit.\n",
    "    outerLoop = int(n_frames/framesPerTake)\n",
    "    frame_array=[]\n",
    "\n",
    "    for j in range(outerLoop):\n",
    "        capture = cv2.VideoCapture(url) #replace with 'best' to get full resolution.\n",
    "\n",
    "        for i in range(framesPerTake):  \n",
    "            grabbed, frame = capture.read()  #read in single frame\n",
    "            if grabbed == False:\n",
    "                break\n",
    "            tester+=1\n",
    "            \n",
    "            #Save to array for output\n",
    "            frame_array.append(frame)\n",
    "            \n",
    "        print(round((j/outerLoop)*100,0),\"%      #\",j*framesPerTake,\"          \",end='\\r')  #print how much until done showing clip\n",
    "        time.sleep(framesPerTake/30)\n",
    "        capture.release()\n",
    "\n",
    "    return frame_array"
   ]
  },
  {
   "cell_type": "code",
   "execution_count": 58,
   "id": "maritime-quarterly",
   "metadata": {},
   "outputs": [],
   "source": [
    "def getVideoFrames_alternate(url, n_frames):\n",
    "    '''getVideoFrames url - string, n_frames int\n",
    "    returns array of images.'''\n",
    "    \n",
    "    frame_array=[]\n",
    "    \n",
    "    tester=0      \n",
    "\n",
    "    for i in range(n_frames):\n",
    "        capture = cv2.VideoCapture(url) #replace with 'best' to get full resolution.\n",
    "        grabbed, frame = capture.read()  #read in single frame\n",
    "        if grabbed == False:\n",
    "            break\n",
    "        tester+=1\n",
    "        #Save to array for output\n",
    "        frame_array.append(frame)\n",
    "        print(round((i/n_frames)*100,0),\"%      #\",i,\"          \",end='\\r')  #print how much until done showing clip\n",
    "        # Wait for x seconds before getting next image\n",
    "        time.sleep(0.5)\n",
    "\n",
    "        capture.release()\n",
    "\n",
    "    print(tester)\n",
    "    return frame_array"
   ]
  },
  {
   "cell_type": "code",
   "execution_count": 98,
   "id": "worst-magazine",
   "metadata": {},
   "outputs": [],
   "source": [
    "def writeFramesToFile(frame_array, fileName=\"video.avi\", nthFrames=1):\n",
    "    #check first frame and find shape\n",
    "    width = len(frame_array[0][0])\n",
    "    height = len(frame_array[0])\n",
    "    size = (width,height)\n",
    "\n",
    "    #make video writer\n",
    "    out = cv2.VideoWriter(fileName,cv2.VideoWriter_fourcc(*'DIVX'), 15, size) #name, writer, fps, size\n",
    "\n",
    "    for i in range(0, len(frame_array), nthFrames):\n",
    "        out.write(frame_array[i])\n",
    "    out.release()\n",
    "    return None"
   ]
  },
  {
   "cell_type": "code",
   "execution_count": 104,
   "id": "enhanced-former",
   "metadata": {},
   "outputs": [
    {
     "name": "stdout",
     "output_type": "stream",
     "text": [
      "0.0 %      # 0           \n",
      "1.0 %      # 110           \n",
      "2.0 %      # 220           \n",
      "3.0 %      # 330           \n",
      "4.0 %      # 440           \n",
      "51.0 %      # 550           \n",
      "63.0 %      # 660           \n",
      "76.0 %      # 770           \n",
      "88.0 %      # 880           \n",
      "90.0 %      # 990           \n",
      "10.0 %      # 1100           \n",
      "11.0 %      # 1210           \n",
      "12.0 %      # 1320           \n",
      "13.0 %      # 1430           \n",
      "14.0 %      # 1540           \n",
      "15.0 %      # 1650           \n",
      "16.0 %      # 1760           \n",
      "17.0 %      # 1870           \n",
      "18.0 %      # 1980           \n",
      "19.0 %      # 2090           \n",
      "20.0 %      # 2200           \n",
      "21.0 %      # 2310           \n",
      "22.0 %      # 2420           \n",
      "23.0 %      # 2530           \n",
      "24.0 %      # 2640           \n",
      "25.0 %      # 2750           \n",
      "26.0 %      # 2860           \n",
      "27.0 %      # 2970           \n",
      "28.0 %      # 3080           \n",
      "29.0 %      # 3190           \n",
      "30.0 %      # 3300           \n",
      "31.0 %      # 3410           \n",
      "32.0 %      # 3520           \n",
      "33.0 %      # 3630           \n",
      "34.0 %      # 3740           \n",
      "35.0 %      # 3850           \n",
      "36.0 %      # 3960           \n",
      "37.0 %      # 4070           \n",
      "38.0 %      # 4180           \n",
      "39.0 %      # 4290           \n",
      "40.0 %      # 4400           \n",
      "41.0 %      # 4510           \n",
      "42.0 %      # 4620           \n",
      "43.0 %      # 4730           \n",
      "44.0 %      # 4840           \n",
      "4950\n"
     ]
    }
   ],
   "source": [
    "frame_array = getVideoFrames(url=medVid.url, n_frames=5000)\n",
    "writeFramesToFile(frame_array=frame_array, fileName=\"parkingTest_short3.avi\", nthFrames=3)"
   ]
  },
  {
   "cell_type": "code",
   "execution_count": 105,
   "id": "demanding-computer",
   "metadata": {},
   "outputs": [],
   "source": [
    "writeFramesToFile(frame_array=frame_array, fileName=\"parkingTest_compress.avi\", nthFrames=10)"
   ]
  },
  {
   "cell_type": "code",
   "execution_count": 95,
   "id": "cardiac-operations",
   "metadata": {},
   "outputs": [
    {
     "data": {
      "text/plain": [
       "(360, 640, 3)"
      ]
     },
     "execution_count": 95,
     "metadata": {},
     "output_type": "execute_result"
    }
   ],
   "source": [
    "frame.shape"
   ]
  }
 ],
 "metadata": {
  "kernelspec": {
   "display_name": "Python 3",
   "language": "python",
   "name": "python3"
  },
  "language_info": {
   "codemirror_mode": {
    "name": "ipython",
    "version": 3
   },
   "file_extension": ".py",
   "mimetype": "text/x-python",
   "name": "python",
   "nbconvert_exporter": "python",
   "pygments_lexer": "ipython3",
   "version": "3.7.10"
  }
 },
 "nbformat": 4,
 "nbformat_minor": 5
}
