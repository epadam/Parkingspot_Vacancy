{
 "cells": [
  {
   "cell_type": "code",
   "execution_count": 1,
   "id": "distributed-bracelet",
   "metadata": {},
   "outputs": [],
   "source": [
    "import pafy #for youtube streaming\n",
    "import cv2 #openCV"
   ]
  },
  {
   "cell_type": "code",
   "execution_count": 2,
   "id": "broad-effectiveness",
   "metadata": {},
   "outputs": [],
   "source": [
    "videoURL = \"https://www.youtube.com/watch?v=DoUOrTJbIu4\" #Jackson hole town square, live stream\n",
    "\n",
    "video = pafy.new(videoURL)\n",
    "\n",
    "#only working on this specific video, lets confirm\n",
    "assert (\"Jackson Wyoming Town Square Live Webcam\" in video.title) "
   ]
  },
  {
   "cell_type": "code",
   "execution_count": 3,
   "id": "protective-deposit",
   "metadata": {},
   "outputs": [
    {
     "name": "stdout",
     "output_type": "stream",
     "text": [
      "[normal:mp4@256x144, normal:mp4@426x240, normal:mp4@640x360, normal:mp4@854x480, normal:mp4@1280x720, normal:mp4@1920x1080]\n"
     ]
    }
   ],
   "source": [
    "best = video.getbest(preftype=\"mp4\")  #Get best resolution stream available\n",
    "medVid = video.streams[2]\n",
    "\n",
    "#See all stream qualitys\n",
    "print(video.streams)"
   ]
  },
  {
   "cell_type": "code",
   "execution_count": 7,
   "id": "ongoing-leonard",
   "metadata": {},
   "outputs": [
    {
     "name": "stdout",
     "output_type": "stream",
     "text": [
      "99.0 %      # 99\r"
     ]
    }
   ],
   "source": [
    "capture = cv2.VideoCapture(medVid.url) #replace with 'best' to get full resolution.\n",
    "\n",
    "numFrames = 100 #It will crash if more than 100-120 frames are shown, likley a youtube limit.\n",
    "for i in range(numFrames):  \n",
    "    grabbed, frame = capture.read()  #read in single frame\n",
    "    cv2.imshow('frame',frame)  #Show the frame\n",
    "    \n",
    "    #Shown in a new window, To exit, push q on the keyboard\n",
    "    if cv2.waitKey(20) & 0xFF == ord('q'):\n",
    "        break\n",
    "    print(round((i/numFrames)*100,0),\"%      #\",i,end='\\r')  #print how much until done showing clip\n",
    "        \n",
    "capture.release()\n",
    "cv2.destroyAllWindows()  #close the windows automatically"
   ]
  },
  {
   "cell_type": "code",
   "execution_count": null,
   "id": "uniform-render",
   "metadata": {},
   "outputs": [],
   "source": []
  },
  {
   "cell_type": "code",
   "execution_count": null,
   "id": "rubber-video",
   "metadata": {},
   "outputs": [],
   "source": []
  }
 ],
 "metadata": {
  "kernelspec": {
   "display_name": "Python 3",
   "language": "python",
   "name": "python3"
  },
  "language_info": {
   "codemirror_mode": {
    "name": "ipython",
    "version": 3
   },
   "file_extension": ".py",
   "mimetype": "text/x-python",
   "name": "python",
   "nbconvert_exporter": "python",
   "pygments_lexer": "ipython3",
   "version": "3.7.3"
  }
 },
 "nbformat": 4,
 "nbformat_minor": 5
}
