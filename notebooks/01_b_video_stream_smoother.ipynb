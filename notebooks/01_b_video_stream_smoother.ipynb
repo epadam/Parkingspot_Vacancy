{
 "cells": [
  {
   "cell_type": "code",
   "execution_count": 1,
   "id": "funny-chemistry",
   "metadata": {
    "ExecuteTime": {
     "end_time": "2021-05-18T15:43:28.096700Z",
     "start_time": "2021-05-18T15:43:28.074764Z"
    }
   },
   "outputs": [],
   "source": [
    "# pip install urllib\n",
    "# pip install m3u8\n",
    "# pip install streamlink\n",
    "import pendulum #Date time\n",
    "import urllib\n",
    "import m3u8\n",
    "import streamlink\n",
    "import cv2 #openCV\n",
    "import time\n"
   ]
  },
  {
   "cell_type": "code",
   "execution_count": 2,
   "id": "lasting-hanging",
   "metadata": {
    "ExecuteTime": {
     "end_time": "2021-05-18T15:46:56.350065Z",
     "start_time": "2021-05-18T15:45:46.874859Z"
    }
   },
   "outputs": [
    {
     "name": "stdout",
     "output_type": "stream",
     "text": [
      "Attempt 1 of 10\n",
      "YES: pre:  0 curr: 20210518-160019\n",
      "#1 at time 20210518-160019\n",
      "YES: pre:  20210518-160019 curr: 20210518-160029\n",
      "#2 at time 20210518-160029\n",
      "YES: pre:  20210518-160029 curr: 20210518-160034\n",
      "#3 at time 20210518-160034\n",
      "Attempt 1 of 10\n",
      "YES: pre:  20210518-160034 curr: 20210518-160039\n",
      "#4 at time 20210518-160039\n",
      "Attempt 1 of 10\n",
      "YES: pre:  20210518-160039 curr: 20210518-160044\n",
      "#5 at time 20210518-160044\n",
      "NO   pre:  20210518-160044 curr: 20210518-160044\n",
      "Attempt 1 of 10\n",
      "Attempt 2 of 10\n",
      "Attempt 3 of 10\n",
      "YES: pre:  20210518-160044 curr: 20210518-160049\n",
      "#6 at time 20210518-160049\n",
      "YES: pre:  20210518-160049 curr: 20210518-160054\n",
      "#7 at time 20210518-160054\n",
      "Attempt 1 of 10\n",
      "YES: pre:  20210518-160054 curr: 20210518-160059\n",
      "#8 at time 20210518-160059\n",
      "Attempt 1 of 10\n",
      "YES: pre:  20210518-160059 curr: 20210518-160104\n",
      "#9 at time 20210518-160104\n",
      "Attempt 1 of 10\n",
      "YES: pre:  20210518-160104 curr: 20210518-160119\n",
      "#10 at time 20210518-160119\n"
     ]
    }
   ],
   "source": [
    "#Ref: https://stackoverflow.com/questions/55631634/recording-youtube-live-stream-to-file-in-python\n",
    "def get_stream(url):\n",
    "    \"\"\"\n",
    "    Get upload chunk url\n",
    "    input: youtube URL\n",
    "    output: m3u8 object segment\n",
    "    \"\"\"\n",
    "    \n",
    "    #Try this line tries number of times, if it doesn't work, \n",
    "    # then show the exception on the last attempt\n",
    "    # Credit, theherk, https://stackoverflow.com/questions/2083987/how-to-retry-after-exception\n",
    "    tries = 10\n",
    "    for i in range(tries):\n",
    "        try:\n",
    "            streams = streamlink.streams(url)\n",
    "        except:\n",
    "            if i < tries - 1: # i is zero indexed\n",
    "                print(f\"Attempt {i+1} of {tries}\")\n",
    "                time.sleep(0.5) #Wait half a second\n",
    "                continue\n",
    "            else:\n",
    "                raise\n",
    "        break\n",
    "        \n",
    "    stream_url = streams[\"360p\"] #Alternate, use \"best\"\n",
    "\n",
    "    m3u8_obj = m3u8.load(stream_url.args['url'])\n",
    "    return m3u8_obj.segments[0] #Parsed stream\n",
    "\n",
    "\n",
    "def dl_stream(url, filename, chunks):\n",
    "    \"\"\"\n",
    "    Download each chunk to file\n",
    "    input: url, filename, and number of chunks (int)\n",
    "    output: saves file at filename location\n",
    "    returns none.\n",
    "    \"\"\"\n",
    "    pre_time_stamp = 0\n",
    "    \n",
    "    #Repeat for each chunk\n",
    "    #Needs to be in chunks beceause \n",
    "    #  1) it's live and \n",
    "    #  2) it won't let you leave the stream open forever\n",
    "    i=1\n",
    "    while i <= chunks:\n",
    "       \n",
    "        #Open stream\n",
    "        stream_segment = get_stream(url)\n",
    "        #Get current time on video\n",
    "        cur_time_stamp = \\\n",
    "            stream_segment.program_date_time.strftime(\"%Y%m%d-%H%M%S\")\n",
    "        #Only get next time step, wait if it's not new yet\n",
    "        if pre_time_stamp == cur_time_stamp:\n",
    "            #Don't increment counter until we have a new chunk\n",
    "            print(\"NO   pre: \",pre_time_stamp, \"curr:\",cur_time_stamp)\n",
    "            time.sleep(stream_segment.duration/2) #Wait half the duration time\n",
    "            pass\n",
    "        else:\n",
    "            print(\"YES: pre: \",pre_time_stamp, \"curr:\",cur_time_stamp)\n",
    "            print(f'#{i} at time {cur_time_stamp}')\n",
    "            #Open file for writing stream\n",
    "            file = open(filename, 'ab+') #ab+ means keep adding to file\n",
    "            #Write stream to file\n",
    "            with urllib.request.urlopen(stream_segment.uri) as response:\n",
    "                html = response.read()\n",
    "                file.write(html)\n",
    "            #Update time stamp\n",
    "            pre_time_stamp = cur_time_stamp\n",
    "            time.sleep(stream_segment.duration/2) #Wait half the duration time\n",
    "\n",
    "            i += 1 #only increment if we got a new chunk\n",
    "\n",
    "    return None\n",
    "\n",
    "def openCVProcessing(saved_video_file):\n",
    "    '''View saved video with openCV\n",
    "    Add your other steps here'''\n",
    "    capture = cv2.VideoCapture(saved_video_file)\n",
    "\n",
    "    while capture.isOpened():\n",
    "        grabbed, frame = capture.read()  #read in single frame\n",
    "        if grabbed == False:\n",
    "            break\n",
    "\n",
    "        #openCV processing goes here\n",
    "        #\n",
    "        \n",
    "        cv2.imshow('frame',frame)  #Show the frame\n",
    "        \n",
    "        #Shown in a new window, To exit, push q on the keyboard\n",
    "        if cv2.waitKey(20) & 0xFF == ord('q'):\n",
    "            break\n",
    "\n",
    "    capture.release()\n",
    "    cv2.destroyAllWindows()  #close the windows automatically\n",
    "\n",
    "#Do the work    \n",
    "tempFile = \"temp6.ts\"  #files are format ts, open cv can view them\n",
    "videoURL = \"https://youtu.be/DoUOrTJbIu4\" #Jackson hole town square, live stream\n",
    "\n",
    "dl_stream(videoURL, tempFile, 10)\n"
   ]
  },
  {
   "cell_type": "code",
   "execution_count": 3,
   "id": "hairy-accent",
   "metadata": {
    "ExecuteTime": {
     "end_time": "2021-05-18T15:48:40.934420Z",
     "start_time": "2021-05-18T15:47:01.928875Z"
    }
   },
   "outputs": [],
   "source": [
    "#Process the newly made file\n",
    "openCVProcessing(tempFile)"
   ]
  },
  {
   "cell_type": "code",
   "execution_count": 28,
   "id": "emerging-genius",
   "metadata": {
    "ExecuteTime": {
     "end_time": "2021-05-18T14:51:16.965164Z",
     "start_time": "2021-05-18T14:51:16.940852Z"
    }
   },
   "outputs": [
    {
     "ename": "NameError",
     "evalue": "name 'pre_time_stamp' is not defined",
     "output_type": "error",
     "traceback": [
      "\u001b[1;31m---------------------------------------------------------------------------\u001b[0m",
      "\u001b[1;31mNameError\u001b[0m                                 Traceback (most recent call last)",
      "\u001b[1;32m<ipython-input-28-eedb7c32ecc3>\u001b[0m in \u001b[0;36m<module>\u001b[1;34m\u001b[0m\n\u001b[1;32m----> 1\u001b[1;33m \u001b[0mpre_time_stamp\u001b[0m\u001b[1;33m\u001b[0m\u001b[1;33m\u001b[0m\u001b[0m\n\u001b[0m",
      "\u001b[1;31mNameError\u001b[0m: name 'pre_time_stamp' is not defined"
     ]
    }
   ],
   "source": []
  },
  {
   "cell_type": "code",
   "execution_count": 52,
   "id": "ongoing-leonard",
   "metadata": {
    "ExecuteTime": {
     "end_time": "2021-05-12T02:18:11.850869Z",
     "start_time": "2021-05-12T02:18:11.838116Z"
    }
   },
   "outputs": [],
   "source": [
    "#Process newly saved video testing new things\n",
    "def openCVProcessing(saved_video_file):\n",
    "    #View saved video with openCV\n",
    "    capture = cv2.VideoCapture(saved_video_file)\n",
    "\n",
    "    while capture.isOpened():\n",
    "        grabbed, frame = capture.read()  #read in single frame\n",
    "        if grabbed == False:\n",
    "            break\n",
    "\n",
    "        #openCV processing goes here\n",
    "        \n",
    "        \n",
    "        cv2.imshow('frame',frame)  #Show the frame\n",
    "        \n",
    "        #Shown in a new window, To exit, push q on the keyboard\n",
    "        if cv2.waitKey(20) & 0xFF == ord('q'):\n",
    "            break\n",
    "\n",
    "    capture.release()\n",
    "    cv2.destroyAllWindows()  #close the windows automatically\n"
   ]
  },
  {
   "cell_type": "code",
   "execution_count": 46,
   "id": "contrary-string",
   "metadata": {
    "ExecuteTime": {
     "end_time": "2021-05-12T02:02:32.867932Z",
     "start_time": "2021-05-12T02:02:11.570894Z"
    }
   },
   "outputs": [],
   "source": [
    "videoURL = \"https://www.youtube.com/watch?v=DoUOrTJbIu4\"\n",
    "stream_segment = get_stream(videoURL)"
   ]
  },
  {
   "cell_type": "markdown",
   "id": "particular-priority",
   "metadata": {},
   "source": [
    "# Attempt to combine streaming and working into one!"
   ]
  },
  {
   "cell_type": "code",
   "execution_count": 3,
   "id": "interested-indian",
   "metadata": {
    "ExecuteTime": {
     "end_time": "2021-05-12T20:38:00.363538Z",
     "start_time": "2021-05-12T20:37:55.682895Z"
    }
   },
   "outputs": [
    {
     "name": "stdout",
     "output_type": "stream",
     "text": [
      "#1 at time 20210512-203714\n"
     ]
    },
    {
     "ename": "TypeError",
     "evalue": "an integer is required (got type bytes)",
     "output_type": "error",
     "traceback": [
      "\u001b[1;31m---------------------------------------------------------------------------\u001b[0m",
      "\u001b[1;31mTypeError\u001b[0m                                 Traceback (most recent call last)",
      "\u001b[1;32m<ipython-input-3-6656c3b439cf>\u001b[0m in \u001b[0;36m<module>\u001b[1;34m\u001b[0m\n\u001b[0;32m     79\u001b[0m \u001b[0mvideoURL\u001b[0m \u001b[1;33m=\u001b[0m \u001b[1;34m\"https://www.youtube.com/watch?v=DoUOrTJbIu4\"\u001b[0m \u001b[1;31m#Jackson hole town square, live stream\u001b[0m\u001b[1;33m\u001b[0m\u001b[1;33m\u001b[0m\u001b[0m\n\u001b[0;32m     80\u001b[0m \u001b[1;33m\u001b[0m\u001b[0m\n\u001b[1;32m---> 81\u001b[1;33m \u001b[0mdl_stream\u001b[0m\u001b[1;33m(\u001b[0m\u001b[0mvideoURL\u001b[0m\u001b[1;33m,\u001b[0m \u001b[0mtempFile\u001b[0m\u001b[1;33m,\u001b[0m \u001b[1;36m1\u001b[0m\u001b[1;33m)\u001b[0m\u001b[1;33m\u001b[0m\u001b[1;33m\u001b[0m\u001b[0m\n\u001b[0m\u001b[0;32m     82\u001b[0m \u001b[1;31m#openCVProcessing(tempFile)\u001b[0m\u001b[1;33m\u001b[0m\u001b[1;33m\u001b[0m\u001b[1;33m\u001b[0m\u001b[0m\n",
      "\u001b[1;32m<ipython-input-3-6656c3b439cf>\u001b[0m in \u001b[0;36mdl_stream\u001b[1;34m(url, filename, chunks)\u001b[0m\n\u001b[0;32m     67\u001b[0m             \u001b[1;32mwith\u001b[0m \u001b[0murllib\u001b[0m\u001b[1;33m.\u001b[0m\u001b[0mrequest\u001b[0m\u001b[1;33m.\u001b[0m\u001b[0murlopen\u001b[0m\u001b[1;33m(\u001b[0m\u001b[0mstream_segment\u001b[0m\u001b[1;33m.\u001b[0m\u001b[0muri\u001b[0m\u001b[1;33m)\u001b[0m \u001b[1;32mas\u001b[0m \u001b[0mresponse\u001b[0m\u001b[1;33m:\u001b[0m\u001b[1;33m\u001b[0m\u001b[1;33m\u001b[0m\u001b[0m\n\u001b[0;32m     68\u001b[0m                 \u001b[0mhtml\u001b[0m \u001b[1;33m=\u001b[0m \u001b[0mresponse\u001b[0m\u001b[1;33m.\u001b[0m\u001b[0mread\u001b[0m\u001b[1;33m(\u001b[0m\u001b[1;33m)\u001b[0m\u001b[1;33m\u001b[0m\u001b[1;33m\u001b[0m\u001b[0m\n\u001b[1;32m---> 69\u001b[1;33m                 \u001b[0mopenCVProcessing\u001b[0m\u001b[1;33m(\u001b[0m\u001b[0mhtml\u001b[0m\u001b[1;33m)\u001b[0m\u001b[1;33m\u001b[0m\u001b[1;33m\u001b[0m\u001b[0m\n\u001b[0m\u001b[0;32m     70\u001b[0m                 \u001b[1;31m#file.write(html)\u001b[0m\u001b[1;33m\u001b[0m\u001b[1;33m\u001b[0m\u001b[1;33m\u001b[0m\u001b[0m\n\u001b[0;32m     71\u001b[0m             \u001b[1;31m#Update time stamp\u001b[0m\u001b[1;33m\u001b[0m\u001b[1;33m\u001b[0m\u001b[1;33m\u001b[0m\u001b[0m\n",
      "\u001b[1;32m<ipython-input-3-6656c3b439cf>\u001b[0m in \u001b[0;36mopenCVProcessing\u001b[1;34m(saved_video_file)\u001b[0m\n\u001b[0;32m     16\u001b[0m     '''View saved video with openCV\n\u001b[0;32m     17\u001b[0m     Add your other steps here'''\n\u001b[1;32m---> 18\u001b[1;33m     \u001b[0mcapture\u001b[0m \u001b[1;33m=\u001b[0m \u001b[0mcv2\u001b[0m\u001b[1;33m.\u001b[0m\u001b[0mVideoCapture\u001b[0m\u001b[1;33m(\u001b[0m\u001b[0msaved_video_file\u001b[0m\u001b[1;33m)\u001b[0m\u001b[1;33m\u001b[0m\u001b[1;33m\u001b[0m\u001b[0m\n\u001b[0m\u001b[0;32m     19\u001b[0m \u001b[1;33m\u001b[0m\u001b[0m\n\u001b[0;32m     20\u001b[0m     \u001b[1;32mwhile\u001b[0m \u001b[0mcapture\u001b[0m\u001b[1;33m.\u001b[0m\u001b[0misOpened\u001b[0m\u001b[1;33m(\u001b[0m\u001b[1;33m)\u001b[0m\u001b[1;33m:\u001b[0m\u001b[1;33m\u001b[0m\u001b[1;33m\u001b[0m\u001b[0m\n",
      "\u001b[1;31mTypeError\u001b[0m: an integer is required (got type bytes)"
     ]
    }
   ],
   "source": [
    "#Ref: https://stackoverflow.com/questions/55631634/recording-youtube-live-stream-to-file-in-python\n",
    "def get_stream(url):\n",
    "    \"\"\"\n",
    "    Get upload chunk url\n",
    "    input: youtube URL\n",
    "    output: m3u8 object segment\n",
    "    \"\"\"\n",
    "    #Get stream\n",
    "    streams = streamlink.streams(url)\n",
    "    stream_url = streams[\"360p\"] #Alternate, use \"best\"\n",
    "\n",
    "    m3u8_obj = m3u8.load(stream_url.args['url'])\n",
    "    return m3u8_obj.segments[0] #Parsed stream\n",
    "\n",
    "def openCVProcessing(saved_video_file):\n",
    "    '''View saved video with openCV\n",
    "    Add your other steps here'''\n",
    "    capture = cv2.VideoCapture(saved_video_file)\n",
    "\n",
    "    while capture.isOpened():\n",
    "        grabbed, frame = capture.read()  #read in single frame\n",
    "        if grabbed == False:\n",
    "            break\n",
    "\n",
    "        #openCV processing goes here\n",
    "        #\n",
    "        \n",
    "        cv2.imshow('frame',frame)  #Show the frame\n",
    "        \n",
    "        #Shown in a new window, To exit, push q on the keyboard\n",
    "        if cv2.waitKey(20) & 0xFF == ord('q'):\n",
    "            break\n",
    "\n",
    "    capture.release()\n",
    "    cv2.destroyAllWindows()  #close the windows automatically\n",
    "\n",
    "def dl_stream(url, filename, chunks):\n",
    "    \"\"\"\n",
    "    Download each chunk to file\n",
    "    input: url, filename, and number of chunks (int)\n",
    "    output: saves file at filename location\n",
    "    returns none.\n",
    "    \"\"\"\n",
    "    pre_time_stamp = 0\n",
    "    \n",
    "    #Repeat for each chunk\n",
    "    #Needs to be in chunks beceause \n",
    "    #  1) it's live and \n",
    "    #  2) it won't let you leave the stream open forever\n",
    "    i=1\n",
    "    while i <= chunks:\n",
    "       \n",
    "        #Open stream\n",
    "        stream_segment = get_stream(url)\n",
    "        #Get current time\n",
    "        cur_time_stamp = \\\n",
    "            stream_segment.program_date_time.strftime(\"%Y%m%d-%H%M%S\")\n",
    "        #Only get next time step, wait if it's not new yet\n",
    "        if pre_time_stamp == cur_time_stamp:\n",
    "            #Don't increment counter if we didn't get a chunk\n",
    "            pass\n",
    "        else:\n",
    "            print(f'#{i} at time {cur_time_stamp}')\n",
    "            #Open file for writing stream\n",
    "            file = open(filename, 'ab+') #ab+ means keep adding to file\n",
    "            #Write stream to file\n",
    "            with urllib.request.urlopen(stream_segment.uri) as response:\n",
    "                html = response.read()\n",
    "                openCVProcessing(html)\n",
    "                #file.write(html)\n",
    "            #Update time stamp\n",
    "            pre_time_stamp = cur_time_stamp\n",
    "            i += 1 #only increment if we got a new chunk\n",
    "\n",
    "    return None\n",
    "\n",
    "\n",
    "tempFile = \"temp.ts\"  #files are format ts, open cv can view them\n",
    "videoURL = \"https://www.youtube.com/watch?v=DoUOrTJbIu4\" #Jackson hole town square, live stream\n",
    "\n",
    "dl_stream(videoURL, tempFile, 5)\n",
    "#openCVProcessing(tempFile)"
   ]
  },
  {
   "cell_type": "code",
   "execution_count": 31,
   "id": "instant-ballet",
   "metadata": {
    "ExecuteTime": {
     "end_time": "2021-05-18T15:06:04.384565Z",
     "start_time": "2021-05-18T15:05:52.311024Z"
    }
   },
   "outputs": [],
   "source": [
    "#Sandbox/scratch area\n",
    "\n",
    "url = \"https://www.youtube.com/watch?v=DoUOrTJbIu4\" #Jackson hole town square, live stream\n",
    "\n",
    "stream_segment = get_stream(url)\n",
    "#Open file for writing stream\n",
    "file = open(\"test.ts\", 'ab+') #ab+ means keep adding to file\n",
    "#Write stream to file\n",
    "with urllib.request.urlopen(stream_segment.uri) as response:\n",
    "    html = response.read()\n",
    "    #openCVProcessing(html)\n",
    "    file.write(html)\n",
    "    openCVProcessing(\"test.ts\")"
   ]
  },
  {
   "cell_type": "markdown",
   "id": "7108f665",
   "metadata": {},
   "source": [
    "Scratch area"
   ]
  },
  {
   "cell_type": "code",
   "execution_count": null,
   "id": "28354e08",
   "metadata": {},
   "outputs": [],
   "source": []
  },
  {
   "cell_type": "code",
   "execution_count": 7,
   "id": "82132afa",
   "metadata": {},
   "outputs": [
    {
     "name": "stdout",
     "output_type": "stream",
     "text": [
      "Attempt 1 of 10\n",
      "Attempt 2 of 10\n"
     ]
    }
   ],
   "source": [
    "url = \"https://youtu.be/DoUOrTJbIu4\" #Jackson hole town square, live stream\n",
    "stream_segment = get_stream(url)\n"
   ]
  },
  {
   "cell_type": "code",
   "execution_count": 10,
   "id": "6c0c5ee1",
   "metadata": {},
   "outputs": [
    {
     "data": {
      "text/plain": [
       "datetime.datetime(2021, 5, 18, 16, 11, 24, 845000, tzinfo=datetime.timezone(datetime.timedelta(0), '+00:00'))"
      ]
     },
     "execution_count": 10,
     "metadata": {},
     "output_type": "execute_result"
    }
   ],
   "source": [
    "stream_segment.program_date_time"
   ]
  },
  {
   "cell_type": "code",
   "execution_count": 9,
   "id": "294154f3",
   "metadata": {},
   "outputs": [
    {
     "ename": "ParserError",
     "evalue": "Unable to parse string [20210518-161124]",
     "output_type": "error",
     "traceback": [
      "\u001b[1;31m---------------------------------------------------------------------------\u001b[0m",
      "\u001b[1;31mParserError\u001b[0m                               Traceback (most recent call last)",
      "\u001b[1;32m<ipython-input-9-75be06b8dc5c>\u001b[0m in \u001b[0;36m<module>\u001b[1;34m\u001b[0m\n\u001b[1;32m----> 1\u001b[1;33m \u001b[0mpendulum\u001b[0m\u001b[1;33m.\u001b[0m\u001b[0mparse\u001b[0m\u001b[1;33m(\u001b[0m\u001b[0mstream_segment\u001b[0m\u001b[1;33m.\u001b[0m\u001b[0mprogram_date_time\u001b[0m\u001b[1;33m.\u001b[0m\u001b[0mstrftime\u001b[0m\u001b[1;33m(\u001b[0m\u001b[1;34m\"%Y%m%d-%H%M%S\"\u001b[0m\u001b[1;33m)\u001b[0m\u001b[1;33m)\u001b[0m\u001b[1;33m\u001b[0m\u001b[1;33m\u001b[0m\u001b[0m\n\u001b[0m",
      "\u001b[1;32mc:\\users\\rejex\\.conda\\envs\\parking_vacancy_tf2\\lib\\site-packages\\pendulum\\parser.py\u001b[0m in \u001b[0;36mparse\u001b[1;34m(text, **options)\u001b[0m\n\u001b[0;32m     27\u001b[0m     \u001b[0moptions\u001b[0m\u001b[1;33m[\u001b[0m\u001b[1;34m\"now\"\u001b[0m\u001b[1;33m]\u001b[0m \u001b[1;33m=\u001b[0m \u001b[0moptions\u001b[0m\u001b[1;33m.\u001b[0m\u001b[0mget\u001b[0m\u001b[1;33m(\u001b[0m\u001b[1;34m\"now\"\u001b[0m\u001b[1;33m,\u001b[0m \u001b[0mpendulum\u001b[0m\u001b[1;33m.\u001b[0m\u001b[0mget_test_now\u001b[0m\u001b[1;33m(\u001b[0m\u001b[1;33m)\u001b[0m\u001b[1;33m)\u001b[0m\u001b[1;33m\u001b[0m\u001b[1;33m\u001b[0m\u001b[0m\n\u001b[0;32m     28\u001b[0m \u001b[1;33m\u001b[0m\u001b[0m\n\u001b[1;32m---> 29\u001b[1;33m     \u001b[1;32mreturn\u001b[0m \u001b[0m_parse\u001b[0m\u001b[1;33m(\u001b[0m\u001b[0mtext\u001b[0m\u001b[1;33m,\u001b[0m \u001b[1;33m**\u001b[0m\u001b[0moptions\u001b[0m\u001b[1;33m)\u001b[0m\u001b[1;33m\u001b[0m\u001b[1;33m\u001b[0m\u001b[0m\n\u001b[0m\u001b[0;32m     30\u001b[0m \u001b[1;33m\u001b[0m\u001b[0m\n\u001b[0;32m     31\u001b[0m \u001b[1;33m\u001b[0m\u001b[0m\n",
      "\u001b[1;32mc:\\users\\rejex\\.conda\\envs\\parking_vacancy_tf2\\lib\\site-packages\\pendulum\\parser.py\u001b[0m in \u001b[0;36m_parse\u001b[1;34m(text, **options)\u001b[0m\n\u001b[0;32m     43\u001b[0m         \u001b[1;32mreturn\u001b[0m \u001b[0mpendulum\u001b[0m\u001b[1;33m.\u001b[0m\u001b[0mnow\u001b[0m\u001b[1;33m(\u001b[0m\u001b[1;33m)\u001b[0m\u001b[1;33m\u001b[0m\u001b[1;33m\u001b[0m\u001b[0m\n\u001b[0;32m     44\u001b[0m \u001b[1;33m\u001b[0m\u001b[0m\n\u001b[1;32m---> 45\u001b[1;33m     \u001b[0mparsed\u001b[0m \u001b[1;33m=\u001b[0m \u001b[0mbase_parse\u001b[0m\u001b[1;33m(\u001b[0m\u001b[0mtext\u001b[0m\u001b[1;33m,\u001b[0m \u001b[1;33m**\u001b[0m\u001b[0moptions\u001b[0m\u001b[1;33m)\u001b[0m\u001b[1;33m\u001b[0m\u001b[1;33m\u001b[0m\u001b[0m\n\u001b[0m\u001b[0;32m     46\u001b[0m \u001b[1;33m\u001b[0m\u001b[0m\n\u001b[0;32m     47\u001b[0m     \u001b[1;32mif\u001b[0m \u001b[0misinstance\u001b[0m\u001b[1;33m(\u001b[0m\u001b[0mparsed\u001b[0m\u001b[1;33m,\u001b[0m \u001b[0mdatetime\u001b[0m\u001b[1;33m.\u001b[0m\u001b[0mdatetime\u001b[0m\u001b[1;33m)\u001b[0m\u001b[1;33m:\u001b[0m\u001b[1;33m\u001b[0m\u001b[1;33m\u001b[0m\u001b[0m\n",
      "\u001b[1;32mc:\\users\\rejex\\.conda\\envs\\parking_vacancy_tf2\\lib\\site-packages\\pendulum\\parsing\\__init__.py\u001b[0m in \u001b[0;36mparse\u001b[1;34m(text, **options)\u001b[0m\n\u001b[0;32m     72\u001b[0m     \u001b[0m_options\u001b[0m\u001b[1;33m.\u001b[0m\u001b[0mupdate\u001b[0m\u001b[1;33m(\u001b[0m\u001b[0moptions\u001b[0m\u001b[1;33m)\u001b[0m\u001b[1;33m\u001b[0m\u001b[1;33m\u001b[0m\u001b[0m\n\u001b[0;32m     73\u001b[0m \u001b[1;33m\u001b[0m\u001b[0m\n\u001b[1;32m---> 74\u001b[1;33m     \u001b[1;32mreturn\u001b[0m \u001b[0m_normalize\u001b[0m\u001b[1;33m(\u001b[0m\u001b[0m_parse\u001b[0m\u001b[1;33m(\u001b[0m\u001b[0mtext\u001b[0m\u001b[1;33m,\u001b[0m \u001b[1;33m**\u001b[0m\u001b[0m_options\u001b[0m\u001b[1;33m)\u001b[0m\u001b[1;33m,\u001b[0m \u001b[1;33m**\u001b[0m\u001b[0m_options\u001b[0m\u001b[1;33m)\u001b[0m\u001b[1;33m\u001b[0m\u001b[1;33m\u001b[0m\u001b[0m\n\u001b[0m\u001b[0;32m     75\u001b[0m \u001b[1;33m\u001b[0m\u001b[0m\n\u001b[0;32m     76\u001b[0m \u001b[1;33m\u001b[0m\u001b[0m\n",
      "\u001b[1;32mc:\\users\\rejex\\.conda\\envs\\parking_vacancy_tf2\\lib\\site-packages\\pendulum\\parsing\\__init__.py\u001b[0m in \u001b[0;36m_parse\u001b[1;34m(text, **options)\u001b[0m\n\u001b[0;32m    126\u001b[0m     \u001b[1;31m# If not strict\u001b[0m\u001b[1;33m\u001b[0m\u001b[1;33m\u001b[0m\u001b[1;33m\u001b[0m\u001b[0m\n\u001b[0;32m    127\u001b[0m     \u001b[1;32mif\u001b[0m \u001b[0moptions\u001b[0m\u001b[1;33m.\u001b[0m\u001b[0mget\u001b[0m\u001b[1;33m(\u001b[0m\u001b[1;34m\"strict\"\u001b[0m\u001b[1;33m,\u001b[0m \u001b[1;32mTrue\u001b[0m\u001b[1;33m)\u001b[0m\u001b[1;33m:\u001b[0m\u001b[1;33m\u001b[0m\u001b[1;33m\u001b[0m\u001b[0m\n\u001b[1;32m--> 128\u001b[1;33m         \u001b[1;32mraise\u001b[0m \u001b[0mParserError\u001b[0m\u001b[1;33m(\u001b[0m\u001b[1;34m\"Unable to parse string [{}]\"\u001b[0m\u001b[1;33m.\u001b[0m\u001b[0mformat\u001b[0m\u001b[1;33m(\u001b[0m\u001b[0mtext\u001b[0m\u001b[1;33m)\u001b[0m\u001b[1;33m)\u001b[0m\u001b[1;33m\u001b[0m\u001b[1;33m\u001b[0m\u001b[0m\n\u001b[0m\u001b[0;32m    129\u001b[0m \u001b[1;33m\u001b[0m\u001b[0m\n\u001b[0;32m    130\u001b[0m     \u001b[1;32mtry\u001b[0m\u001b[1;33m:\u001b[0m\u001b[1;33m\u001b[0m\u001b[1;33m\u001b[0m\u001b[0m\n",
      "\u001b[1;31mParserError\u001b[0m: Unable to parse string [20210518-161124]"
     ]
    }
   ],
   "source": [
    "pendulum.parse(stream_segment.program_date_time.strftime(\"%Y%m%d-%H%M%S\"))"
   ]
  },
  {
   "cell_type": "code",
   "execution_count": 36,
   "id": "numerical-penetration",
   "metadata": {
    "ExecuteTime": {
     "end_time": "2021-05-18T15:08:04.813974Z",
     "start_time": "2021-05-18T15:08:04.767911Z"
    }
   },
   "outputs": [
    {
     "name": "stdout",
     "output_type": "stream",
     "text": [
      "Help on Segment in module m3u8.model object:\n",
      "\n",
      "class Segment(m3u8.mixins.BasePathMixin)\n",
      " |  Segment(uri=None, base_uri=None, program_date_time=None, current_program_date_time=None, duration=None, title=None, byterange=None, cue_out=False, cue_out_start=False, cue_in=False, discontinuity=False, key=None, scte35=None, scte35_duration=None, keyobject=None, parts=None, init_section=None, dateranges=None, gap_tag=None)\n",
      " |  \n",
      " |  A video segment from a M3U8 playlist\n",
      " |  \n",
      " |  `uri`\n",
      " |    a string with the segment uri\n",
      " |  \n",
      " |  `title`\n",
      " |    title attribute from EXTINF parameter\n",
      " |  \n",
      " |  `program_date_time`\n",
      " |    Returns the EXT-X-PROGRAM-DATE-TIME as a datetime. This field is only set\n",
      " |    if EXT-X-PROGRAM-DATE-TIME exists for this segment\n",
      " |    http://tools.ietf.org/html/draft-pantos-http-live-streaming-07#section-3.3.5\n",
      " |  \n",
      " |  `current_program_date_time`\n",
      " |    Returns a datetime of this segment, either the value of `program_date_time`\n",
      " |    when EXT-X-PROGRAM-DATE-TIME is set or a calculated value based on previous\n",
      " |    segments' EXT-X-PROGRAM-DATE-TIME and EXTINF values\n",
      " |  \n",
      " |  `discontinuity`\n",
      " |    Returns a boolean indicating if a EXT-X-DISCONTINUITY tag exists\n",
      " |    http://tools.ietf.org/html/draft-pantos-http-live-streaming-13#section-3.4.11\n",
      " |  \n",
      " |  `cue_out_start`\n",
      " |    Returns a boolean indicating if a EXT-X-CUE-OUT tag exists\n",
      " |  \n",
      " |  `cue_out`\n",
      " |    Returns a boolean indicating if a EXT-X-CUE-OUT-CONT tag exists\n",
      " |    Note: for backwards compatibility, this will be True when cue_out_start\n",
      " |          is True, even though this tag did not exist in the input, and\n",
      " |          EXT-X-CUE-OUT-CONT will not exist in the output\n",
      " |  \n",
      " |  `cue_in`\n",
      " |    Returns a boolean indicating if a EXT-X-CUE-IN tag exists\n",
      " |  \n",
      " |  `scte35`\n",
      " |    Base64 encoded SCTE35 metadata if available\n",
      " |  \n",
      " |  `scte35_duration`\n",
      " |    Planned SCTE35 duration\n",
      " |  \n",
      " |  `duration`\n",
      " |    duration attribute from EXTINF parameter\n",
      " |  \n",
      " |  `base_uri`\n",
      " |    uri the key comes from in URI hierarchy. ex.: http://example.com/path/to\n",
      " |  \n",
      " |  `byterange`\n",
      " |    byterange attribute from EXT-X-BYTERANGE parameter\n",
      " |  \n",
      " |  `key`\n",
      " |    Key used to encrypt the segment (EXT-X-KEY)\n",
      " |  \n",
      " |  `parts`\n",
      " |    partial segments that make up this segment\n",
      " |  \n",
      " |  `dateranges`\n",
      " |    any dateranges that should  preceed the segment\n",
      " |  \n",
      " |  `gap_tag`\n",
      " |    GAP tag indicates that a Media Segment is missing\n",
      " |  \n",
      " |  Method resolution order:\n",
      " |      Segment\n",
      " |      m3u8.mixins.BasePathMixin\n",
      " |      builtins.object\n",
      " |  \n",
      " |  Methods defined here:\n",
      " |  \n",
      " |  __init__(self, uri=None, base_uri=None, program_date_time=None, current_program_date_time=None, duration=None, title=None, byterange=None, cue_out=False, cue_out_start=False, cue_in=False, discontinuity=False, key=None, scte35=None, scte35_duration=None, keyobject=None, parts=None, init_section=None, dateranges=None, gap_tag=None)\n",
      " |      Initialize self.  See help(type(self)) for accurate signature.\n",
      " |  \n",
      " |  __str__(self)\n",
      " |      Return str(self).\n",
      " |  \n",
      " |  add_part(self, part)\n",
      " |  \n",
      " |  dumps(self, last_segment)\n",
      " |  \n",
      " |  ----------------------------------------------------------------------\n",
      " |  Data descriptors defined here:\n",
      " |  \n",
      " |  base_path\n",
      " |  \n",
      " |  base_uri\n",
      " |  \n",
      " |  ----------------------------------------------------------------------\n",
      " |  Methods inherited from m3u8.mixins.BasePathMixin:\n",
      " |  \n",
      " |  get_path_from_uri(self)\n",
      " |      Some URIs have a slash in the query string.\n",
      " |  \n",
      " |  ----------------------------------------------------------------------\n",
      " |  Data descriptors inherited from m3u8.mixins.BasePathMixin:\n",
      " |  \n",
      " |  __dict__\n",
      " |      dictionary for instance variables (if defined)\n",
      " |  \n",
      " |  __weakref__\n",
      " |      list of weak references to the object (if defined)\n",
      " |  \n",
      " |  absolute_uri\n",
      "\n"
     ]
    }
   ],
   "source": [
    "help(stream_segment)"
   ]
  },
  {
   "cell_type": "code",
   "execution_count": 47,
   "id": "careful-romania",
   "metadata": {
    "ExecuteTime": {
     "end_time": "2021-05-18T15:38:04.634275Z",
     "start_time": "2021-05-18T15:38:04.599368Z"
    }
   },
   "outputs": [
    {
     "data": {
      "text/plain": [
       "[('__class__', m3u8.model.Segment),\n",
       " ('__delattr__',\n",
       "  <method-wrapper '__delattr__' of Segment object at 0x000002A10E0A8F28>),\n",
       " ('__dict__',\n",
       "  {'uri': 'https://r5---sn-q4fl6nsy.googlevideo.com/videoplayback/id/DoUOrTJbIu4.0/itag/93/source/yt_live_broadcast/expire/1621371952/ei/0NejYNH-Hpupir4Pwei-wAM/ip/75.60.121.193/requiressl/yes/ratebypass/yes/live/1/sgoap/gir%3Dyes%3Bitag%3D140/sgovp/gir%3Dyes%3Bitag%3D134/hls_chunk_host/r5---sn-q4fl6nsy.googlevideo.com/playlist_duration/30/manifest_duration/30/vprv/1/playlist_type/DVR/initcwndbps/9360/mh/9I/mm/44/mn/sn-q4fl6nsy/ms/lva/mv/m/mvi/5/pl/24/keepalive/yes/fexp/24001373,24007246/mt/1621349559/sparams/expire,ei,ip,id,itag,source,requiressl,ratebypass,live,sgoap,sgovp,playlist_duration,manifest_duration,vprv,playlist_type/sig/AOq0QJ8wRgIhAKvALUF27ZSiGhHdsISTaFFF7A2-Sa6rs6Ef4JoZgzIEAiEAk0bWcYmWedj_CxSMANrIX2c8tLlmT9TX9oUhmbotQZY%3D/lsparams/hls_chunk_host,initcwndbps,mh,mm,mn,ms,mv,mvi,pl/lsig/AG3C_xAwRQIgOO3HTCLhz3zUeuUHEq-Qt6XuOMRAVzpDCLH3EJUB7rACIQDpm3YPeYaSz3S3VsYCxlFMJT7-XUBYYeM94NR2_VBEAA%3D%3D/playlist/index.m3u8/sq/6384529/goap/clen%3D81126%3Blmt%3D1621187225209444/govp/clen%3D125607%3Blmt%3D1621187225209439/dur/5.000/file/seg.ts',\n",
       "   'duration': 5.0,\n",
       "   'title': '',\n",
       "   '_base_uri': 'https://manifest.googlevideo.com/api/manifest/hls_playlist/expire/1621371952/ei/0NejYNH-Hpupir4Pwei-wAM/ip/75.60.121.193/id/DoUOrTJbIu4.0/itag/93/source/yt_live_broadcast/requiressl/yes/ratebypass/yes/live/1/sgoap/gir%3Dyes%3Bitag%3D140/sgovp/gir%3Dyes%3Bitag%3D134/hls_chunk_host/r5---sn-q4fl6nsy.googlevideo.com/playlist_duration/30/manifest_duration/30/vprv/1/playlist_type/DVR/initcwndbps/9360/mh/9I/mm/44/mn/sn-q4fl6nsy/ms/lva/mv/m/mvi/5/pl/24/dover/11/keepalive/yes/fexp/24001373,24007246/mt/1621349559/sparams/expire,ei,ip,id,itag,source,requiressl,ratebypass,live,sgoap,sgovp,playlist_duration,manifest_duration,vprv,playlist_type/sig/AOq0QJ8wRgIhAKvALUF27ZSiGhHdsISTaFFF7A2-Sa6rs6Ef4JoZgzIEAiEAk0bWcYmWedj_CxSMANrIX2c8tLlmT9TX9oUhmbotQZY%3D/lsparams/hls_chunk_host,initcwndbps,mh,mm,mn,ms,mv,mvi,pl/lsig/AG3C_xAwRQIgOO3HTCLhz3zUeuUHEq-Qt6XuOMRAVzpDCLH3EJUB7rACIQDpm3YPeYaSz3S3VsYCxlFMJT7-XUBYYeM94NR2_VBEAA%3D%3D/playlist/',\n",
       "   'byterange': None,\n",
       "   'program_date_time': datetime.datetime(2021, 5, 18, 15, 5, 9, 887000, tzinfo=datetime.timezone(datetime.timedelta(0), '+00:00')),\n",
       "   'current_program_date_time': datetime.datetime(2021, 5, 18, 15, 5, 9, 887000, tzinfo=datetime.timezone(datetime.timedelta(0), '+00:00')),\n",
       "   'discontinuity': False,\n",
       "   'cue_out_start': False,\n",
       "   'cue_out': False,\n",
       "   'cue_in': False,\n",
       "   'scte35': None,\n",
       "   'scte35_duration': None,\n",
       "   'key': None,\n",
       "   'parts': [],\n",
       "   'init_section': None,\n",
       "   'dateranges': [],\n",
       "   'gap_tag': None}),\n",
       " ('__doc__',\n",
       "  \"\\n    A video segment from a M3U8 playlist\\n\\n    `uri`\\n      a string with the segment uri\\n\\n    `title`\\n      title attribute from EXTINF parameter\\n\\n    `program_date_time`\\n      Returns the EXT-X-PROGRAM-DATE-TIME as a datetime. This field is only set\\n      if EXT-X-PROGRAM-DATE-TIME exists for this segment\\n      http://tools.ietf.org/html/draft-pantos-http-live-streaming-07#section-3.3.5\\n\\n    `current_program_date_time`\\n      Returns a datetime of this segment, either the value of `program_date_time`\\n      when EXT-X-PROGRAM-DATE-TIME is set or a calculated value based on previous\\n      segments' EXT-X-PROGRAM-DATE-TIME and EXTINF values\\n\\n    `discontinuity`\\n      Returns a boolean indicating if a EXT-X-DISCONTINUITY tag exists\\n      http://tools.ietf.org/html/draft-pantos-http-live-streaming-13#section-3.4.11\\n\\n    `cue_out_start`\\n      Returns a boolean indicating if a EXT-X-CUE-OUT tag exists\\n\\n    `cue_out`\\n      Returns a boolean indicating if a EXT-X-CUE-OUT-CONT tag exists\\n      Note: for backwards compatibility, this will be True when cue_out_start\\n            is True, even though this tag did not exist in the input, and\\n            EXT-X-CUE-OUT-CONT will not exist in the output\\n\\n    `cue_in`\\n      Returns a boolean indicating if a EXT-X-CUE-IN tag exists\\n\\n    `scte35`\\n      Base64 encoded SCTE35 metadata if available\\n\\n    `scte35_duration`\\n      Planned SCTE35 duration\\n\\n    `duration`\\n      duration attribute from EXTINF parameter\\n\\n    `base_uri`\\n      uri the key comes from in URI hierarchy. ex.: http://example.com/path/to\\n\\n    `byterange`\\n      byterange attribute from EXT-X-BYTERANGE parameter\\n\\n    `key`\\n      Key used to encrypt the segment (EXT-X-KEY)\\n\\n    `parts`\\n      partial segments that make up this segment\\n\\n    `dateranges`\\n      any dateranges that should  preceed the segment\\n\\n    `gap_tag`\\n      GAP tag indicates that a Media Segment is missing\\n    \"),\n",
       " ('__eq__', <method-wrapper '__eq__' of Segment object at 0x000002A10E0A8F28>),\n",
       " ('__ge__', <method-wrapper '__ge__' of Segment object at 0x000002A10E0A8F28>),\n",
       " ('__getattribute__',\n",
       "  <method-wrapper '__getattribute__' of Segment object at 0x000002A10E0A8F28>),\n",
       " ('__gt__', <method-wrapper '__gt__' of Segment object at 0x000002A10E0A8F28>),\n",
       " ('__hash__',\n",
       "  <method-wrapper '__hash__' of Segment object at 0x000002A10E0A8F28>),\n",
       " ('__le__', <method-wrapper '__le__' of Segment object at 0x000002A10E0A8F28>),\n",
       " ('__lt__', <method-wrapper '__lt__' of Segment object at 0x000002A10E0A8F28>),\n",
       " ('__module__', 'm3u8.model'),\n",
       " ('__ne__', <method-wrapper '__ne__' of Segment object at 0x000002A10E0A8F28>),\n",
       " ('__repr__',\n",
       "  <method-wrapper '__repr__' of Segment object at 0x000002A10E0A8F28>),\n",
       " ('__setattr__',\n",
       "  <method-wrapper '__setattr__' of Segment object at 0x000002A10E0A8F28>),\n",
       " ('__weakref__', None),\n",
       " ('_base_uri',\n",
       "  'https://manifest.googlevideo.com/api/manifest/hls_playlist/expire/1621371952/ei/0NejYNH-Hpupir4Pwei-wAM/ip/75.60.121.193/id/DoUOrTJbIu4.0/itag/93/source/yt_live_broadcast/requiressl/yes/ratebypass/yes/live/1/sgoap/gir%3Dyes%3Bitag%3D140/sgovp/gir%3Dyes%3Bitag%3D134/hls_chunk_host/r5---sn-q4fl6nsy.googlevideo.com/playlist_duration/30/manifest_duration/30/vprv/1/playlist_type/DVR/initcwndbps/9360/mh/9I/mm/44/mn/sn-q4fl6nsy/ms/lva/mv/m/mvi/5/pl/24/dover/11/keepalive/yes/fexp/24001373,24007246/mt/1621349559/sparams/expire,ei,ip,id,itag,source,requiressl,ratebypass,live,sgoap,sgovp,playlist_duration,manifest_duration,vprv,playlist_type/sig/AOq0QJ8wRgIhAKvALUF27ZSiGhHdsISTaFFF7A2-Sa6rs6Ef4JoZgzIEAiEAk0bWcYmWedj_CxSMANrIX2c8tLlmT9TX9oUhmbotQZY%3D/lsparams/hls_chunk_host,initcwndbps,mh,mm,mn,ms,mv,mvi,pl/lsig/AG3C_xAwRQIgOO3HTCLhz3zUeuUHEq-Qt6XuOMRAVzpDCLH3EJUB7rACIQDpm3YPeYaSz3S3VsYCxlFMJT7-XUBYYeM94NR2_VBEAA%3D%3D/playlist/'),\n",
       " ('absolute_uri',\n",
       "  'https://r5---sn-q4fl6nsy.googlevideo.com/videoplayback/id/DoUOrTJbIu4.0/itag/93/source/yt_live_broadcast/expire/1621371952/ei/0NejYNH-Hpupir4Pwei-wAM/ip/75.60.121.193/requiressl/yes/ratebypass/yes/live/1/sgoap/gir%3Dyes%3Bitag%3D140/sgovp/gir%3Dyes%3Bitag%3D134/hls_chunk_host/r5---sn-q4fl6nsy.googlevideo.com/playlist_duration/30/manifest_duration/30/vprv/1/playlist_type/DVR/initcwndbps/9360/mh/9I/mm/44/mn/sn-q4fl6nsy/ms/lva/mv/m/mvi/5/pl/24/keepalive/yes/fexp/24001373,24007246/mt/1621349559/sparams/expire,ei,ip,id,itag,source,requiressl,ratebypass,live,sgoap,sgovp,playlist_duration,manifest_duration,vprv,playlist_type/sig/AOq0QJ8wRgIhAKvALUF27ZSiGhHdsISTaFFF7A2-Sa6rs6Ef4JoZgzIEAiEAk0bWcYmWedj_CxSMANrIX2c8tLlmT9TX9oUhmbotQZY%3D/lsparams/hls_chunk_host,initcwndbps,mh,mm,mn,ms,mv,mvi,pl/lsig/AG3C_xAwRQIgOO3HTCLhz3zUeuUHEq-Qt6XuOMRAVzpDCLH3EJUB7rACIQDpm3YPeYaSz3S3VsYCxlFMJT7-XUBYYeM94NR2_VBEAA%3D%3D/playlist/index.m3u8/sq/6384529/goap/clen%3D81126%3Blmt%3D1621187225209444/govp/clen%3D125607%3Blmt%3D1621187225209439/dur/5.000/file/seg.ts'),\n",
       " ('base_path',\n",
       "  'https://r5---sn-q4fl6nsy.googlevideo.com/videoplayback/id/DoUOrTJbIu4.0/itag/93/source/yt_live_broadcast/expire/1621371952/ei/0NejYNH-Hpupir4Pwei-wAM/ip/75.60.121.193/requiressl/yes/ratebypass/yes/live/1/sgoap/gir%3Dyes%3Bitag%3D140/sgovp/gir%3Dyes%3Bitag%3D134/hls_chunk_host/r5---sn-q4fl6nsy.googlevideo.com/playlist_duration/30/manifest_duration/30/vprv/1/playlist_type/DVR/initcwndbps/9360/mh/9I/mm/44/mn/sn-q4fl6nsy/ms/lva/mv/m/mvi/5/pl/24/keepalive/yes/fexp/24001373,24007246/mt/1621349559/sparams/expire,ei,ip,id,itag,source,requiressl,ratebypass,live,sgoap,sgovp,playlist_duration,manifest_duration,vprv,playlist_type/sig/AOq0QJ8wRgIhAKvALUF27ZSiGhHdsISTaFFF7A2-Sa6rs6Ef4JoZgzIEAiEAk0bWcYmWedj_CxSMANrIX2c8tLlmT9TX9oUhmbotQZY%3D/lsparams/hls_chunk_host,initcwndbps,mh,mm,mn,ms,mv,mvi,pl/lsig/AG3C_xAwRQIgOO3HTCLhz3zUeuUHEq-Qt6XuOMRAVzpDCLH3EJUB7rACIQDpm3YPeYaSz3S3VsYCxlFMJT7-XUBYYeM94NR2_VBEAA%3D%3D/playlist/index.m3u8/sq/6384529/goap/clen%3D81126%3Blmt%3D1621187225209444/govp/clen%3D125607%3Blmt%3D1621187225209439/dur/5.000/file'),\n",
       " ('base_uri',\n",
       "  'https://manifest.googlevideo.com/api/manifest/hls_playlist/expire/1621371952/ei/0NejYNH-Hpupir4Pwei-wAM/ip/75.60.121.193/id/DoUOrTJbIu4.0/itag/93/source/yt_live_broadcast/requiressl/yes/ratebypass/yes/live/1/sgoap/gir%3Dyes%3Bitag%3D140/sgovp/gir%3Dyes%3Bitag%3D134/hls_chunk_host/r5---sn-q4fl6nsy.googlevideo.com/playlist_duration/30/manifest_duration/30/vprv/1/playlist_type/DVR/initcwndbps/9360/mh/9I/mm/44/mn/sn-q4fl6nsy/ms/lva/mv/m/mvi/5/pl/24/dover/11/keepalive/yes/fexp/24001373,24007246/mt/1621349559/sparams/expire,ei,ip,id,itag,source,requiressl,ratebypass,live,sgoap,sgovp,playlist_duration,manifest_duration,vprv,playlist_type/sig/AOq0QJ8wRgIhAKvALUF27ZSiGhHdsISTaFFF7A2-Sa6rs6Ef4JoZgzIEAiEAk0bWcYmWedj_CxSMANrIX2c8tLlmT9TX9oUhmbotQZY%3D/lsparams/hls_chunk_host,initcwndbps,mh,mm,mn,ms,mv,mvi,pl/lsig/AG3C_xAwRQIgOO3HTCLhz3zUeuUHEq-Qt6XuOMRAVzpDCLH3EJUB7rACIQDpm3YPeYaSz3S3VsYCxlFMJT7-XUBYYeM94NR2_VBEAA%3D%3D/playlist/'),\n",
       " ('byterange', None),\n",
       " ('cue_in', False),\n",
       " ('cue_out', False),\n",
       " ('cue_out_start', False),\n",
       " ('current_program_date_time',\n",
       "  datetime.datetime(2021, 5, 18, 15, 5, 9, 887000, tzinfo=datetime.timezone(datetime.timedelta(0), '+00:00'))),\n",
       " ('dateranges', []),\n",
       " ('discontinuity', False),\n",
       " ('duration', 5.0),\n",
       " ('gap_tag', None),\n",
       " ('init_section', None),\n",
       " ('key', None),\n",
       " ('parts', []),\n",
       " ('program_date_time',\n",
       "  datetime.datetime(2021, 5, 18, 15, 5, 9, 887000, tzinfo=datetime.timezone(datetime.timedelta(0), '+00:00'))),\n",
       " ('scte35', None),\n",
       " ('scte35_duration', None),\n",
       " ('title', ''),\n",
       " ('uri',\n",
       "  'https://r5---sn-q4fl6nsy.googlevideo.com/videoplayback/id/DoUOrTJbIu4.0/itag/93/source/yt_live_broadcast/expire/1621371952/ei/0NejYNH-Hpupir4Pwei-wAM/ip/75.60.121.193/requiressl/yes/ratebypass/yes/live/1/sgoap/gir%3Dyes%3Bitag%3D140/sgovp/gir%3Dyes%3Bitag%3D134/hls_chunk_host/r5---sn-q4fl6nsy.googlevideo.com/playlist_duration/30/manifest_duration/30/vprv/1/playlist_type/DVR/initcwndbps/9360/mh/9I/mm/44/mn/sn-q4fl6nsy/ms/lva/mv/m/mvi/5/pl/24/keepalive/yes/fexp/24001373,24007246/mt/1621349559/sparams/expire,ei,ip,id,itag,source,requiressl,ratebypass,live,sgoap,sgovp,playlist_duration,manifest_duration,vprv,playlist_type/sig/AOq0QJ8wRgIhAKvALUF27ZSiGhHdsISTaFFF7A2-Sa6rs6Ef4JoZgzIEAiEAk0bWcYmWedj_CxSMANrIX2c8tLlmT9TX9oUhmbotQZY%3D/lsparams/hls_chunk_host,initcwndbps,mh,mm,mn,ms,mv,mvi,pl/lsig/AG3C_xAwRQIgOO3HTCLhz3zUeuUHEq-Qt6XuOMRAVzpDCLH3EJUB7rACIQDpm3YPeYaSz3S3VsYCxlFMJT7-XUBYYeM94NR2_VBEAA%3D%3D/playlist/index.m3u8/sq/6384529/goap/clen%3D81126%3Blmt%3D1621187225209444/govp/clen%3D125607%3Blmt%3D1621187225209439/dur/5.000/file/seg.ts')]"
      ]
     },
     "execution_count": 47,
     "metadata": {},
     "output_type": "execute_result"
    }
   ],
   "source": [
    "import inspect\n",
    "\n",
    "inspect.getmembers(stream_segment, lambda a:not(inspect.isroutine(a)))\n"
   ]
  }
 ],
 "metadata": {
  "kernelspec": {
   "display_name": "Python 3",
   "language": "python",
   "name": "python3"
  },
  "language_info": {
   "codemirror_mode": {
    "name": "ipython",
    "version": 3
   },
   "file_extension": ".py",
   "mimetype": "text/x-python",
   "name": "python",
   "nbconvert_exporter": "python",
   "pygments_lexer": "ipython3",
   "version": "3.7.10"
  },
  "toc": {
   "base_numbering": 1,
   "nav_menu": {},
   "number_sections": true,
   "sideBar": true,
   "skip_h1_title": false,
   "title_cell": "Table of Contents",
   "title_sidebar": "Contents",
   "toc_cell": false,
   "toc_position": {},
   "toc_section_display": true,
   "toc_window_display": false
  }
 },
 "nbformat": 4,
 "nbformat_minor": 5
}
