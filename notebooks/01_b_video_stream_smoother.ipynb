{
 "cells": [
  {
   "cell_type": "code",
   "execution_count": 1,
   "id": "funny-chemistry",
   "metadata": {
    "ExecuteTime": {
     "end_time": "2021-05-25T18:56:04.318083Z",
     "start_time": "2021-05-25T18:56:02.648078Z"
    }
   },
   "outputs": [],
   "source": [
    "# pip install urllib\n",
    "# pip install m3u8\n",
    "# pip install streamlink\n",
    "from datetime import datetime, timedelta, timezone\n",
    "import urllib\n",
    "import m3u8\n",
    "import streamlink\n",
    "import cv2 #openCV\n",
    "import time\n",
    "import numpy as np\n",
    "import matplotlib.pyplot as plt\n",
    "\n",
    "import pafy #for youtube streaming, requires youtube-dl\n",
    "\n"
   ]
  },
  {
   "cell_type": "markdown",
   "id": "coral-aviation",
   "metadata": {
    "heading_collapsed": true
   },
   "source": [
    "# Primary code for getting a youtube file\n",
    "\n",
    "## IMPORTANT!\n",
    "This version was working great.  It smoothly pulls the stream and splices it together.  Then something changed with YouTube (or I was blocked?) and no longer works.  \n",
    "\n",
    "__Update__ After much effort, it seems like passing in a pafy URL fixes the issue and this does indeed work.  "
   ]
  },
  {
   "cell_type": "code",
   "execution_count": 6,
   "id": "brazilian-navigator",
   "metadata": {
    "ExecuteTime": {
     "end_time": "2021-05-25T02:38:42.857620Z",
     "start_time": "2021-05-25T02:38:40.619048Z"
    },
    "hidden": true
   },
   "outputs": [
    {
     "name": "stdout",
     "output_type": "stream",
     "text": [
      "[normal:mp4@256x144, normal:mp4@426x240, normal:mp4@640x360, normal:mp4@854x480, normal:mp4@1280x720, normal:mp4@1920x1080]\n"
     ]
    }
   ],
   "source": [
    "videoURL = \"https://www.youtube.com/watch?v=DoUOrTJbIu4\" #Jackson hole town square, live stream\n",
    "\n",
    "video = pafy.new(videoURL)\n",
    "\n",
    "#only working on this specific video, lets confirm\n",
    "assert (\"Jackson Wyoming Town Square Live Webcam\" in video.title) \n",
    "\n",
    "best = video.getbest(preftype=\"mp4\")  #Get best resolution stream available\n",
    "medVid = video.streams[2]\n",
    "\n",
    "#See all stream qualitys\n",
    "print(video.streams)"
   ]
  },
  {
   "cell_type": "code",
   "execution_count": null,
   "id": "prerequisite-talent",
   "metadata": {
    "ExecuteTime": {
     "end_time": "2021-05-25T02:38:42.886130Z",
     "start_time": "2021-05-25T02:38:42.860615Z"
    },
    "hidden": true
   },
   "outputs": [],
   "source": []
  },
  {
   "cell_type": "code",
   "execution_count": null,
   "id": "disturbed-chase",
   "metadata": {
    "hidden": true
   },
   "outputs": [],
   "source": []
  },
  {
   "cell_type": "code",
   "execution_count": 10,
   "id": "lasting-hanging",
   "metadata": {
    "ExecuteTime": {
     "end_time": "2021-05-25T15:16:46.594483Z",
     "start_time": "2021-05-25T15:16:46.287636Z"
    },
    "hidden": true
   },
   "outputs": [
    {
     "name": "stdout",
     "output_type": "stream",
     "text": [
      "YES: pre:  0001-01-01 00:00:00+00:00 curr: 2021-05-28 06:07:08.420000+00:00\n",
      "#1 at time 2021-05-28 06:07:08.420000+00:00\n"
     ]
    }
   ],
   "source": [
    "#Ref: https://stackoverflow.com/questions/55631634/recording-youtube-live-stream-to-file-in-python\n",
    "def get_stream(url):\n",
    "    \"\"\"\n",
    "    Get upload chunk url\n",
    "    input: youtube URL\n",
    "    output: m3u8 object segment\n",
    "    \"\"\"\n",
    "    \n",
    "    #Try this line tries number of times, if it doesn't work, \n",
    "    # then show the exception on the last attempt\n",
    "    # Credit, theherk, https://stackoverflow.com/questions/2083987/how-to-retry-after-exception\n",
    "    tries = 10\n",
    "    for i in range(tries):\n",
    "        try:\n",
    "            streams = streamlink.streams(url)\n",
    "        except:\n",
    "            if i < tries - 1: # i is zero indexed\n",
    "                print(f\"Attempt {i+1} of {tries}\")\n",
    "                time.sleep(0.1) #Wait half a second\n",
    "                continue\n",
    "            else:\n",
    "                raise\n",
    "        break\n",
    "    #print(f\"Stream choices: {streams.keys()})\n",
    "    stream_url = streams[\"best\"] #Alternate, use \"best\"\n",
    "\n",
    "    m3u8_obj = m3u8.load(stream_url.args['url'])\n",
    "    return m3u8_obj.segments[0] #Parsed stream\n",
    "\n",
    "\n",
    "def dl_stream(url, filename, chunks):\n",
    "    \"\"\"\n",
    "    Download each chunk to file\n",
    "    input: url, filename, and number of chunks (int)\n",
    "    output: saves file at filename location\n",
    "    returns none.\n",
    "    \"\"\"\n",
    "    pre_time_stamp = datetime(1, 1, 1, 0, 0, tzinfo=timezone.utc)\n",
    "\n",
    "    \n",
    "    #Repeat for each chunk\n",
    "    #Needs to be in chunks beceause \n",
    "    #  1) it's live and \n",
    "    #  2) it won't let you leave the stream open forever\n",
    "    i=1\n",
    "    while i <= chunks:\n",
    "       \n",
    "        #Open stream\n",
    "        stream_segment = get_stream(url)\n",
    "        \n",
    "        #Get current time on video\n",
    "        cur_time_stamp = stream_segment.program_date_time\n",
    "        #Only get next time step, wait if it's not new yet\n",
    "        if cur_time_stamp <= pre_time_stamp:\n",
    "            #Don't increment counter until we have a new chunk\n",
    "            print(\"NO   pre: \",pre_time_stamp, \"curr:\",cur_time_stamp)\n",
    "            time.sleep(0.5) #Wait half a sec\n",
    "            pass\n",
    "        else:\n",
    "            print(\"YES: pre: \",pre_time_stamp, \"curr:\",cur_time_stamp)\n",
    "            print(f'#{i} at time {cur_time_stamp}')\n",
    "            #Open file for writing stream\n",
    "            file = open(filename, 'ab+') #ab+ means keep adding to file\n",
    "            #Write stream to file\n",
    "            with urllib.request.urlopen(stream_segment.uri) as response:\n",
    "                html = response.read()\n",
    "                file.write(html)\n",
    "                \n",
    "            #Update time stamp\n",
    "            pre_time_stamp = cur_time_stamp\n",
    "            time.sleep(stream_segment.duration) #Wait duration time - 1\n",
    "\n",
    "            i += 1 #only increment if we got a new chunk\n",
    "\n",
    "    return None\n",
    "\n",
    "def openCVProcessing(saved_video_file):\n",
    "    '''View saved video with openCV\n",
    "    Add your other steps here'''\n",
    "    capture = cv2.VideoCapture(saved_video_file)\n",
    "\n",
    "    while capture.isOpened():\n",
    "        grabbed, frame = capture.read()  #read in single frame\n",
    "        if grabbed == False:\n",
    "            break\n",
    "\n",
    "        #openCV processing goes here\n",
    "        #\n",
    "        \n",
    "        cv2.imshow('frame',frame)  #Show the frame\n",
    "        \n",
    "        #Shown in a new window, To exit, push q on the keyboard\n",
    "        if cv2.waitKey(20) & 0xFF == ord('q'):\n",
    "            break\n",
    "\n",
    "    capture.release()\n",
    "    cv2.destroyAllWindows()  #close the windows automatically\n",
    "\n",
    "#Do the work    \n",
    "tempFile = \"no_cars_test.ts\"  #files are format ts, open cv can view them\n",
    "videoURL = \"https://youtu.be/DoUOrTJbIu4\" #Jackson hole town square, live stream\n",
    "\n",
    "dl_stream(medVid.url, tempFile, 1)\n"
   ]
  },
  {
   "cell_type": "code",
   "execution_count": 5,
   "id": "862ef53f",
   "metadata": {
    "ExecuteTime": {
     "end_time": "2021-05-25T02:39:35.284185Z",
     "start_time": "2021-05-25T02:39:35.271153Z"
    },
    "hidden": true
   },
   "outputs": [
    {
     "data": {
      "text/plain": [
       "'https://r1---sn-q4fl6nss.googlevideo.com/videoplayback?expire=1622203485&ei=_YewYJaqBpmCir4P6oWViAw&ip=75.60.121.193&id=o-AApYAljzhJjsPE-EOY1RJZOuOdAGdXaqTeLF2kedI_oD&itag=18&source=youtube&requiressl=yes&mh=6G&mm=31%2C29&mn=sn-q4fl6nss%2Csn-q4flrner&ms=au%2Crdu&mv=m&mvi=1&pl=20&initcwndbps=1508750&vprv=1&mime=video%2Fmp4&ns=uitTBpOXz2-wLpvX-UqizxAF&gir=yes&clen=125542291&ratebypass=yes&dur=1538.693&lmt=1585343465402181&mt=1622181191&fvip=1&fexp=24001373%2C24007246&c=WEB&txp=5431432&n=955Q2JsLixwlhpm6lk&sparams=expire%2Cei%2Cip%2Cid%2Citag%2Csource%2Crequiressl%2Cvprv%2Cmime%2Cns%2Cgir%2Cclen%2Cratebypass%2Cdur%2Clmt&sig=AOq0QJ8wRgIhAOBlx0iWtz0HI7K_mKz2amKYd5ZXfjiYJXgep-QNe8D8AiEA8QQvN6RT5YI2ZBFlrKJdzp0pidlh-y8wvLOvabgPldY%3D&lsparams=mh%2Cmm%2Cmn%2Cms%2Cmv%2Cmvi%2Cpl%2Cinitcwndbps&lsig=AG3C_xAwRQIhAIui8H3I8oOd06UPnN-rcGftj6dkC4ehkle69WqrT303AiAei4kTCU50K7IaxgmPBSScfv5TWXufKiyFm0Kxa3GjVA%3D%3D'"
      ]
     },
     "execution_count": 5,
     "metadata": {},
     "output_type": "execute_result"
    }
   ],
   "source": [
    "medVid.url"
   ]
  },
  {
   "cell_type": "code",
   "execution_count": 11,
   "id": "hairy-accent",
   "metadata": {
    "ExecuteTime": {
     "end_time": "2021-05-25T02:42:32.274871Z",
     "start_time": "2021-05-25T02:41:41.805116Z"
    },
    "hidden": true
   },
   "outputs": [],
   "source": [
    "#Process the newly made file\n",
    "openCVProcessing(tempFile)"
   ]
  },
  {
   "cell_type": "code",
   "execution_count": 28,
   "id": "emerging-genius",
   "metadata": {
    "ExecuteTime": {
     "end_time": "2021-05-18T14:51:16.965164Z",
     "start_time": "2021-05-18T14:51:16.940852Z"
    },
    "hidden": true
   },
   "outputs": [
    {
     "ename": "NameError",
     "evalue": "name 'pre_time_stamp' is not defined",
     "output_type": "error",
     "traceback": [
      "\u001b[1;31m---------------------------------------------------------------------------\u001b[0m",
      "\u001b[1;31mNameError\u001b[0m                                 Traceback (most recent call last)",
      "\u001b[1;32m<ipython-input-28-eedb7c32ecc3>\u001b[0m in \u001b[0;36m<module>\u001b[1;34m\u001b[0m\n\u001b[1;32m----> 1\u001b[1;33m \u001b[0mpre_time_stamp\u001b[0m\u001b[1;33m\u001b[0m\u001b[1;33m\u001b[0m\u001b[0m\n\u001b[0m",
      "\u001b[1;31mNameError\u001b[0m: name 'pre_time_stamp' is not defined"
     ]
    }
   ],
   "source": []
  },
  {
   "cell_type": "code",
   "execution_count": 9,
   "id": "ongoing-leonard",
   "metadata": {
    "ExecuteTime": {
     "end_time": "2021-05-25T02:41:33.227896Z",
     "start_time": "2021-05-25T02:41:33.214222Z"
    },
    "hidden": true
   },
   "outputs": [],
   "source": [
    "#Process newly saved video testing new things\n",
    "def openCVProcessing(saved_video_file):\n",
    "    #View saved video with openCV\n",
    "    capture = cv2.VideoCapture(saved_video_file)\n",
    "\n",
    "    while capture.isOpened():\n",
    "        grabbed, frame = capture.read()  #read in single frame\n",
    "        if grabbed == False:\n",
    "            break\n",
    "\n",
    "        #openCV processing goes here\n",
    "        \n",
    "        \n",
    "        cv2.imshow('frame',frame)  #Show the frame\n",
    "        \n",
    "        #Shown in a new window, To exit, push q on the keyboard\n",
    "        if cv2.waitKey(20) & 0xFF == ord('q'):\n",
    "            break\n",
    "\n",
    "    capture.release()\n",
    "    cv2.destroyAllWindows()  #close the windows automatically\n"
   ]
  },
  {
   "cell_type": "code",
   "execution_count": 46,
   "id": "contrary-string",
   "metadata": {
    "ExecuteTime": {
     "end_time": "2021-05-12T02:02:32.867932Z",
     "start_time": "2021-05-12T02:02:11.570894Z"
    },
    "hidden": true
   },
   "outputs": [],
   "source": [
    "videoURL = \"https://www.youtube.com/watch?v=DoUOrTJbIu4\"\n",
    "stream_segment = get_stream(videoURL)"
   ]
  },
  {
   "cell_type": "markdown",
   "id": "unsigned-victor",
   "metadata": {},
   "source": [
    "# All in memory, no file downloads, prep for streamlit"
   ]
  },
  {
   "cell_type": "code",
   "execution_count": 12,
   "id": "common-dealer",
   "metadata": {
    "ExecuteTime": {
     "end_time": "2021-05-25T18:56:06.380814Z",
     "start_time": "2021-05-25T18:56:04.806478Z"
    }
   },
   "outputs": [
    {
     "name": "stdout",
     "output_type": "stream",
     "text": [
      "[normal:mp4@256x144, normal:mp4@426x240, normal:mp4@640x360, normal:mp4@854x480, normal:mp4@1280x720, normal:mp4@1920x1080]\n"
     ]
    }
   ],
   "source": [
    "videoURL = \"https://www.youtube.com/watch?v=DoUOrTJbIu4\" #Jackson hole town square, live stream\n",
    "\n",
    "video = pafy.new(videoURL)\n",
    "\n",
    "#only working on this specific video, lets confirm\n",
    "assert (\"Jackson Wyoming Town Square Live Webcam\" in video.title) \n",
    "\n",
    "best = video.getbest(preftype=\"mp4\")  #Get best resolution stream available\n",
    "medVid = video.streams[2]\n",
    "\n",
    "#See all stream qualitys\n",
    "print(video.streams)"
   ]
  },
  {
   "cell_type": "code",
   "execution_count": 33,
   "id": "elementary-blame",
   "metadata": {
    "ExecuteTime": {
     "end_time": "2021-05-25T19:22:45.059904Z",
     "start_time": "2021-05-25T19:22:45.010033Z"
    }
   },
   "outputs": [],
   "source": [
    "#Ref: https://stackoverflow.com/questions/55631634/recording-youtube-live-stream-to-file-in-python\n",
    "def get_stream(url):\n",
    "    \"\"\"\n",
    "    Get upload chunk url\n",
    "    input: youtube URL\n",
    "    output: m3u8 object segment\n",
    "    \"\"\"\n",
    "    \n",
    "    #Try this line tries number of times, if it doesn't work, \n",
    "    # then show the exception on the last attempt\n",
    "    # Credit, theherk, https://stackoverflow.com/questions/2083987/how-to-retry-after-exception\n",
    "    tries = 10\n",
    "    for i in range(tries):\n",
    "        try:\n",
    "            streams = streamlink.streams(url)\n",
    "        except:\n",
    "            if i < tries - 1: # i is zero indexed\n",
    "                print(f\"Attempt {i+1} of {tries}\")\n",
    "                time.sleep(0.1) #Wait half a second\n",
    "                continue\n",
    "            else:\n",
    "                raise\n",
    "        break\n",
    "    #print(f\"Stream choices: {streams.keys()})\n",
    "    stream_url = streams[\"best\"] #Alternate, use \"best\"\n",
    "\n",
    "    m3u8_obj = m3u8.load(stream_url.args['url'])\n",
    "    return m3u8_obj.segments[0] #Parsed stream\n",
    "\n",
    "\n",
    "def stitch_streams(url, filename, chunks):\n",
    "    \"\"\"\n",
    "    Download each chunk to file\n",
    "    input: url, filename, and number of chunks (int)\n",
    "    output: saves file at filename location\n",
    "    returns none.\n",
    "    \"\"\"\n",
    "    pre_time_stamp = datetime(1, 1, 1, 0, 0, tzinfo=timezone.utc)\n",
    "\n",
    "    \n",
    "    #Repeat for each chunk\n",
    "    #Needs to be in chunks beceause \n",
    "    #  1) it's live and \n",
    "    #  2) it won't let you leave the stream open forever\n",
    "    i=1\n",
    "    while i <= chunks:\n",
    "       \n",
    "        #Open stream\n",
    "        stream_segment = get_stream(url)\n",
    "        \n",
    "        #Get current time on video\n",
    "        cur_time_stamp = stream_segment.program_date_time\n",
    "        #Only get next time step, wait if it's not new yet\n",
    "        if cur_time_stamp <= pre_time_stamp:\n",
    "            #Don't increment counter until we have a new chunk\n",
    "            print(\"NO   pre: \",pre_time_stamp, \"curr:\",cur_time_stamp)\n",
    "            time.sleep(0.5) #Wait half a sec\n",
    "            pass\n",
    "        else:\n",
    "            print(\"YES: pre: \",pre_time_stamp, \"curr:\",cur_time_stamp)\n",
    "            print(f'#{i} at time {cur_time_stamp}')\n",
    "            #Open file for writing stream\n",
    "            file = open(filename, 'ab+') #ab+ means keep adding to file\n",
    "            #Write stream to file\n",
    "            with urllib.request.urlopen(stream_segment.uri) as response:\n",
    "                html = response.read()\n",
    "                file.write(html)\n",
    "                \n",
    "            #Update time stamp\n",
    "            pre_time_stamp = cur_time_stamp\n",
    "            time.sleep(stream_segment.duration) #Wait duration time - 1\n",
    "\n",
    "            i += 1 #only increment if we got a new chunk\n",
    "\n",
    "    return None\n",
    "\n",
    "def openCVProcessing(saved_video_file):\n",
    "    '''View saved video with openCV\n",
    "    Add your other steps here'''\n",
    "    capture = cv2.VideoCapture(saved_video_file)\n",
    "    i=0\n",
    "    while capture.isOpened():\n",
    "        grabbed, frame = capture.read()  #read in single frame\n",
    "        if grabbed == False:\n",
    "            break\n",
    "\n",
    "        #openCV processing goes here\n",
    "        #\n",
    "        \n",
    "        cv2.imshow('frame',frame)  #Show the frame\n",
    "        i +=1\n",
    "        \n",
    "        #Shown in a new window, To exit, push q on the keyboard\n",
    "        if cv2.waitKey(1) & 0xFF == ord('q'):\n",
    "            break\n",
    "\n",
    "    capture.release()\n",
    "    cv2.destroyAllWindows()  #close the windows automatically\n",
    "    return i\n",
    "\n"
   ]
  },
  {
   "cell_type": "code",
   "execution_count": null,
   "id": "statistical-guard",
   "metadata": {},
   "outputs": [],
   "source": [
    "#Do the work    \n",
    "videoURL = \"https://youtu.be/DoUOrTJbIu4\" #Jackson hole town square, live stream\n",
    "\n",
    "stitch_streams(medVid.url, 1)\n"
   ]
  },
  {
   "cell_type": "code",
   "execution_count": 8,
   "id": "dense-payday",
   "metadata": {
    "ExecuteTime": {
     "end_time": "2021-05-25T15:23:14.539420Z",
     "start_time": "2021-05-25T15:23:12.441967Z"
    }
   },
   "outputs": [],
   "source": [
    "#Sandbox\n",
    "stream_segment = get_stream(medVid.url)\n",
    "        \n",
    "#Open file for writing stream\n",
    "file = open(\"TEMP.TS\", 'ab+') #ab+ means keep adding to file\n",
    "#Write stream to file\n",
    "with urllib.request.urlopen(stream_segment.uri) as response:\n",
    "    html = response.read()\n",
    "    file.write(html)\n",
    "\n"
   ]
  },
  {
   "cell_type": "code",
   "execution_count": 68,
   "id": "south-republic",
   "metadata": {
    "ExecuteTime": {
     "end_time": "2021-05-25T16:11:16.450388Z",
     "start_time": "2021-05-25T16:11:14.956997Z"
    }
   },
   "outputs": [],
   "source": [
    "#Cant decode video streams\n",
    "stream_segment = get_stream(medVid.url)\n",
    "url = stream_segment.uri\n",
    "resp = urllib.request.urlopen(url)\n",
    "video = np.asarray(bytearray(resp.read()), dtype=\"uint8\")\n",
    "videoDecode = cv2.imdecode(video, cv2.IMREAD_COLOR)\n",
    "# return the image"
   ]
  },
  {
   "cell_type": "code",
   "execution_count": 110,
   "id": "painted-dancing",
   "metadata": {
    "ExecuteTime": {
     "end_time": "2021-05-25T17:30:58.530601Z",
     "start_time": "2021-05-25T17:30:24.253653Z"
    }
   },
   "outputs": [
    {
     "name": "stdout",
     "output_type": "stream",
     "text": [
      "210936 134\n"
     ]
    }
   ],
   "source": [
    "# no easy relation with read in byte stream and frame number...\n",
    "stream_segment = get_stream(medVid.url)\n",
    "url = stream_segment.uri\n",
    "\n",
    "frames = openCVProcessing(url)\n",
    "vid = urllib.request.urlopen(url).read()\n",
    "vid_bytes = np.asarray(bytearray(vid), dtype=\"uint8\")\n",
    "print(vid_bytes.shape[0] , frames)\n",
    "key.append((vid_bytes.shape[0] , frames))"
   ]
  },
  {
   "cell_type": "code",
   "execution_count": 165,
   "id": "sufficient-playlist",
   "metadata": {
    "ExecuteTime": {
     "end_time": "2021-05-25T18:11:05.461025Z",
     "start_time": "2021-05-25T18:11:05.420804Z"
    }
   },
   "outputs": [],
   "source": [
    "def frame_count(video_path, manual=False):\n",
    "    \"\"\"frame_count - get how many frames are in a video\n",
    "    video_path - path to video\n",
    "    manual - True or False, manual method is much more accurate but slow\"\"\"\n",
    "    #Credit: https://stackoverflow.com/questions/25359288/\n",
    "    #        how-to-know-total-number-of-frame-in-a-file-with-cv2-in-python\n",
    "    # answer from: nanthancy \n",
    "    def manual_count(handler):\n",
    "        frames = 0\n",
    "        while True:\n",
    "            status, frame = handler.read()\n",
    "            if not status:\n",
    "                break\n",
    "            frames += 1\n",
    "        return frames \n",
    "\n",
    "    cap = cv2.VideoCapture(video_path)\n",
    "    # Slow, inefficient but 100% accurate method \n",
    "    if manual:\n",
    "        frames = manual_count(cap)\n",
    "    # Fast, efficient but inaccurate method\n",
    "    else:\n",
    "        try:\n",
    "            frames = int(cap.get(cv2.CAP_PROP_FRAME_COUNT))\n",
    "        except:\n",
    "            frames = manual_count(cap)\n",
    "    cap.release()\n",
    "    return frames"
   ]
  },
  {
   "cell_type": "code",
   "execution_count": null,
   "id": "pursuant-azerbaijan",
   "metadata": {
    "ExecuteTime": {
     "end_time": "2021-05-25T17:53:09.487886Z",
     "start_time": "2021-05-25T17:53:09.473888Z"
    }
   },
   "outputs": [],
   "source": [
    "#We can get multiple segments and look at duration though\n",
    "#playlist = m3u8.load(medVid.url)  # this could also be an absolute filename\n",
    "#print(playlist.segments)\n",
    "#print(playlist.target_duration)\n",
    "playlist.segments[2].duration"
   ]
  },
  {
   "cell_type": "code",
   "execution_count": 167,
   "id": "czech-interstate",
   "metadata": {
    "ExecuteTime": {
     "end_time": "2021-05-25T18:14:21.546930Z",
     "start_time": "2021-05-25T18:12:19.628309Z"
    }
   },
   "outputs": [
    {
     "name": "stdout",
     "output_type": "stream",
     "text": [
      "137\n",
      "147\n",
      "147\n"
     ]
    },
    {
     "ename": "KeyboardInterrupt",
     "evalue": "",
     "output_type": "error",
     "traceback": [
      "\u001b[1;31m---------------------------------------------------------------------------\u001b[0m",
      "\u001b[1;31mKeyboardInterrupt\u001b[0m                         Traceback (most recent call last)",
      "\u001b[1;32m<ipython-input-167-5a743304f7d3>\u001b[0m in \u001b[0;36m<module>\u001b[1;34m\u001b[0m\n\u001b[0;32m      1\u001b[0m \u001b[1;32mfor\u001b[0m \u001b[0mi\u001b[0m \u001b[1;32min\u001b[0m \u001b[0mplaylist\u001b[0m\u001b[1;33m.\u001b[0m\u001b[0msegments\u001b[0m\u001b[1;33m:\u001b[0m\u001b[1;33m\u001b[0m\u001b[1;33m\u001b[0m\u001b[0m\n\u001b[1;32m----> 2\u001b[1;33m     \u001b[0mframes\u001b[0m \u001b[1;33m=\u001b[0m \u001b[0mframe_count\u001b[0m\u001b[1;33m(\u001b[0m\u001b[0mi\u001b[0m\u001b[1;33m.\u001b[0m\u001b[0muri\u001b[0m\u001b[1;33m,\u001b[0m \u001b[0mmanual\u001b[0m\u001b[1;33m=\u001b[0m\u001b[1;32mTrue\u001b[0m\u001b[1;33m)\u001b[0m\u001b[1;33m\u001b[0m\u001b[1;33m\u001b[0m\u001b[0m\n\u001b[0m\u001b[0;32m      3\u001b[0m     \u001b[0mprint\u001b[0m\u001b[1;33m(\u001b[0m\u001b[0mframes\u001b[0m\u001b[1;33m)\u001b[0m\u001b[1;33m\u001b[0m\u001b[1;33m\u001b[0m\u001b[0m\n",
      "\u001b[1;32m<ipython-input-165-de0c103da5e3>\u001b[0m in \u001b[0;36mframe_count\u001b[1;34m(video_path, manual)\u001b[0m\n\u001b[0;32m     18\u001b[0m     \u001b[1;31m# Slow, inefficient but 100% accurate method\u001b[0m\u001b[1;33m\u001b[0m\u001b[1;33m\u001b[0m\u001b[1;33m\u001b[0m\u001b[0m\n\u001b[0;32m     19\u001b[0m     \u001b[1;32mif\u001b[0m \u001b[0mmanual\u001b[0m\u001b[1;33m:\u001b[0m\u001b[1;33m\u001b[0m\u001b[1;33m\u001b[0m\u001b[0m\n\u001b[1;32m---> 20\u001b[1;33m         \u001b[0mframes\u001b[0m \u001b[1;33m=\u001b[0m \u001b[0mmanual_count\u001b[0m\u001b[1;33m(\u001b[0m\u001b[0mcap\u001b[0m\u001b[1;33m)\u001b[0m\u001b[1;33m\u001b[0m\u001b[1;33m\u001b[0m\u001b[0m\n\u001b[0m\u001b[0;32m     21\u001b[0m     \u001b[1;31m# Fast, efficient but inaccurate method\u001b[0m\u001b[1;33m\u001b[0m\u001b[1;33m\u001b[0m\u001b[1;33m\u001b[0m\u001b[0m\n\u001b[0;32m     22\u001b[0m     \u001b[1;32melse\u001b[0m\u001b[1;33m:\u001b[0m\u001b[1;33m\u001b[0m\u001b[1;33m\u001b[0m\u001b[0m\n",
      "\u001b[1;32m<ipython-input-165-de0c103da5e3>\u001b[0m in \u001b[0;36mmanual_count\u001b[1;34m(handler)\u001b[0m\n\u001b[0;32m      9\u001b[0m         \u001b[0mframes\u001b[0m \u001b[1;33m=\u001b[0m \u001b[1;36m0\u001b[0m\u001b[1;33m\u001b[0m\u001b[1;33m\u001b[0m\u001b[0m\n\u001b[0;32m     10\u001b[0m         \u001b[1;32mwhile\u001b[0m \u001b[1;32mTrue\u001b[0m\u001b[1;33m:\u001b[0m\u001b[1;33m\u001b[0m\u001b[1;33m\u001b[0m\u001b[0m\n\u001b[1;32m---> 11\u001b[1;33m             \u001b[0mstatus\u001b[0m\u001b[1;33m,\u001b[0m \u001b[0mframe\u001b[0m \u001b[1;33m=\u001b[0m \u001b[0mhandler\u001b[0m\u001b[1;33m.\u001b[0m\u001b[0mread\u001b[0m\u001b[1;33m(\u001b[0m\u001b[1;33m)\u001b[0m\u001b[1;33m\u001b[0m\u001b[1;33m\u001b[0m\u001b[0m\n\u001b[0m\u001b[0;32m     12\u001b[0m             \u001b[1;32mif\u001b[0m \u001b[1;32mnot\u001b[0m \u001b[0mstatus\u001b[0m\u001b[1;33m:\u001b[0m\u001b[1;33m\u001b[0m\u001b[1;33m\u001b[0m\u001b[0m\n\u001b[0;32m     13\u001b[0m                 \u001b[1;32mbreak\u001b[0m\u001b[1;33m\u001b[0m\u001b[1;33m\u001b[0m\u001b[0m\n",
      "\u001b[1;31mKeyboardInterrupt\u001b[0m: "
     ]
    }
   ],
   "source": [
    "for i in playlist.segments:\n",
    "    frames = frame_count(i.uri, manual=True)\n",
    "    print(frames)"
   ]
  },
  {
   "cell_type": "code",
   "execution_count": 29,
   "id": "wound-workstation",
   "metadata": {
    "ExecuteTime": {
     "end_time": "2021-05-25T19:20:43.231709Z",
     "start_time": "2021-05-25T19:20:43.222734Z"
    }
   },
   "outputs": [],
   "source": [
    "def getVideoFrames(url, n_frames):\n",
    "    '''getVideoFrames(url = string, n_frames= int)\n",
    "    returns array of images.\n",
    "    Runs once for each segment, 100-147 frames at once.\n",
    "    Youtube segments don't cleanly exit from openCV, so I am instead chopping them off a little bit\n",
    "    returns final strung together list of images.'''\n",
    "    \n",
    "    #load a list of current segments for live stream\n",
    "    playlist = m3u8.load(url)\n",
    "    \n",
    "    #will hold all frames at the end\n",
    "    frame_array=[]\n",
    "\n",
    "    #Loop through all segments\n",
    "    for i in playlist.segments:\n",
    "        \n",
    "        capture = cv2.VideoCapture(i.uri) \n",
    "    \n",
    "        #go through every frame in segment\n",
    "        for i in range(n_frames):  \n",
    "            grabbed, frame = capture.read()  #read in single frame\n",
    "            if grabbed == False:\n",
    "                break\n",
    "\n",
    "            cv2.imshow('frame',frame)  #Show the frame\n",
    "            i +=1\n",
    "\n",
    "            #Shown in a new window, To exit, push q on the keyboard\n",
    "            if cv2.waitKey(1) & 0xFF == ord('q'):\n",
    "                break\n",
    "\n",
    "            #Save to array for output\n",
    "            #frame_array.append(frame)\n",
    "\n",
    "    capture.release()\n",
    "\n",
    "    return frame_array"
   ]
  },
  {
   "cell_type": "code",
   "execution_count": null,
   "id": "classical-thailand",
   "metadata": {},
   "outputs": [],
   "source": [
    "#This is the magic answer, which is surprisingly close to my first answer using only pafy.\n",
    "frames_all = getVideoFrames(medVid.url, 110)\n",
    "openCVProcessing(frames_all)\n",
    "del frames_all  #save memory\n"
   ]
  },
  {
   "cell_type": "code",
   "execution_count": 48,
   "id": "divine-hepatitis",
   "metadata": {
    "ExecuteTime": {
     "end_time": "2021-05-25T19:51:49.141566Z",
     "start_time": "2021-05-25T19:51:49.111674Z"
    }
   },
   "outputs": [
    {
     "ename": "AssertionError",
     "evalue": "",
     "output_type": "error",
     "traceback": [
      "\u001b[1;31m---------------------------------------------------------------------------\u001b[0m",
      "\u001b[1;31mAssertionError\u001b[0m                            Traceback (most recent call last)",
      "\u001b[1;32m<ipython-input-48-b194f11dead8>\u001b[0m in \u001b[0;36m<module>\u001b[1;34m\u001b[0m\n\u001b[0;32m      1\u001b[0m \u001b[1;31m#temp\u001b[0m\u001b[1;33m\u001b[0m\u001b[1;33m\u001b[0m\u001b[1;33m\u001b[0m\u001b[0m\n\u001b[1;32m----> 2\u001b[1;33m \u001b[1;32massert\u001b[0m \u001b[0mtype\u001b[0m\u001b[1;33m(\u001b[0m\u001b[1;36m1\u001b[0m\u001b[1;33m)\u001b[0m \u001b[1;33m==\u001b[0m \u001b[1;34m\"int\"\u001b[0m\u001b[1;33m\u001b[0m\u001b[1;33m\u001b[0m\u001b[0m\n\u001b[0m",
      "\u001b[1;31mAssertionError\u001b[0m: "
     ]
    }
   ],
   "source": [
    "#temp\n",
    "assert type(1) == \"int\""
   ]
  },
  {
   "cell_type": "code",
   "execution_count": null,
   "id": "approved-depression",
   "metadata": {
    "ExecuteTime": {
     "start_time": "2021-05-25T18:14:43.487Z"
    }
   },
   "outputs": [
    {
     "name": "stdout",
     "output_type": "stream",
     "text": [
      "[136, 5.0]\n",
      "[135, 5.0]\n",
      "[147, 4.999]\n",
      "[132, 5.0]\n",
      "[147, 5.0]\n",
      "[147, 5.0]\n",
      "[147, 5.0]\n",
      "[128, 5.0]\n",
      "[137, 5.0]\n",
      "[147, 5.0]\n",
      "[132, 5.0]\n",
      "[147, 4.999]\n",
      "[147, 5.0]\n",
      "[147, 5.0]\n",
      "[132, 5.0]\n",
      "[142, 5.0]\n",
      "[147, 5.0]\n",
      "[147, 5.0]\n",
      "[147, 5.0]\n",
      "[147, 4.999]\n",
      "[147, 5.0]\n"
     ]
    }
   ],
   "source": [
    "frame_duration = []\n",
    "#turns out number of frames is not perfectly correlated with duration :(\n",
    "for i in range(5):\n",
    "    # get new list of segments, may overlap with other previous\n",
    "    playlist = m3u8.load(medVid.url)  # this could also be an absolute filename\n",
    "    for i in playlist.segments:\n",
    "        frames = frame_count(i.uri, manual=True)\n",
    "        frame_duration.append([frames, i.duration])\n",
    "        print([frames, i.duration])"
   ]
  },
  {
   "cell_type": "code",
   "execution_count": null,
   "id": "equal-management",
   "metadata": {
    "ExecuteTime": {
     "end_time": "2021-05-25T18:05:57.858451Z",
     "start_time": "2021-05-25T18:05:57.206474Z"
    }
   },
   "outputs": [],
   "source": [
    "x= [frame for frame, sec in frame_duration]\n",
    "y= [sec for frame, sec in frame_duration]\n",
    "\n",
    "plt.scatter(x,y)"
   ]
  },
  {
   "cell_type": "code",
   "execution_count": null,
   "id": "monthly-suffering",
   "metadata": {},
   "outputs": [],
   "source": []
  },
  {
   "cell_type": "code",
   "execution_count": 147,
   "id": "adult-entity",
   "metadata": {
    "ExecuteTime": {
     "end_time": "2021-05-25T17:59:38.577841Z",
     "start_time": "2021-05-25T17:59:38.568348Z"
    }
   },
   "outputs": [
    {
     "name": "stdout",
     "output_type": "stream",
     "text": [
      "[29.4, 29.4, 26.805361072214446, 29.4, 29.4, 29.4, 29.4]\n"
     ]
    }
   ],
   "source": [
    "fps = [frame/sec for frame, sec in frame_duration]\n",
    "print(fps)\n",
    "#fps is not constant/duration is not accurate!"
   ]
  },
  {
   "cell_type": "code",
   "execution_count": 109,
   "id": "stuffed-tanzania",
   "metadata": {
    "ExecuteTime": {
     "end_time": "2021-05-25T17:29:39.815163Z",
     "start_time": "2021-05-25T17:29:05.947936Z"
    }
   },
   "outputs": [
    {
     "ename": "URLError",
     "evalue": "<urlopen error timed out>",
     "output_type": "error",
     "traceback": [
      "\u001b[1;31m---------------------------------------------------------------------------\u001b[0m",
      "\u001b[1;31mtimeout\u001b[0m                                   Traceback (most recent call last)",
      "\u001b[1;32mC:\\ProgramData\\Anaconda3\\lib\\urllib\\request.py\u001b[0m in \u001b[0;36mdo_open\u001b[1;34m(self, http_class, req, **http_conn_args)\u001b[0m\n\u001b[0;32m   1316\u001b[0m                 h.request(req.get_method(), req.selector, req.data, headers,\n\u001b[1;32m-> 1317\u001b[1;33m                           encode_chunked=req.has_header('Transfer-encoding'))\n\u001b[0m\u001b[0;32m   1318\u001b[0m             \u001b[1;32mexcept\u001b[0m \u001b[0mOSError\u001b[0m \u001b[1;32mas\u001b[0m \u001b[0merr\u001b[0m\u001b[1;33m:\u001b[0m \u001b[1;31m# timeout error\u001b[0m\u001b[1;33m\u001b[0m\u001b[1;33m\u001b[0m\u001b[0m\n",
      "\u001b[1;32mC:\\ProgramData\\Anaconda3\\lib\\http\\client.py\u001b[0m in \u001b[0;36mrequest\u001b[1;34m(self, method, url, body, headers, encode_chunked)\u001b[0m\n\u001b[0;32m   1228\u001b[0m         \u001b[1;34m\"\"\"Send a complete request to the server.\"\"\"\u001b[0m\u001b[1;33m\u001b[0m\u001b[1;33m\u001b[0m\u001b[0m\n\u001b[1;32m-> 1229\u001b[1;33m         \u001b[0mself\u001b[0m\u001b[1;33m.\u001b[0m\u001b[0m_send_request\u001b[0m\u001b[1;33m(\u001b[0m\u001b[0mmethod\u001b[0m\u001b[1;33m,\u001b[0m \u001b[0murl\u001b[0m\u001b[1;33m,\u001b[0m \u001b[0mbody\u001b[0m\u001b[1;33m,\u001b[0m \u001b[0mheaders\u001b[0m\u001b[1;33m,\u001b[0m \u001b[0mencode_chunked\u001b[0m\u001b[1;33m)\u001b[0m\u001b[1;33m\u001b[0m\u001b[1;33m\u001b[0m\u001b[0m\n\u001b[0m\u001b[0;32m   1230\u001b[0m \u001b[1;33m\u001b[0m\u001b[0m\n",
      "\u001b[1;32mC:\\ProgramData\\Anaconda3\\lib\\http\\client.py\u001b[0m in \u001b[0;36m_send_request\u001b[1;34m(self, method, url, body, headers, encode_chunked)\u001b[0m\n\u001b[0;32m   1274\u001b[0m             \u001b[0mbody\u001b[0m \u001b[1;33m=\u001b[0m \u001b[0m_encode\u001b[0m\u001b[1;33m(\u001b[0m\u001b[0mbody\u001b[0m\u001b[1;33m,\u001b[0m \u001b[1;34m'body'\u001b[0m\u001b[1;33m)\u001b[0m\u001b[1;33m\u001b[0m\u001b[1;33m\u001b[0m\u001b[0m\n\u001b[1;32m-> 1275\u001b[1;33m         \u001b[0mself\u001b[0m\u001b[1;33m.\u001b[0m\u001b[0mendheaders\u001b[0m\u001b[1;33m(\u001b[0m\u001b[0mbody\u001b[0m\u001b[1;33m,\u001b[0m \u001b[0mencode_chunked\u001b[0m\u001b[1;33m=\u001b[0m\u001b[0mencode_chunked\u001b[0m\u001b[1;33m)\u001b[0m\u001b[1;33m\u001b[0m\u001b[1;33m\u001b[0m\u001b[0m\n\u001b[0m\u001b[0;32m   1276\u001b[0m \u001b[1;33m\u001b[0m\u001b[0m\n",
      "\u001b[1;32mC:\\ProgramData\\Anaconda3\\lib\\http\\client.py\u001b[0m in \u001b[0;36mendheaders\u001b[1;34m(self, message_body, encode_chunked)\u001b[0m\n\u001b[0;32m   1223\u001b[0m             \u001b[1;32mraise\u001b[0m \u001b[0mCannotSendHeader\u001b[0m\u001b[1;33m(\u001b[0m\u001b[1;33m)\u001b[0m\u001b[1;33m\u001b[0m\u001b[1;33m\u001b[0m\u001b[0m\n\u001b[1;32m-> 1224\u001b[1;33m         \u001b[0mself\u001b[0m\u001b[1;33m.\u001b[0m\u001b[0m_send_output\u001b[0m\u001b[1;33m(\u001b[0m\u001b[0mmessage_body\u001b[0m\u001b[1;33m,\u001b[0m \u001b[0mencode_chunked\u001b[0m\u001b[1;33m=\u001b[0m\u001b[0mencode_chunked\u001b[0m\u001b[1;33m)\u001b[0m\u001b[1;33m\u001b[0m\u001b[1;33m\u001b[0m\u001b[0m\n\u001b[0m\u001b[0;32m   1225\u001b[0m \u001b[1;33m\u001b[0m\u001b[0m\n",
      "\u001b[1;32mC:\\ProgramData\\Anaconda3\\lib\\http\\client.py\u001b[0m in \u001b[0;36m_send_output\u001b[1;34m(self, message_body, encode_chunked)\u001b[0m\n\u001b[0;32m   1015\u001b[0m         \u001b[1;32mdel\u001b[0m \u001b[0mself\u001b[0m\u001b[1;33m.\u001b[0m\u001b[0m_buffer\u001b[0m\u001b[1;33m[\u001b[0m\u001b[1;33m:\u001b[0m\u001b[1;33m]\u001b[0m\u001b[1;33m\u001b[0m\u001b[1;33m\u001b[0m\u001b[0m\n\u001b[1;32m-> 1016\u001b[1;33m         \u001b[0mself\u001b[0m\u001b[1;33m.\u001b[0m\u001b[0msend\u001b[0m\u001b[1;33m(\u001b[0m\u001b[0mmsg\u001b[0m\u001b[1;33m)\u001b[0m\u001b[1;33m\u001b[0m\u001b[1;33m\u001b[0m\u001b[0m\n\u001b[0m\u001b[0;32m   1017\u001b[0m \u001b[1;33m\u001b[0m\u001b[0m\n",
      "\u001b[1;32mC:\\ProgramData\\Anaconda3\\lib\\http\\client.py\u001b[0m in \u001b[0;36msend\u001b[1;34m(self, data)\u001b[0m\n\u001b[0;32m    955\u001b[0m             \u001b[1;32mif\u001b[0m \u001b[0mself\u001b[0m\u001b[1;33m.\u001b[0m\u001b[0mauto_open\u001b[0m\u001b[1;33m:\u001b[0m\u001b[1;33m\u001b[0m\u001b[1;33m\u001b[0m\u001b[0m\n\u001b[1;32m--> 956\u001b[1;33m                 \u001b[0mself\u001b[0m\u001b[1;33m.\u001b[0m\u001b[0mconnect\u001b[0m\u001b[1;33m(\u001b[0m\u001b[1;33m)\u001b[0m\u001b[1;33m\u001b[0m\u001b[1;33m\u001b[0m\u001b[0m\n\u001b[0m\u001b[0;32m    957\u001b[0m             \u001b[1;32melse\u001b[0m\u001b[1;33m:\u001b[0m\u001b[1;33m\u001b[0m\u001b[1;33m\u001b[0m\u001b[0m\n",
      "\u001b[1;32mC:\\ProgramData\\Anaconda3\\lib\\http\\client.py\u001b[0m in \u001b[0;36mconnect\u001b[1;34m(self)\u001b[0m\n\u001b[0;32m   1383\u001b[0m \u001b[1;33m\u001b[0m\u001b[0m\n\u001b[1;32m-> 1384\u001b[1;33m             \u001b[0msuper\u001b[0m\u001b[1;33m(\u001b[0m\u001b[1;33m)\u001b[0m\u001b[1;33m.\u001b[0m\u001b[0mconnect\u001b[0m\u001b[1;33m(\u001b[0m\u001b[1;33m)\u001b[0m\u001b[1;33m\u001b[0m\u001b[1;33m\u001b[0m\u001b[0m\n\u001b[0m\u001b[0;32m   1385\u001b[0m \u001b[1;33m\u001b[0m\u001b[0m\n",
      "\u001b[1;32mC:\\ProgramData\\Anaconda3\\lib\\http\\client.py\u001b[0m in \u001b[0;36mconnect\u001b[1;34m(self)\u001b[0m\n\u001b[0;32m    927\u001b[0m         self.sock = self._create_connection(\n\u001b[1;32m--> 928\u001b[1;33m             (self.host,self.port), self.timeout, self.source_address)\n\u001b[0m\u001b[0;32m    929\u001b[0m         \u001b[0mself\u001b[0m\u001b[1;33m.\u001b[0m\u001b[0msock\u001b[0m\u001b[1;33m.\u001b[0m\u001b[0msetsockopt\u001b[0m\u001b[1;33m(\u001b[0m\u001b[0msocket\u001b[0m\u001b[1;33m.\u001b[0m\u001b[0mIPPROTO_TCP\u001b[0m\u001b[1;33m,\u001b[0m \u001b[0msocket\u001b[0m\u001b[1;33m.\u001b[0m\u001b[0mTCP_NODELAY\u001b[0m\u001b[1;33m,\u001b[0m \u001b[1;36m1\u001b[0m\u001b[1;33m)\u001b[0m\u001b[1;33m\u001b[0m\u001b[1;33m\u001b[0m\u001b[0m\n",
      "\u001b[1;32mC:\\ProgramData\\Anaconda3\\lib\\socket.py\u001b[0m in \u001b[0;36mcreate_connection\u001b[1;34m(address, timeout, source_address)\u001b[0m\n\u001b[0;32m    726\u001b[0m     \u001b[1;32mif\u001b[0m \u001b[0merr\u001b[0m \u001b[1;32mis\u001b[0m \u001b[1;32mnot\u001b[0m \u001b[1;32mNone\u001b[0m\u001b[1;33m:\u001b[0m\u001b[1;33m\u001b[0m\u001b[1;33m\u001b[0m\u001b[0m\n\u001b[1;32m--> 727\u001b[1;33m         \u001b[1;32mraise\u001b[0m \u001b[0merr\u001b[0m\u001b[1;33m\u001b[0m\u001b[1;33m\u001b[0m\u001b[0m\n\u001b[0m\u001b[0;32m    728\u001b[0m     \u001b[1;32melse\u001b[0m\u001b[1;33m:\u001b[0m\u001b[1;33m\u001b[0m\u001b[1;33m\u001b[0m\u001b[0m\n",
      "\u001b[1;32mC:\\ProgramData\\Anaconda3\\lib\\socket.py\u001b[0m in \u001b[0;36mcreate_connection\u001b[1;34m(address, timeout, source_address)\u001b[0m\n\u001b[0;32m    715\u001b[0m                 \u001b[0msock\u001b[0m\u001b[1;33m.\u001b[0m\u001b[0mbind\u001b[0m\u001b[1;33m(\u001b[0m\u001b[0msource_address\u001b[0m\u001b[1;33m)\u001b[0m\u001b[1;33m\u001b[0m\u001b[1;33m\u001b[0m\u001b[0m\n\u001b[1;32m--> 716\u001b[1;33m             \u001b[0msock\u001b[0m\u001b[1;33m.\u001b[0m\u001b[0mconnect\u001b[0m\u001b[1;33m(\u001b[0m\u001b[0msa\u001b[0m\u001b[1;33m)\u001b[0m\u001b[1;33m\u001b[0m\u001b[1;33m\u001b[0m\u001b[0m\n\u001b[0m\u001b[0;32m    717\u001b[0m             \u001b[1;31m# Break explicitly a reference cycle\u001b[0m\u001b[1;33m\u001b[0m\u001b[1;33m\u001b[0m\u001b[1;33m\u001b[0m\u001b[0m\n",
      "\u001b[1;31mtimeout\u001b[0m: timed out",
      "\nDuring handling of the above exception, another exception occurred:\n",
      "\u001b[1;31mURLError\u001b[0m                                  Traceback (most recent call last)",
      "\u001b[1;32m<ipython-input-109-8c14b483dbb3>\u001b[0m in \u001b[0;36m<module>\u001b[1;34m\u001b[0m\n\u001b[0;32m      6\u001b[0m \u001b[1;33m\u001b[0m\u001b[0m\n\u001b[0;32m      7\u001b[0m     \u001b[0mframes\u001b[0m \u001b[1;33m=\u001b[0m \u001b[0mopenCVProcessing\u001b[0m\u001b[1;33m(\u001b[0m\u001b[0murl\u001b[0m\u001b[1;33m)\u001b[0m\u001b[1;33m\u001b[0m\u001b[1;33m\u001b[0m\u001b[0m\n\u001b[1;32m----> 8\u001b[1;33m     \u001b[0mvid\u001b[0m \u001b[1;33m=\u001b[0m \u001b[0murllib\u001b[0m\u001b[1;33m.\u001b[0m\u001b[0mrequest\u001b[0m\u001b[1;33m.\u001b[0m\u001b[0murlopen\u001b[0m\u001b[1;33m(\u001b[0m\u001b[0murl\u001b[0m\u001b[1;33m,\u001b[0m \u001b[0mtimeout\u001b[0m\u001b[1;33m=\u001b[0m\u001b[1;36m0.001\u001b[0m\u001b[1;33m)\u001b[0m\u001b[1;33m.\u001b[0m\u001b[0mread\u001b[0m\u001b[1;33m(\u001b[0m\u001b[1;33m)\u001b[0m\u001b[1;33m\u001b[0m\u001b[1;33m\u001b[0m\u001b[0m\n\u001b[0m\u001b[0;32m      9\u001b[0m     \u001b[0mvid_bytes\u001b[0m \u001b[1;33m=\u001b[0m \u001b[0mnp\u001b[0m\u001b[1;33m.\u001b[0m\u001b[0masarray\u001b[0m\u001b[1;33m(\u001b[0m\u001b[0mbytearray\u001b[0m\u001b[1;33m(\u001b[0m\u001b[0mvid\u001b[0m\u001b[1;33m)\u001b[0m\u001b[1;33m,\u001b[0m \u001b[0mdtype\u001b[0m\u001b[1;33m=\u001b[0m\u001b[1;34m\"uint8\"\u001b[0m\u001b[1;33m)\u001b[0m\u001b[1;33m\u001b[0m\u001b[1;33m\u001b[0m\u001b[0m\n\u001b[0;32m     10\u001b[0m     \u001b[0mprint\u001b[0m\u001b[1;33m(\u001b[0m\u001b[0mvid_bytes\u001b[0m\u001b[1;33m.\u001b[0m\u001b[0mshape\u001b[0m\u001b[1;33m[\u001b[0m\u001b[1;36m0\u001b[0m\u001b[1;33m]\u001b[0m \u001b[1;33m,\u001b[0m \u001b[0mframes\u001b[0m\u001b[1;33m)\u001b[0m\u001b[1;33m\u001b[0m\u001b[1;33m\u001b[0m\u001b[0m\n",
      "\u001b[1;32mC:\\ProgramData\\Anaconda3\\lib\\urllib\\request.py\u001b[0m in \u001b[0;36murlopen\u001b[1;34m(url, data, timeout, cafile, capath, cadefault, context)\u001b[0m\n\u001b[0;32m    220\u001b[0m     \u001b[1;32melse\u001b[0m\u001b[1;33m:\u001b[0m\u001b[1;33m\u001b[0m\u001b[1;33m\u001b[0m\u001b[0m\n\u001b[0;32m    221\u001b[0m         \u001b[0mopener\u001b[0m \u001b[1;33m=\u001b[0m \u001b[0m_opener\u001b[0m\u001b[1;33m\u001b[0m\u001b[1;33m\u001b[0m\u001b[0m\n\u001b[1;32m--> 222\u001b[1;33m     \u001b[1;32mreturn\u001b[0m \u001b[0mopener\u001b[0m\u001b[1;33m.\u001b[0m\u001b[0mopen\u001b[0m\u001b[1;33m(\u001b[0m\u001b[0murl\u001b[0m\u001b[1;33m,\u001b[0m \u001b[0mdata\u001b[0m\u001b[1;33m,\u001b[0m \u001b[0mtimeout\u001b[0m\u001b[1;33m)\u001b[0m\u001b[1;33m\u001b[0m\u001b[1;33m\u001b[0m\u001b[0m\n\u001b[0m\u001b[0;32m    223\u001b[0m \u001b[1;33m\u001b[0m\u001b[0m\n\u001b[0;32m    224\u001b[0m \u001b[1;32mdef\u001b[0m \u001b[0minstall_opener\u001b[0m\u001b[1;33m(\u001b[0m\u001b[0mopener\u001b[0m\u001b[1;33m)\u001b[0m\u001b[1;33m:\u001b[0m\u001b[1;33m\u001b[0m\u001b[1;33m\u001b[0m\u001b[0m\n",
      "\u001b[1;32mC:\\ProgramData\\Anaconda3\\lib\\urllib\\request.py\u001b[0m in \u001b[0;36mopen\u001b[1;34m(self, fullurl, data, timeout)\u001b[0m\n\u001b[0;32m    523\u001b[0m             \u001b[0mreq\u001b[0m \u001b[1;33m=\u001b[0m \u001b[0mmeth\u001b[0m\u001b[1;33m(\u001b[0m\u001b[0mreq\u001b[0m\u001b[1;33m)\u001b[0m\u001b[1;33m\u001b[0m\u001b[1;33m\u001b[0m\u001b[0m\n\u001b[0;32m    524\u001b[0m \u001b[1;33m\u001b[0m\u001b[0m\n\u001b[1;32m--> 525\u001b[1;33m         \u001b[0mresponse\u001b[0m \u001b[1;33m=\u001b[0m \u001b[0mself\u001b[0m\u001b[1;33m.\u001b[0m\u001b[0m_open\u001b[0m\u001b[1;33m(\u001b[0m\u001b[0mreq\u001b[0m\u001b[1;33m,\u001b[0m \u001b[0mdata\u001b[0m\u001b[1;33m)\u001b[0m\u001b[1;33m\u001b[0m\u001b[1;33m\u001b[0m\u001b[0m\n\u001b[0m\u001b[0;32m    526\u001b[0m \u001b[1;33m\u001b[0m\u001b[0m\n\u001b[0;32m    527\u001b[0m         \u001b[1;31m# post-process response\u001b[0m\u001b[1;33m\u001b[0m\u001b[1;33m\u001b[0m\u001b[1;33m\u001b[0m\u001b[0m\n",
      "\u001b[1;32mC:\\ProgramData\\Anaconda3\\lib\\urllib\\request.py\u001b[0m in \u001b[0;36m_open\u001b[1;34m(self, req, data)\u001b[0m\n\u001b[0;32m    541\u001b[0m         \u001b[0mprotocol\u001b[0m \u001b[1;33m=\u001b[0m \u001b[0mreq\u001b[0m\u001b[1;33m.\u001b[0m\u001b[0mtype\u001b[0m\u001b[1;33m\u001b[0m\u001b[1;33m\u001b[0m\u001b[0m\n\u001b[0;32m    542\u001b[0m         result = self._call_chain(self.handle_open, protocol, protocol +\n\u001b[1;32m--> 543\u001b[1;33m                                   '_open', req)\n\u001b[0m\u001b[0;32m    544\u001b[0m         \u001b[1;32mif\u001b[0m \u001b[0mresult\u001b[0m\u001b[1;33m:\u001b[0m\u001b[1;33m\u001b[0m\u001b[1;33m\u001b[0m\u001b[0m\n\u001b[0;32m    545\u001b[0m             \u001b[1;32mreturn\u001b[0m \u001b[0mresult\u001b[0m\u001b[1;33m\u001b[0m\u001b[1;33m\u001b[0m\u001b[0m\n",
      "\u001b[1;32mC:\\ProgramData\\Anaconda3\\lib\\urllib\\request.py\u001b[0m in \u001b[0;36m_call_chain\u001b[1;34m(self, chain, kind, meth_name, *args)\u001b[0m\n\u001b[0;32m    501\u001b[0m         \u001b[1;32mfor\u001b[0m \u001b[0mhandler\u001b[0m \u001b[1;32min\u001b[0m \u001b[0mhandlers\u001b[0m\u001b[1;33m:\u001b[0m\u001b[1;33m\u001b[0m\u001b[1;33m\u001b[0m\u001b[0m\n\u001b[0;32m    502\u001b[0m             \u001b[0mfunc\u001b[0m \u001b[1;33m=\u001b[0m \u001b[0mgetattr\u001b[0m\u001b[1;33m(\u001b[0m\u001b[0mhandler\u001b[0m\u001b[1;33m,\u001b[0m \u001b[0mmeth_name\u001b[0m\u001b[1;33m)\u001b[0m\u001b[1;33m\u001b[0m\u001b[1;33m\u001b[0m\u001b[0m\n\u001b[1;32m--> 503\u001b[1;33m             \u001b[0mresult\u001b[0m \u001b[1;33m=\u001b[0m \u001b[0mfunc\u001b[0m\u001b[1;33m(\u001b[0m\u001b[1;33m*\u001b[0m\u001b[0margs\u001b[0m\u001b[1;33m)\u001b[0m\u001b[1;33m\u001b[0m\u001b[1;33m\u001b[0m\u001b[0m\n\u001b[0m\u001b[0;32m    504\u001b[0m             \u001b[1;32mif\u001b[0m \u001b[0mresult\u001b[0m \u001b[1;32mis\u001b[0m \u001b[1;32mnot\u001b[0m \u001b[1;32mNone\u001b[0m\u001b[1;33m:\u001b[0m\u001b[1;33m\u001b[0m\u001b[1;33m\u001b[0m\u001b[0m\n\u001b[0;32m    505\u001b[0m                 \u001b[1;32mreturn\u001b[0m \u001b[0mresult\u001b[0m\u001b[1;33m\u001b[0m\u001b[1;33m\u001b[0m\u001b[0m\n",
      "\u001b[1;32mC:\\ProgramData\\Anaconda3\\lib\\urllib\\request.py\u001b[0m in \u001b[0;36mhttps_open\u001b[1;34m(self, req)\u001b[0m\n\u001b[0;32m   1358\u001b[0m         \u001b[1;32mdef\u001b[0m \u001b[0mhttps_open\u001b[0m\u001b[1;33m(\u001b[0m\u001b[0mself\u001b[0m\u001b[1;33m,\u001b[0m \u001b[0mreq\u001b[0m\u001b[1;33m)\u001b[0m\u001b[1;33m:\u001b[0m\u001b[1;33m\u001b[0m\u001b[1;33m\u001b[0m\u001b[0m\n\u001b[0;32m   1359\u001b[0m             return self.do_open(http.client.HTTPSConnection, req,\n\u001b[1;32m-> 1360\u001b[1;33m                 context=self._context, check_hostname=self._check_hostname)\n\u001b[0m\u001b[0;32m   1361\u001b[0m \u001b[1;33m\u001b[0m\u001b[0m\n\u001b[0;32m   1362\u001b[0m         \u001b[0mhttps_request\u001b[0m \u001b[1;33m=\u001b[0m \u001b[0mAbstractHTTPHandler\u001b[0m\u001b[1;33m.\u001b[0m\u001b[0mdo_request_\u001b[0m\u001b[1;33m\u001b[0m\u001b[1;33m\u001b[0m\u001b[0m\n",
      "\u001b[1;32mC:\\ProgramData\\Anaconda3\\lib\\urllib\\request.py\u001b[0m in \u001b[0;36mdo_open\u001b[1;34m(self, http_class, req, **http_conn_args)\u001b[0m\n\u001b[0;32m   1317\u001b[0m                           encode_chunked=req.has_header('Transfer-encoding'))\n\u001b[0;32m   1318\u001b[0m             \u001b[1;32mexcept\u001b[0m \u001b[0mOSError\u001b[0m \u001b[1;32mas\u001b[0m \u001b[0merr\u001b[0m\u001b[1;33m:\u001b[0m \u001b[1;31m# timeout error\u001b[0m\u001b[1;33m\u001b[0m\u001b[1;33m\u001b[0m\u001b[0m\n\u001b[1;32m-> 1319\u001b[1;33m                 \u001b[1;32mraise\u001b[0m \u001b[0mURLError\u001b[0m\u001b[1;33m(\u001b[0m\u001b[0merr\u001b[0m\u001b[1;33m)\u001b[0m\u001b[1;33m\u001b[0m\u001b[1;33m\u001b[0m\u001b[0m\n\u001b[0m\u001b[0;32m   1320\u001b[0m             \u001b[0mr\u001b[0m \u001b[1;33m=\u001b[0m \u001b[0mh\u001b[0m\u001b[1;33m.\u001b[0m\u001b[0mgetresponse\u001b[0m\u001b[1;33m(\u001b[0m\u001b[1;33m)\u001b[0m\u001b[1;33m\u001b[0m\u001b[1;33m\u001b[0m\u001b[0m\n\u001b[0;32m   1321\u001b[0m         \u001b[1;32mexcept\u001b[0m\u001b[1;33m:\u001b[0m\u001b[1;33m\u001b[0m\u001b[1;33m\u001b[0m\u001b[0m\n",
      "\u001b[1;31mURLError\u001b[0m: <urlopen error timed out>"
     ]
    }
   ],
   "source": [
    "key = []\n",
    "\n",
    "for i in range (1):\n",
    "    #stream_segment = get_stream(medVid.url)\n",
    "    url = stream_segment.uri\n",
    "\n",
    "    frames = openCVProcessing(url)\n",
    "    vid = urllib.request.urlopen(url).read()\n",
    "    vid_bytes = np.asarray(bytearray(vid), dtype=\"uint8\")\n",
    "    print(vid_bytes.shape[0] , frames)\n",
    "    key.append((vid_bytes.shape[0] , frames))\n"
   ]
  },
  {
   "cell_type": "code",
   "execution_count": 107,
   "id": "connected-imagination",
   "metadata": {
    "ExecuteTime": {
     "end_time": "2021-05-25T17:25:23.472903Z",
     "start_time": "2021-05-25T17:25:23.157384Z"
    }
   },
   "outputs": [
    {
     "data": {
      "text/plain": [
       "<matplotlib.collections.PathCollection at 0x278448ce048>"
      ]
     },
     "execution_count": 107,
     "metadata": {},
     "output_type": "execute_result"
    },
    {
     "data": {
      "image/png": "[encoded data removed]",
      "text/plain": [
       "<Figure size 432x288 with 1 Axes>"
      ]
     },
     "metadata": {
      "needs_background": "light"
     },
     "output_type": "display_data"
    }
   ],
   "source": [
    "\n",
    "x = [key[i][0][0] for i in range(len(key))]\n",
    "y = [key[i][1] for i in range(len(key))]\n",
    "\n",
    "plt.scatter(x,y)"
   ]
  },
  {
   "cell_type": "markdown",
   "id": "particular-priority",
   "metadata": {
    "heading_collapsed": true
   },
   "source": [
    "# Attempt to combine streaming and working into one!"
   ]
  },
  {
   "cell_type": "code",
   "execution_count": 7,
   "id": "interested-indian",
   "metadata": {
    "ExecuteTime": {
     "end_time": "2021-05-12T20:38:00.363538Z",
     "start_time": "2021-05-12T20:37:55.682895Z"
    },
    "hidden": true
   },
   "outputs": [],
   "source": [
    "#Ref: https://stackoverflow.com/questions/55631634/recording-youtube-live-stream-to-file-in-python\n",
    "def get_stream(url):\n",
    "    \"\"\"\n",
    "    Get upload chunk url\n",
    "    input: youtube URL\n",
    "    output: m3u8 object segment\n",
    "    \"\"\"\n",
    "    #Get stream\n",
    "    streams = streamlink.streams(url)\n",
    "    stream_url = streams[\"360p\"] #Alternate, use \"best\"\n",
    "\n",
    "    m3u8_obj = m3u8.load(stream_url.args['url'])\n",
    "    return m3u8_obj.segments[0] #Parsed stream\n",
    "\n",
    "def openCVProcessing(saved_video_file):\n",
    "    '''View saved video with openCV\n",
    "    Add your other steps here'''\n",
    "    capture = cv2.VideoCapture(saved_video_file)\n",
    "\n",
    "    while capture.isOpened():\n",
    "        grabbed, frame = capture.read()  #read in single frame\n",
    "        if grabbed == False:\n",
    "            break\n",
    "\n",
    "        #openCV processing goes here\n",
    "        #\n",
    "        \n",
    "        cv2.imshow('frame',frame)  #Show the frame\n",
    "        \n",
    "        #Shown in a new window, To exit, push q on the keyboard\n",
    "        if cv2.waitKey(20) & 0xFF == ord('q'):\n",
    "            break\n",
    "\n",
    "    capture.release()\n",
    "    cv2.destroyAllWindows()  #close the windows automatically\n",
    "\n",
    "def dl_stream(url, filename, chunks):\n",
    "    \"\"\"\n",
    "    Download each chunk to file\n",
    "    input: url, filename, and number of chunks (int)\n",
    "    output: saves file at filename location\n",
    "    returns none.\n",
    "    \"\"\"\n",
    "    pre_time_stamp = 0\n",
    "    \n",
    "    #Repeat for each chunk\n",
    "    #Needs to be in chunks beceause \n",
    "    #  1) it's live and \n",
    "    #  2) it won't let you leave the stream open forever\n",
    "    i=1\n",
    "    while i <= chunks:\n",
    "       \n",
    "        #Open stream\n",
    "        stream_segment = get_stream(url)\n",
    "        #Get current time\n",
    "        cur_time_stamp = \\\n",
    "            stream_segment.program_date_time.strftime(\"%Y%m%d-%H%M%S\")\n",
    "        #Only get next time step, wait if it's not new yet\n",
    "        if pre_time_stamp == cur_time_stamp:\n",
    "            #Don't increment counter if we didn't get a chunk\n",
    "            pass\n",
    "        else:\n",
    "            print(f'#{i} at time {cur_time_stamp}')\n",
    "            #Open file for writing stream\n",
    "            file = open(filename, 'ab+') #ab+ means keep adding to file\n",
    "            #Write stream to file\n",
    "            with urllib.request.urlopen(stream_segment.uri) as response:\n",
    "                html = response.read()\n",
    "                openCVProcessing(html)\n",
    "                #file.write(html)\n",
    "            #Update time stamp\n",
    "            pre_time_stamp = cur_time_stamp\n",
    "            i += 1 #only increment if we got a new chunk\n",
    "\n",
    "    return None\n"
   ]
  },
  {
   "cell_type": "code",
   "execution_count": null,
   "id": "1cef45f4",
   "metadata": {
    "hidden": true
   },
   "outputs": [],
   "source": [
    "tempFile = \"temp.ts\"  #files are format ts, open cv can view them\n",
    "videoURL = \"https://www.youtube.com/watch?v=DoUOrTJbIu4\" #Jackson hole town square, live stream\n",
    "\n",
    "dl_stream(videoURL, tempFile, 5)\n",
    "#openCVProcessing(tempFile)"
   ]
  },
  {
   "cell_type": "code",
   "execution_count": 8,
   "id": "instant-ballet",
   "metadata": {
    "ExecuteTime": {
     "end_time": "2021-05-18T15:06:04.384565Z",
     "start_time": "2021-05-18T15:05:52.311024Z"
    },
    "hidden": true
   },
   "outputs": [
    {
     "ename": "PluginError",
     "evalue": "Unable to open URL: https://youtube.com/get_video_info (404 Client Error: Not Found for url: https://www.youtube.com/get_video_info?video_id=DoUOrTJbIu4&el=detailpage)",
     "output_type": "error",
     "traceback": [
      "\u001b[1;31m---------------------------------------------------------------------------\u001b[0m",
      "\u001b[1;31mHTTPError\u001b[0m                                 Traceback (most recent call last)",
      "\u001b[1;32m~\\AppData\\Roaming\\Python\\Python37\\site-packages\\streamlink\\plugin\\api\\http_session.py\u001b[0m in \u001b[0;36mrequest\u001b[1;34m(self, method, url, *args, **kwargs)\u001b[0m\n\u001b[0;32m    132\u001b[0m                 \u001b[1;32mif\u001b[0m \u001b[0mraise_for_status\u001b[0m \u001b[1;32mand\u001b[0m \u001b[0mres\u001b[0m\u001b[1;33m.\u001b[0m\u001b[0mstatus_code\u001b[0m \u001b[1;32mnot\u001b[0m \u001b[1;32min\u001b[0m \u001b[0macceptable_status\u001b[0m\u001b[1;33m:\u001b[0m\u001b[1;33m\u001b[0m\u001b[1;33m\u001b[0m\u001b[0m\n\u001b[1;32m--> 133\u001b[1;33m                     \u001b[0mres\u001b[0m\u001b[1;33m.\u001b[0m\u001b[0mraise_for_status\u001b[0m\u001b[1;33m(\u001b[0m\u001b[1;33m)\u001b[0m\u001b[1;33m\u001b[0m\u001b[1;33m\u001b[0m\u001b[0m\n\u001b[0m\u001b[0;32m    134\u001b[0m                 \u001b[1;32mbreak\u001b[0m\u001b[1;33m\u001b[0m\u001b[1;33m\u001b[0m\u001b[0m\n",
      "\u001b[1;32mc:\\users\\rejex\\.conda\\envs\\parking_vacancy_tf2\\lib\\site-packages\\requests\\models.py\u001b[0m in \u001b[0;36mraise_for_status\u001b[1;34m(self)\u001b[0m\n\u001b[0;32m    942\u001b[0m         \u001b[1;32mif\u001b[0m \u001b[0mhttp_error_msg\u001b[0m\u001b[1;33m:\u001b[0m\u001b[1;33m\u001b[0m\u001b[1;33m\u001b[0m\u001b[0m\n\u001b[1;32m--> 943\u001b[1;33m             \u001b[1;32mraise\u001b[0m \u001b[0mHTTPError\u001b[0m\u001b[1;33m(\u001b[0m\u001b[0mhttp_error_msg\u001b[0m\u001b[1;33m,\u001b[0m \u001b[0mresponse\u001b[0m\u001b[1;33m=\u001b[0m\u001b[0mself\u001b[0m\u001b[1;33m)\u001b[0m\u001b[1;33m\u001b[0m\u001b[1;33m\u001b[0m\u001b[0m\n\u001b[0m\u001b[0;32m    944\u001b[0m \u001b[1;33m\u001b[0m\u001b[0m\n",
      "\u001b[1;31mHTTPError\u001b[0m: 404 Client Error: Not Found for url: https://www.youtube.com/get_video_info?video_id=DoUOrTJbIu4&el=detailpage",
      "\nDuring handling of the above exception, another exception occurred:\n",
      "\u001b[1;31mPluginError\u001b[0m                               Traceback (most recent call last)",
      "\u001b[1;32m<ipython-input-8-508866a190e2>\u001b[0m in \u001b[0;36m<module>\u001b[1;34m\u001b[0m\n\u001b[0;32m      3\u001b[0m \u001b[0murl\u001b[0m \u001b[1;33m=\u001b[0m \u001b[1;34m\"https://www.youtube.com/watch?v=DoUOrTJbIu4\"\u001b[0m \u001b[1;31m#Jackson hole town square, live stream\u001b[0m\u001b[1;33m\u001b[0m\u001b[1;33m\u001b[0m\u001b[0m\n\u001b[0;32m      4\u001b[0m \u001b[1;33m\u001b[0m\u001b[0m\n\u001b[1;32m----> 5\u001b[1;33m \u001b[0mstream_segment\u001b[0m \u001b[1;33m=\u001b[0m \u001b[0mget_stream\u001b[0m\u001b[1;33m(\u001b[0m\u001b[0murl\u001b[0m\u001b[1;33m)\u001b[0m\u001b[1;33m\u001b[0m\u001b[1;33m\u001b[0m\u001b[0m\n\u001b[0m\u001b[0;32m      6\u001b[0m \u001b[1;31m#Open file for writing stream\u001b[0m\u001b[1;33m\u001b[0m\u001b[1;33m\u001b[0m\u001b[1;33m\u001b[0m\u001b[0m\n\u001b[0;32m      7\u001b[0m \u001b[0mfile\u001b[0m \u001b[1;33m=\u001b[0m \u001b[0mopen\u001b[0m\u001b[1;33m(\u001b[0m\u001b[1;34m\"test.ts\"\u001b[0m\u001b[1;33m,\u001b[0m \u001b[1;34m'ab+'\u001b[0m\u001b[1;33m)\u001b[0m \u001b[1;31m#ab+ means keep adding to file\u001b[0m\u001b[1;33m\u001b[0m\u001b[1;33m\u001b[0m\u001b[0m\n",
      "\u001b[1;32m<ipython-input-7-ca00c52f2e2e>\u001b[0m in \u001b[0;36mget_stream\u001b[1;34m(url)\u001b[0m\n\u001b[0;32m      7\u001b[0m     \"\"\"\n\u001b[0;32m      8\u001b[0m     \u001b[1;31m#Get stream\u001b[0m\u001b[1;33m\u001b[0m\u001b[1;33m\u001b[0m\u001b[1;33m\u001b[0m\u001b[0m\n\u001b[1;32m----> 9\u001b[1;33m     \u001b[0mstreams\u001b[0m \u001b[1;33m=\u001b[0m \u001b[0mstreamlink\u001b[0m\u001b[1;33m.\u001b[0m\u001b[0mstreams\u001b[0m\u001b[1;33m(\u001b[0m\u001b[0murl\u001b[0m\u001b[1;33m)\u001b[0m\u001b[1;33m\u001b[0m\u001b[1;33m\u001b[0m\u001b[0m\n\u001b[0m\u001b[0;32m     10\u001b[0m     \u001b[0mstream_url\u001b[0m \u001b[1;33m=\u001b[0m \u001b[0mstreams\u001b[0m\u001b[1;33m[\u001b[0m\u001b[1;34m\"360p\"\u001b[0m\u001b[1;33m]\u001b[0m \u001b[1;31m#Alternate, use \"best\"\u001b[0m\u001b[1;33m\u001b[0m\u001b[1;33m\u001b[0m\u001b[0m\n\u001b[0;32m     11\u001b[0m \u001b[1;33m\u001b[0m\u001b[0m\n",
      "\u001b[1;32m~\\AppData\\Roaming\\Python\\Python37\\site-packages\\streamlink\\api.py\u001b[0m in \u001b[0;36mstreams\u001b[1;34m(url, **params)\u001b[0m\n\u001b[0;32m     11\u001b[0m \u001b[1;33m\u001b[0m\u001b[0m\n\u001b[0;32m     12\u001b[0m     \u001b[0msession\u001b[0m \u001b[1;33m=\u001b[0m \u001b[0mStreamlink\u001b[0m\u001b[1;33m(\u001b[0m\u001b[1;33m)\u001b[0m\u001b[1;33m\u001b[0m\u001b[1;33m\u001b[0m\u001b[0m\n\u001b[1;32m---> 13\u001b[1;33m     \u001b[1;32mreturn\u001b[0m \u001b[0msession\u001b[0m\u001b[1;33m.\u001b[0m\u001b[0mstreams\u001b[0m\u001b[1;33m(\u001b[0m\u001b[0murl\u001b[0m\u001b[1;33m,\u001b[0m \u001b[1;33m**\u001b[0m\u001b[0mparams\u001b[0m\u001b[1;33m)\u001b[0m\u001b[1;33m\u001b[0m\u001b[1;33m\u001b[0m\u001b[0m\n\u001b[0m",
      "\u001b[1;32m~\\AppData\\Roaming\\Python\\Python37\\site-packages\\streamlink\\session.py\u001b[0m in \u001b[0;36mstreams\u001b[1;34m(self, url, **params)\u001b[0m\n\u001b[0;32m    435\u001b[0m \u001b[1;33m\u001b[0m\u001b[0m\n\u001b[0;32m    436\u001b[0m         \u001b[0mplugin\u001b[0m \u001b[1;33m=\u001b[0m \u001b[0mself\u001b[0m\u001b[1;33m.\u001b[0m\u001b[0mresolve_url\u001b[0m\u001b[1;33m(\u001b[0m\u001b[0murl\u001b[0m\u001b[1;33m)\u001b[0m\u001b[1;33m\u001b[0m\u001b[1;33m\u001b[0m\u001b[0m\n\u001b[1;32m--> 437\u001b[1;33m         \u001b[1;32mreturn\u001b[0m \u001b[0mplugin\u001b[0m\u001b[1;33m.\u001b[0m\u001b[0mstreams\u001b[0m\u001b[1;33m(\u001b[0m\u001b[1;33m**\u001b[0m\u001b[0mparams\u001b[0m\u001b[1;33m)\u001b[0m\u001b[1;33m\u001b[0m\u001b[1;33m\u001b[0m\u001b[0m\n\u001b[0m\u001b[0;32m    438\u001b[0m \u001b[1;33m\u001b[0m\u001b[0m\n\u001b[0;32m    439\u001b[0m     \u001b[1;32mdef\u001b[0m \u001b[0mget_plugins\u001b[0m\u001b[1;33m(\u001b[0m\u001b[0mself\u001b[0m\u001b[1;33m)\u001b[0m\u001b[1;33m:\u001b[0m\u001b[1;33m\u001b[0m\u001b[1;33m\u001b[0m\u001b[0m\n",
      "\u001b[1;32m~\\AppData\\Roaming\\Python\\Python37\\site-packages\\streamlink\\plugin\\plugin.py\u001b[0m in \u001b[0;36mstreams\u001b[1;34m(self, stream_types, sorting_excludes)\u001b[0m\n\u001b[0;32m    315\u001b[0m \u001b[1;33m\u001b[0m\u001b[0m\n\u001b[0;32m    316\u001b[0m         \u001b[1;32mtry\u001b[0m\u001b[1;33m:\u001b[0m\u001b[1;33m\u001b[0m\u001b[1;33m\u001b[0m\u001b[0m\n\u001b[1;32m--> 317\u001b[1;33m             \u001b[0mostreams\u001b[0m \u001b[1;33m=\u001b[0m \u001b[0mself\u001b[0m\u001b[1;33m.\u001b[0m\u001b[0m_get_streams\u001b[0m\u001b[1;33m(\u001b[0m\u001b[1;33m)\u001b[0m\u001b[1;33m\u001b[0m\u001b[1;33m\u001b[0m\u001b[0m\n\u001b[0m\u001b[0;32m    318\u001b[0m             \u001b[1;32mif\u001b[0m \u001b[0misinstance\u001b[0m\u001b[1;33m(\u001b[0m\u001b[0mostreams\u001b[0m\u001b[1;33m,\u001b[0m \u001b[0mdict\u001b[0m\u001b[1;33m)\u001b[0m\u001b[1;33m:\u001b[0m\u001b[1;33m\u001b[0m\u001b[1;33m\u001b[0m\u001b[0m\n\u001b[0;32m    319\u001b[0m                 \u001b[0mostreams\u001b[0m \u001b[1;33m=\u001b[0m \u001b[0mostreams\u001b[0m\u001b[1;33m.\u001b[0m\u001b[0mitems\u001b[0m\u001b[1;33m(\u001b[0m\u001b[1;33m)\u001b[0m\u001b[1;33m\u001b[0m\u001b[1;33m\u001b[0m\u001b[0m\n",
      "\u001b[1;32m~\\AppData\\Roaming\\Python\\Python37\\site-packages\\streamlink\\plugins\\youtube.py\u001b[0m in \u001b[0;36m_get_streams\u001b[1;34m(self)\u001b[0m\n\u001b[0;32m    313\u001b[0m         \u001b[0mlog\u001b[0m\u001b[1;33m.\u001b[0m\u001b[0mdebug\u001b[0m\u001b[1;33m(\u001b[0m\u001b[1;34mf\"Using video ID: {self.video_id}\"\u001b[0m\u001b[1;33m)\u001b[0m\u001b[1;33m\u001b[0m\u001b[1;33m\u001b[0m\u001b[0m\n\u001b[0;32m    314\u001b[0m \u001b[1;33m\u001b[0m\u001b[0m\n\u001b[1;32m--> 315\u001b[1;33m         \u001b[0minfo\u001b[0m \u001b[1;33m=\u001b[0m \u001b[0mself\u001b[0m\u001b[1;33m.\u001b[0m\u001b[0m_get_stream_info\u001b[0m\u001b[1;33m(\u001b[0m\u001b[0mself\u001b[0m\u001b[1;33m.\u001b[0m\u001b[0mvideo_id\u001b[0m\u001b[1;33m)\u001b[0m\u001b[1;33m\u001b[0m\u001b[1;33m\u001b[0m\u001b[0m\n\u001b[0m\u001b[0;32m    316\u001b[0m         \u001b[1;32mif\u001b[0m \u001b[0minfo\u001b[0m \u001b[1;32mand\u001b[0m \u001b[0minfo\u001b[0m\u001b[1;33m.\u001b[0m\u001b[0mget\u001b[0m\u001b[1;33m(\u001b[0m\u001b[1;34m\"status\"\u001b[0m\u001b[1;33m)\u001b[0m \u001b[1;33m==\u001b[0m \u001b[1;34m\"fail\"\u001b[0m\u001b[1;33m:\u001b[0m\u001b[1;33m\u001b[0m\u001b[1;33m\u001b[0m\u001b[0m\n\u001b[0;32m    317\u001b[0m             \u001b[0mlog\u001b[0m\u001b[1;33m.\u001b[0m\u001b[0merror\u001b[0m\u001b[1;33m(\u001b[0m\u001b[1;34m\"Could not get video info: {0}\"\u001b[0m\u001b[1;33m.\u001b[0m\u001b[0mformat\u001b[0m\u001b[1;33m(\u001b[0m\u001b[0minfo\u001b[0m\u001b[1;33m.\u001b[0m\u001b[0mget\u001b[0m\u001b[1;33m(\u001b[0m\u001b[1;34m\"reason\"\u001b[0m\u001b[1;33m)\u001b[0m\u001b[1;33m)\u001b[0m\u001b[1;33m)\u001b[0m\u001b[1;33m\u001b[0m\u001b[1;33m\u001b[0m\u001b[0m\n",
      "\u001b[1;32m~\\AppData\\Roaming\\Python\\Python37\\site-packages\\streamlink\\plugins\\youtube.py\u001b[0m in \u001b[0;36m_get_stream_info\u001b[1;34m(self, video_id)\u001b[0m\n\u001b[0;32m    290\u001b[0m             \u001b[0mparams\u001b[0m\u001b[1;33m.\u001b[0m\u001b[0mupdate\u001b[0m\u001b[1;33m(\u001b[0m\u001b[0m_params\u001b[0m\u001b[1;33m)\u001b[0m\u001b[1;33m\u001b[0m\u001b[1;33m\u001b[0m\u001b[0m\n\u001b[0;32m    291\u001b[0m \u001b[1;33m\u001b[0m\u001b[0m\n\u001b[1;32m--> 292\u001b[1;33m             \u001b[0mres\u001b[0m \u001b[1;33m=\u001b[0m \u001b[0mself\u001b[0m\u001b[1;33m.\u001b[0m\u001b[0msession\u001b[0m\u001b[1;33m.\u001b[0m\u001b[0mhttp\u001b[0m\u001b[1;33m.\u001b[0m\u001b[0mget\u001b[0m\u001b[1;33m(\u001b[0m\u001b[0mself\u001b[0m\u001b[1;33m.\u001b[0m\u001b[0m_video_info_url\u001b[0m\u001b[1;33m,\u001b[0m \u001b[0mparams\u001b[0m\u001b[1;33m=\u001b[0m\u001b[0mparams\u001b[0m\u001b[1;33m)\u001b[0m\u001b[1;33m\u001b[0m\u001b[1;33m\u001b[0m\u001b[0m\n\u001b[0m\u001b[0;32m    293\u001b[0m             \u001b[0minfo_parsed\u001b[0m \u001b[1;33m=\u001b[0m \u001b[0mparse_query\u001b[0m\u001b[1;33m(\u001b[0m\u001b[0mres\u001b[0m\u001b[1;33m.\u001b[0m\u001b[0mtext\u001b[0m\u001b[1;33m,\u001b[0m \u001b[0mname\u001b[0m\u001b[1;33m=\u001b[0m\u001b[1;34m\"config\"\u001b[0m\u001b[1;33m,\u001b[0m \u001b[0mschema\u001b[0m\u001b[1;33m=\u001b[0m\u001b[0m_config_schema\u001b[0m\u001b[1;33m)\u001b[0m\u001b[1;33m\u001b[0m\u001b[1;33m\u001b[0m\u001b[0m\n\u001b[0;32m    294\u001b[0m             \u001b[0mplayer_response\u001b[0m \u001b[1;33m=\u001b[0m \u001b[0minfo_parsed\u001b[0m\u001b[1;33m.\u001b[0m\u001b[0mget\u001b[0m\u001b[1;33m(\u001b[0m\u001b[1;34m\"player_response\"\u001b[0m\u001b[1;33m,\u001b[0m \u001b[1;33m{\u001b[0m\u001b[1;33m}\u001b[0m\u001b[1;33m)\u001b[0m\u001b[1;33m\u001b[0m\u001b[1;33m\u001b[0m\u001b[0m\n",
      "\u001b[1;32mc:\\users\\rejex\\.conda\\envs\\parking_vacancy_tf2\\lib\\site-packages\\requests\\sessions.py\u001b[0m in \u001b[0;36mget\u001b[1;34m(self, url, **kwargs)\u001b[0m\n\u001b[0;32m    553\u001b[0m \u001b[1;33m\u001b[0m\u001b[0m\n\u001b[0;32m    554\u001b[0m         \u001b[0mkwargs\u001b[0m\u001b[1;33m.\u001b[0m\u001b[0msetdefault\u001b[0m\u001b[1;33m(\u001b[0m\u001b[1;34m'allow_redirects'\u001b[0m\u001b[1;33m,\u001b[0m \u001b[1;32mTrue\u001b[0m\u001b[1;33m)\u001b[0m\u001b[1;33m\u001b[0m\u001b[1;33m\u001b[0m\u001b[0m\n\u001b[1;32m--> 555\u001b[1;33m         \u001b[1;32mreturn\u001b[0m \u001b[0mself\u001b[0m\u001b[1;33m.\u001b[0m\u001b[0mrequest\u001b[0m\u001b[1;33m(\u001b[0m\u001b[1;34m'GET'\u001b[0m\u001b[1;33m,\u001b[0m \u001b[0murl\u001b[0m\u001b[1;33m,\u001b[0m \u001b[1;33m**\u001b[0m\u001b[0mkwargs\u001b[0m\u001b[1;33m)\u001b[0m\u001b[1;33m\u001b[0m\u001b[1;33m\u001b[0m\u001b[0m\n\u001b[0m\u001b[0;32m    556\u001b[0m \u001b[1;33m\u001b[0m\u001b[0m\n\u001b[0;32m    557\u001b[0m     \u001b[1;32mdef\u001b[0m \u001b[0moptions\u001b[0m\u001b[1;33m(\u001b[0m\u001b[0mself\u001b[0m\u001b[1;33m,\u001b[0m \u001b[0murl\u001b[0m\u001b[1;33m,\u001b[0m \u001b[1;33m**\u001b[0m\u001b[0mkwargs\u001b[0m\u001b[1;33m)\u001b[0m\u001b[1;33m:\u001b[0m\u001b[1;33m\u001b[0m\u001b[1;33m\u001b[0m\u001b[0m\n",
      "\u001b[1;32m~\\AppData\\Roaming\\Python\\Python37\\site-packages\\streamlink\\plugin\\api\\http_session.py\u001b[0m in \u001b[0;36mrequest\u001b[1;34m(self, method, url, *args, **kwargs)\u001b[0m\n\u001b[0;32m    140\u001b[0m                                                                                err=rerr))\n\u001b[0;32m    141\u001b[0m                     \u001b[0merr\u001b[0m\u001b[1;33m.\u001b[0m\u001b[0merr\u001b[0m \u001b[1;33m=\u001b[0m \u001b[0mrerr\u001b[0m\u001b[1;33m\u001b[0m\u001b[1;33m\u001b[0m\u001b[0m\n\u001b[1;32m--> 142\u001b[1;33m                     \u001b[1;32mraise\u001b[0m \u001b[0merr\u001b[0m\u001b[1;33m\u001b[0m\u001b[1;33m\u001b[0m\u001b[0m\n\u001b[0m\u001b[0;32m    143\u001b[0m                 \u001b[0mretries\u001b[0m \u001b[1;33m+=\u001b[0m \u001b[1;36m1\u001b[0m\u001b[1;33m\u001b[0m\u001b[1;33m\u001b[0m\u001b[0m\n\u001b[0;32m    144\u001b[0m                 \u001b[1;31m# back off retrying, but only to a maximum sleep time\u001b[0m\u001b[1;33m\u001b[0m\u001b[1;33m\u001b[0m\u001b[1;33m\u001b[0m\u001b[0m\n",
      "\u001b[1;31mPluginError\u001b[0m: Unable to open URL: https://youtube.com/get_video_info (404 Client Error: Not Found for url: https://www.youtube.com/get_video_info?video_id=DoUOrTJbIu4&el=detailpage)"
     ]
    }
   ],
   "source": [
    "#Sandbox/scratch area\n",
    "\n",
    "url = \"https://www.youtube.com/watch?v=DoUOrTJbIu4\" #Jackson hole town square, live stream\n",
    "\n",
    "stream_segment = get_stream(url)\n",
    "#Open file for writing stream\n",
    "file = open(\"test.ts\", 'ab+') #ab+ means keep adding to file\n",
    "#Write stream to file\n",
    "with urllib.request.urlopen(stream_segment.uri) as response:\n",
    "    html = response.read()\n",
    "    #openCVProcessing(html)\n",
    "    file.write(html)\n",
    "    openCVProcessing(\"test.ts\")"
   ]
  },
  {
   "cell_type": "markdown",
   "id": "92c5477e",
   "metadata": {
    "hidden": true
   },
   "source": [
    "Scratch area"
   ]
  },
  {
   "cell_type": "code",
   "execution_count": null,
   "id": "5b3c610c",
   "metadata": {
    "hidden": true
   },
   "outputs": [],
   "source": [
    "stream_segment."
   ]
  },
  {
   "cell_type": "code",
   "execution_count": 2,
   "id": "39b88c6e",
   "metadata": {
    "hidden": true
   },
   "outputs": [
    {
     "ename": "NameError",
     "evalue": "name 'get_stream' is not defined",
     "output_type": "error",
     "traceback": [
      "\u001b[1;31m---------------------------------------------------------------------------\u001b[0m",
      "\u001b[1;31mNameError\u001b[0m                                 Traceback (most recent call last)",
      "\u001b[1;32m<ipython-input-2-aa82ecc25d73>\u001b[0m in \u001b[0;36m<module>\u001b[1;34m\u001b[0m\n\u001b[0;32m      1\u001b[0m \u001b[0murl\u001b[0m \u001b[1;33m=\u001b[0m \u001b[1;34m\"https://youtu.be/DoUOrTJbIu4\"\u001b[0m \u001b[1;31m#Jackson hole town square, live stream\u001b[0m\u001b[1;33m\u001b[0m\u001b[1;33m\u001b[0m\u001b[0m\n\u001b[1;32m----> 2\u001b[1;33m \u001b[0mstream_segment5\u001b[0m \u001b[1;33m=\u001b[0m \u001b[0mget_stream\u001b[0m\u001b[1;33m(\u001b[0m\u001b[0murl\u001b[0m\u001b[1;33m)\u001b[0m\u001b[1;33m\u001b[0m\u001b[1;33m\u001b[0m\u001b[0m\n\u001b[0m",
      "\u001b[1;31mNameError\u001b[0m: name 'get_stream' is not defined"
     ]
    }
   ],
   "source": [
    "url = \"https://youtu.be/DoUOrTJbIu4\" #Jackson hole town square, live stream\n",
    "stream_segment5 = get_stream(url)\n"
   ]
  },
  {
   "cell_type": "code",
   "execution_count": 23,
   "id": "287a2791",
   "metadata": {
    "hidden": true
   },
   "outputs": [],
   "source": [
    "t1 = stream_segment.program_date_time\n",
    "t2 = stream_segment2.program_date_time\n",
    "t3 = stream_segment4.program_date_time\n",
    "t5 = stream_segment5.program_date_time\n"
   ]
  },
  {
   "cell_type": "code",
   "execution_count": 45,
   "id": "f0113114",
   "metadata": {
    "hidden": true
   },
   "outputs": [
    {
     "name": "stdout",
     "output_type": "stream",
     "text": [
      "2021-05-18 20:47:49.848000+00:00\n",
      "2021-05-18 20:47:49.847000+00:00\n"
     ]
    }
   ],
   "source": [
    "\n",
    "durationDateTime = timedelta(seconds=stream_segment4.duration)\n",
    "print(t3+durationDateTime+durationDateTime)\n",
    "print(t5)"
   ]
  },
  {
   "cell_type": "code",
   "execution_count": 10,
   "id": "48437989",
   "metadata": {
    "hidden": true
   },
   "outputs": [
    {
     "name": "stdout",
     "output_type": "stream",
     "text": [
      "Attempt 1 of 10\n",
      "Attempt 2 of 10\n"
     ]
    }
   ],
   "source": [
    "tries = 10\n",
    "url = \"https://youtu.be/DoUOrTJbIu4\" #Jackson hole town square, live stream\n",
    "\n",
    "for i in range(tries):\n",
    "    try:\n",
    "        streams = streamlink.streams(url)\n",
    "    except:\n",
    "        if i < tries - 1: # i is zero indexed\n",
    "            print(f\"Attempt {i+1} of {tries}\")\n",
    "            time.sleep(0.1) #Wait half a second\n",
    "            continue\n",
    "        else:\n",
    "            raise\n",
    "    break\n",
    "\n",
    "stream_url = streams[\"360p\"] #Alternate, use \"best\""
   ]
  },
  {
   "cell_type": "code",
   "execution_count": 13,
   "id": "bbc69963",
   "metadata": {
    "hidden": true
   },
   "outputs": [
    {
     "data": {
      "text/plain": [
       "odict_keys(['144p', '240p', '360p', '480p', '720p', '1080p', 'worst', 'best'])"
      ]
     },
     "execution_count": 13,
     "metadata": {},
     "output_type": "execute_result"
    }
   ],
   "source": [
    "streams.keys()"
   ]
  },
  {
   "cell_type": "code",
   "execution_count": 36,
   "id": "numerical-penetration",
   "metadata": {
    "ExecuteTime": {
     "end_time": "2021-05-18T15:08:04.813974Z",
     "start_time": "2021-05-18T15:08:04.767911Z"
    },
    "hidden": true
   },
   "outputs": [
    {
     "name": "stdout",
     "output_type": "stream",
     "text": [
      "Help on Segment in module m3u8.model object:\n",
      "\n",
      "class Segment(m3u8.mixins.BasePathMixin)\n",
      " |  Segment(uri=None, base_uri=None, program_date_time=None, current_program_date_time=None, duration=None, title=None, byterange=None, cue_out=False, cue_out_start=False, cue_in=False, discontinuity=False, key=None, scte35=None, scte35_duration=None, keyobject=None, parts=None, init_section=None, dateranges=None, gap_tag=None)\n",
      " |  \n",
      " |  A video segment from a M3U8 playlist\n",
      " |  \n",
      " |  `uri`\n",
      " |    a string with the segment uri\n",
      " |  \n",
      " |  `title`\n",
      " |    title attribute from EXTINF parameter\n",
      " |  \n",
      " |  `program_date_time`\n",
      " |    Returns the EXT-X-PROGRAM-DATE-TIME as a datetime. This field is only set\n",
      " |    if EXT-X-PROGRAM-DATE-TIME exists for this segment\n",
      " |    http://tools.ietf.org/html/draft-pantos-http-live-streaming-07#section-3.3.5\n",
      " |  \n",
      " |  `current_program_date_time`\n",
      " |    Returns a datetime of this segment, either the value of `program_date_time`\n",
      " |    when EXT-X-PROGRAM-DATE-TIME is set or a calculated value based on previous\n",
      " |    segments' EXT-X-PROGRAM-DATE-TIME and EXTINF values\n",
      " |  \n",
      " |  `discontinuity`\n",
      " |    Returns a boolean indicating if a EXT-X-DISCONTINUITY tag exists\n",
      " |    http://tools.ietf.org/html/draft-pantos-http-live-streaming-13#section-3.4.11\n",
      " |  \n",
      " |  `cue_out_start`\n",
      " |    Returns a boolean indicating if a EXT-X-CUE-OUT tag exists\n",
      " |  \n",
      " |  `cue_out`\n",
      " |    Returns a boolean indicating if a EXT-X-CUE-OUT-CONT tag exists\n",
      " |    Note: for backwards compatibility, this will be True when cue_out_start\n",
      " |          is True, even though this tag did not exist in the input, and\n",
      " |          EXT-X-CUE-OUT-CONT will not exist in the output\n",
      " |  \n",
      " |  `cue_in`\n",
      " |    Returns a boolean indicating if a EXT-X-CUE-IN tag exists\n",
      " |  \n",
      " |  `scte35`\n",
      " |    Base64 encoded SCTE35 metadata if available\n",
      " |  \n",
      " |  `scte35_duration`\n",
      " |    Planned SCTE35 duration\n",
      " |  \n",
      " |  `duration`\n",
      " |    duration attribute from EXTINF parameter\n",
      " |  \n",
      " |  `base_uri`\n",
      " |    uri the key comes from in URI hierarchy. ex.: http://example.com/path/to\n",
      " |  \n",
      " |  `byterange`\n",
      " |    byterange attribute from EXT-X-BYTERANGE parameter\n",
      " |  \n",
      " |  `key`\n",
      " |    Key used to encrypt the segment (EXT-X-KEY)\n",
      " |  \n",
      " |  `parts`\n",
      " |    partial segments that make up this segment\n",
      " |  \n",
      " |  `dateranges`\n",
      " |    any dateranges that should  preceed the segment\n",
      " |  \n",
      " |  `gap_tag`\n",
      " |    GAP tag indicates that a Media Segment is missing\n",
      " |  \n",
      " |  Method resolution order:\n",
      " |      Segment\n",
      " |      m3u8.mixins.BasePathMixin\n",
      " |      builtins.object\n",
      " |  \n",
      " |  Methods defined here:\n",
      " |  \n",
      " |  __init__(self, uri=None, base_uri=None, program_date_time=None, current_program_date_time=None, duration=None, title=None, byterange=None, cue_out=False, cue_out_start=False, cue_in=False, discontinuity=False, key=None, scte35=None, scte35_duration=None, keyobject=None, parts=None, init_section=None, dateranges=None, gap_tag=None)\n",
      " |      Initialize self.  See help(type(self)) for accurate signature.\n",
      " |  \n",
      " |  __str__(self)\n",
      " |      Return str(self).\n",
      " |  \n",
      " |  add_part(self, part)\n",
      " |  \n",
      " |  dumps(self, last_segment)\n",
      " |  \n",
      " |  ----------------------------------------------------------------------\n",
      " |  Data descriptors defined here:\n",
      " |  \n",
      " |  base_path\n",
      " |  \n",
      " |  base_uri\n",
      " |  \n",
      " |  ----------------------------------------------------------------------\n",
      " |  Methods inherited from m3u8.mixins.BasePathMixin:\n",
      " |  \n",
      " |  get_path_from_uri(self)\n",
      " |      Some URIs have a slash in the query string.\n",
      " |  \n",
      " |  ----------------------------------------------------------------------\n",
      " |  Data descriptors inherited from m3u8.mixins.BasePathMixin:\n",
      " |  \n",
      " |  __dict__\n",
      " |      dictionary for instance variables (if defined)\n",
      " |  \n",
      " |  __weakref__\n",
      " |      list of weak references to the object (if defined)\n",
      " |  \n",
      " |  absolute_uri\n",
      "\n"
     ]
    }
   ],
   "source": [
    "help(stream_segment)"
   ]
  },
  {
   "cell_type": "code",
   "execution_count": 47,
   "id": "careful-romania",
   "metadata": {
    "ExecuteTime": {
     "end_time": "2021-05-18T15:38:04.634275Z",
     "start_time": "2021-05-18T15:38:04.599368Z"
    },
    "hidden": true
   },
   "outputs": [
    {
     "data": {
      "text/plain": [
       "[('__class__', m3u8.model.Segment),\n",
       " ('__delattr__',\n",
       "  <method-wrapper '__delattr__' of Segment object at 0x000002A10E0A8F28>),\n",
       " ('__dict__',\n",
       "  {'uri': 'https://r5---sn-q4fl6nsy.googlevideo.com/videoplayback/id/DoUOrTJbIu4.0/itag/93/source/yt_live_broadcast/expire/1621371952/ei/0NejYNH-Hpupir4Pwei-wAM/ip/75.60.121.193/requiressl/yes/ratebypass/yes/live/1/sgoap/gir%3Dyes%3Bitag%3D140/sgovp/gir%3Dyes%3Bitag%3D134/hls_chunk_host/r5---sn-q4fl6nsy.googlevideo.com/playlist_duration/30/manifest_duration/30/vprv/1/playlist_type/DVR/initcwndbps/9360/mh/9I/mm/44/mn/sn-q4fl6nsy/ms/lva/mv/m/mvi/5/pl/24/keepalive/yes/fexp/24001373,24007246/mt/1621349559/sparams/expire,ei,ip,id,itag,source,requiressl,ratebypass,live,sgoap,sgovp,playlist_duration,manifest_duration,vprv,playlist_type/sig/AOq0QJ8wRgIhAKvALUF27ZSiGhHdsISTaFFF7A2-Sa6rs6Ef4JoZgzIEAiEAk0bWcYmWedj_CxSMANrIX2c8tLlmT9TX9oUhmbotQZY%3D/lsparams/hls_chunk_host,initcwndbps,mh,mm,mn,ms,mv,mvi,pl/lsig/AG3C_xAwRQIgOO3HTCLhz3zUeuUHEq-Qt6XuOMRAVzpDCLH3EJUB7rACIQDpm3YPeYaSz3S3VsYCxlFMJT7-XUBYYeM94NR2_VBEAA%3D%3D/playlist/index.m3u8/sq/6384529/goap/clen%3D81126%3Blmt%3D1621187225209444/govp/clen%3D125607%3Blmt%3D1621187225209439/dur/5.000/file/seg.ts',\n",
       "   'duration': 5.0,\n",
       "   'title': '',\n",
       "   '_base_uri': 'https://manifest.googlevideo.com/api/manifest/hls_playlist/expire/1621371952/ei/0NejYNH-Hpupir4Pwei-wAM/ip/75.60.121.193/id/DoUOrTJbIu4.0/itag/93/source/yt_live_broadcast/requiressl/yes/ratebypass/yes/live/1/sgoap/gir%3Dyes%3Bitag%3D140/sgovp/gir%3Dyes%3Bitag%3D134/hls_chunk_host/r5---sn-q4fl6nsy.googlevideo.com/playlist_duration/30/manifest_duration/30/vprv/1/playlist_type/DVR/initcwndbps/9360/mh/9I/mm/44/mn/sn-q4fl6nsy/ms/lva/mv/m/mvi/5/pl/24/dover/11/keepalive/yes/fexp/24001373,24007246/mt/1621349559/sparams/expire,ei,ip,id,itag,source,requiressl,ratebypass,live,sgoap,sgovp,playlist_duration,manifest_duration,vprv,playlist_type/sig/AOq0QJ8wRgIhAKvALUF27ZSiGhHdsISTaFFF7A2-Sa6rs6Ef4JoZgzIEAiEAk0bWcYmWedj_CxSMANrIX2c8tLlmT9TX9oUhmbotQZY%3D/lsparams/hls_chunk_host,initcwndbps,mh,mm,mn,ms,mv,mvi,pl/lsig/AG3C_xAwRQIgOO3HTCLhz3zUeuUHEq-Qt6XuOMRAVzpDCLH3EJUB7rACIQDpm3YPeYaSz3S3VsYCxlFMJT7-XUBYYeM94NR2_VBEAA%3D%3D/playlist/',\n",
       "   'byterange': None,\n",
       "   'program_date_time': datetime.datetime(2021, 5, 18, 15, 5, 9, 887000, tzinfo=datetime.timezone(datetime.timedelta(0), '+00:00')),\n",
       "   'current_program_date_time': datetime.datetime(2021, 5, 18, 15, 5, 9, 887000, tzinfo=datetime.timezone(datetime.timedelta(0), '+00:00')),\n",
       "   'discontinuity': False,\n",
       "   'cue_out_start': False,\n",
       "   'cue_out': False,\n",
       "   'cue_in': False,\n",
       "   'scte35': None,\n",
       "   'scte35_duration': None,\n",
       "   'key': None,\n",
       "   'parts': [],\n",
       "   'init_section': None,\n",
       "   'dateranges': [],\n",
       "   'gap_tag': None}),\n",
       " ('__doc__',\n",
       "  \"\\n    A video segment from a M3U8 playlist\\n\\n    `uri`\\n      a string with the segment uri\\n\\n    `title`\\n      title attribute from EXTINF parameter\\n\\n    `program_date_time`\\n      Returns the EXT-X-PROGRAM-DATE-TIME as a datetime. This field is only set\\n      if EXT-X-PROGRAM-DATE-TIME exists for this segment\\n      http://tools.ietf.org/html/draft-pantos-http-live-streaming-07#section-3.3.5\\n\\n    `current_program_date_time`\\n      Returns a datetime of this segment, either the value of `program_date_time`\\n      when EXT-X-PROGRAM-DATE-TIME is set or a calculated value based on previous\\n      segments' EXT-X-PROGRAM-DATE-TIME and EXTINF values\\n\\n    `discontinuity`\\n      Returns a boolean indicating if a EXT-X-DISCONTINUITY tag exists\\n      http://tools.ietf.org/html/draft-pantos-http-live-streaming-13#section-3.4.11\\n\\n    `cue_out_start`\\n      Returns a boolean indicating if a EXT-X-CUE-OUT tag exists\\n\\n    `cue_out`\\n      Returns a boolean indicating if a EXT-X-CUE-OUT-CONT tag exists\\n      Note: for backwards compatibility, this will be True when cue_out_start\\n            is True, even though this tag did not exist in the input, and\\n            EXT-X-CUE-OUT-CONT will not exist in the output\\n\\n    `cue_in`\\n      Returns a boolean indicating if a EXT-X-CUE-IN tag exists\\n\\n    `scte35`\\n      Base64 encoded SCTE35 metadata if available\\n\\n    `scte35_duration`\\n      Planned SCTE35 duration\\n\\n    `duration`\\n      duration attribute from EXTINF parameter\\n\\n    `base_uri`\\n      uri the key comes from in URI hierarchy. ex.: http://example.com/path/to\\n\\n    `byterange`\\n      byterange attribute from EXT-X-BYTERANGE parameter\\n\\n    `key`\\n      Key used to encrypt the segment (EXT-X-KEY)\\n\\n    `parts`\\n      partial segments that make up this segment\\n\\n    `dateranges`\\n      any dateranges that should  preceed the segment\\n\\n    `gap_tag`\\n      GAP tag indicates that a Media Segment is missing\\n    \"),\n",
       " ('__eq__', <method-wrapper '__eq__' of Segment object at 0x000002A10E0A8F28>),\n",
       " ('__ge__', <method-wrapper '__ge__' of Segment object at 0x000002A10E0A8F28>),\n",
       " ('__getattribute__',\n",
       "  <method-wrapper '__getattribute__' of Segment object at 0x000002A10E0A8F28>),\n",
       " ('__gt__', <method-wrapper '__gt__' of Segment object at 0x000002A10E0A8F28>),\n",
       " ('__hash__',\n",
       "  <method-wrapper '__hash__' of Segment object at 0x000002A10E0A8F28>),\n",
       " ('__le__', <method-wrapper '__le__' of Segment object at 0x000002A10E0A8F28>),\n",
       " ('__lt__', <method-wrapper '__lt__' of Segment object at 0x000002A10E0A8F28>),\n",
       " ('__module__', 'm3u8.model'),\n",
       " ('__ne__', <method-wrapper '__ne__' of Segment object at 0x000002A10E0A8F28>),\n",
       " ('__repr__',\n",
       "  <method-wrapper '__repr__' of Segment object at 0x000002A10E0A8F28>),\n",
       " ('__setattr__',\n",
       "  <method-wrapper '__setattr__' of Segment object at 0x000002A10E0A8F28>),\n",
       " ('__weakref__', None),\n",
       " ('_base_uri',\n",
       "  'https://manifest.googlevideo.com/api/manifest/hls_playlist/expire/1621371952/ei/0NejYNH-Hpupir4Pwei-wAM/ip/75.60.121.193/id/DoUOrTJbIu4.0/itag/93/source/yt_live_broadcast/requiressl/yes/ratebypass/yes/live/1/sgoap/gir%3Dyes%3Bitag%3D140/sgovp/gir%3Dyes%3Bitag%3D134/hls_chunk_host/r5---sn-q4fl6nsy.googlevideo.com/playlist_duration/30/manifest_duration/30/vprv/1/playlist_type/DVR/initcwndbps/9360/mh/9I/mm/44/mn/sn-q4fl6nsy/ms/lva/mv/m/mvi/5/pl/24/dover/11/keepalive/yes/fexp/24001373,24007246/mt/1621349559/sparams/expire,ei,ip,id,itag,source,requiressl,ratebypass,live,sgoap,sgovp,playlist_duration,manifest_duration,vprv,playlist_type/sig/AOq0QJ8wRgIhAKvALUF27ZSiGhHdsISTaFFF7A2-Sa6rs6Ef4JoZgzIEAiEAk0bWcYmWedj_CxSMANrIX2c8tLlmT9TX9oUhmbotQZY%3D/lsparams/hls_chunk_host,initcwndbps,mh,mm,mn,ms,mv,mvi,pl/lsig/AG3C_xAwRQIgOO3HTCLhz3zUeuUHEq-Qt6XuOMRAVzpDCLH3EJUB7rACIQDpm3YPeYaSz3S3VsYCxlFMJT7-XUBYYeM94NR2_VBEAA%3D%3D/playlist/'),\n",
       " ('absolute_uri',\n",
       "  'https://r5---sn-q4fl6nsy.googlevideo.com/videoplayback/id/DoUOrTJbIu4.0/itag/93/source/yt_live_broadcast/expire/1621371952/ei/0NejYNH-Hpupir4Pwei-wAM/ip/75.60.121.193/requiressl/yes/ratebypass/yes/live/1/sgoap/gir%3Dyes%3Bitag%3D140/sgovp/gir%3Dyes%3Bitag%3D134/hls_chunk_host/r5---sn-q4fl6nsy.googlevideo.com/playlist_duration/30/manifest_duration/30/vprv/1/playlist_type/DVR/initcwndbps/9360/mh/9I/mm/44/mn/sn-q4fl6nsy/ms/lva/mv/m/mvi/5/pl/24/keepalive/yes/fexp/24001373,24007246/mt/1621349559/sparams/expire,ei,ip,id,itag,source,requiressl,ratebypass,live,sgoap,sgovp,playlist_duration,manifest_duration,vprv,playlist_type/sig/AOq0QJ8wRgIhAKvALUF27ZSiGhHdsISTaFFF7A2-Sa6rs6Ef4JoZgzIEAiEAk0bWcYmWedj_CxSMANrIX2c8tLlmT9TX9oUhmbotQZY%3D/lsparams/hls_chunk_host,initcwndbps,mh,mm,mn,ms,mv,mvi,pl/lsig/AG3C_xAwRQIgOO3HTCLhz3zUeuUHEq-Qt6XuOMRAVzpDCLH3EJUB7rACIQDpm3YPeYaSz3S3VsYCxlFMJT7-XUBYYeM94NR2_VBEAA%3D%3D/playlist/index.m3u8/sq/6384529/goap/clen%3D81126%3Blmt%3D1621187225209444/govp/clen%3D125607%3Blmt%3D1621187225209439/dur/5.000/file/seg.ts'),\n",
       " ('base_path',\n",
       "  'https://r5---sn-q4fl6nsy.googlevideo.com/videoplayback/id/DoUOrTJbIu4.0/itag/93/source/yt_live_broadcast/expire/1621371952/ei/0NejYNH-Hpupir4Pwei-wAM/ip/75.60.121.193/requiressl/yes/ratebypass/yes/live/1/sgoap/gir%3Dyes%3Bitag%3D140/sgovp/gir%3Dyes%3Bitag%3D134/hls_chunk_host/r5---sn-q4fl6nsy.googlevideo.com/playlist_duration/30/manifest_duration/30/vprv/1/playlist_type/DVR/initcwndbps/9360/mh/9I/mm/44/mn/sn-q4fl6nsy/ms/lva/mv/m/mvi/5/pl/24/keepalive/yes/fexp/24001373,24007246/mt/1621349559/sparams/expire,ei,ip,id,itag,source,requiressl,ratebypass,live,sgoap,sgovp,playlist_duration,manifest_duration,vprv,playlist_type/sig/AOq0QJ8wRgIhAKvALUF27ZSiGhHdsISTaFFF7A2-Sa6rs6Ef4JoZgzIEAiEAk0bWcYmWedj_CxSMANrIX2c8tLlmT9TX9oUhmbotQZY%3D/lsparams/hls_chunk_host,initcwndbps,mh,mm,mn,ms,mv,mvi,pl/lsig/AG3C_xAwRQIgOO3HTCLhz3zUeuUHEq-Qt6XuOMRAVzpDCLH3EJUB7rACIQDpm3YPeYaSz3S3VsYCxlFMJT7-XUBYYeM94NR2_VBEAA%3D%3D/playlist/index.m3u8/sq/6384529/goap/clen%3D81126%3Blmt%3D1621187225209444/govp/clen%3D125607%3Blmt%3D1621187225209439/dur/5.000/file'),\n",
       " ('base_uri',\n",
       "  'https://manifest.googlevideo.com/api/manifest/hls_playlist/expire/1621371952/ei/0NejYNH-Hpupir4Pwei-wAM/ip/75.60.121.193/id/DoUOrTJbIu4.0/itag/93/source/yt_live_broadcast/requiressl/yes/ratebypass/yes/live/1/sgoap/gir%3Dyes%3Bitag%3D140/sgovp/gir%3Dyes%3Bitag%3D134/hls_chunk_host/r5---sn-q4fl6nsy.googlevideo.com/playlist_duration/30/manifest_duration/30/vprv/1/playlist_type/DVR/initcwndbps/9360/mh/9I/mm/44/mn/sn-q4fl6nsy/ms/lva/mv/m/mvi/5/pl/24/dover/11/keepalive/yes/fexp/24001373,24007246/mt/1621349559/sparams/expire,ei,ip,id,itag,source,requiressl,ratebypass,live,sgoap,sgovp,playlist_duration,manifest_duration,vprv,playlist_type/sig/AOq0QJ8wRgIhAKvALUF27ZSiGhHdsISTaFFF7A2-Sa6rs6Ef4JoZgzIEAiEAk0bWcYmWedj_CxSMANrIX2c8tLlmT9TX9oUhmbotQZY%3D/lsparams/hls_chunk_host,initcwndbps,mh,mm,mn,ms,mv,mvi,pl/lsig/AG3C_xAwRQIgOO3HTCLhz3zUeuUHEq-Qt6XuOMRAVzpDCLH3EJUB7rACIQDpm3YPeYaSz3S3VsYCxlFMJT7-XUBYYeM94NR2_VBEAA%3D%3D/playlist/'),\n",
       " ('byterange', None),\n",
       " ('cue_in', False),\n",
       " ('cue_out', False),\n",
       " ('cue_out_start', False),\n",
       " ('current_program_date_time',\n",
       "  datetime.datetime(2021, 5, 18, 15, 5, 9, 887000, tzinfo=datetime.timezone(datetime.timedelta(0), '+00:00'))),\n",
       " ('dateranges', []),\n",
       " ('discontinuity', False),\n",
       " ('duration', 5.0),\n",
       " ('gap_tag', None),\n",
       " ('init_section', None),\n",
       " ('key', None),\n",
       " ('parts', []),\n",
       " ('program_date_time',\n",
       "  datetime.datetime(2021, 5, 18, 15, 5, 9, 887000, tzinfo=datetime.timezone(datetime.timedelta(0), '+00:00'))),\n",
       " ('scte35', None),\n",
       " ('scte35_duration', None),\n",
       " ('title', ''),\n",
       " ('uri',\n",
       "  'https://r5---sn-q4fl6nsy.googlevideo.com/videoplayback/id/DoUOrTJbIu4.0/itag/93/source/yt_live_broadcast/expire/1621371952/ei/0NejYNH-Hpupir4Pwei-wAM/ip/75.60.121.193/requiressl/yes/ratebypass/yes/live/1/sgoap/gir%3Dyes%3Bitag%3D140/sgovp/gir%3Dyes%3Bitag%3D134/hls_chunk_host/r5---sn-q4fl6nsy.googlevideo.com/playlist_duration/30/manifest_duration/30/vprv/1/playlist_type/DVR/initcwndbps/9360/mh/9I/mm/44/mn/sn-q4fl6nsy/ms/lva/mv/m/mvi/5/pl/24/keepalive/yes/fexp/24001373,24007246/mt/1621349559/sparams/expire,ei,ip,id,itag,source,requiressl,ratebypass,live,sgoap,sgovp,playlist_duration,manifest_duration,vprv,playlist_type/sig/AOq0QJ8wRgIhAKvALUF27ZSiGhHdsISTaFFF7A2-Sa6rs6Ef4JoZgzIEAiEAk0bWcYmWedj_CxSMANrIX2c8tLlmT9TX9oUhmbotQZY%3D/lsparams/hls_chunk_host,initcwndbps,mh,mm,mn,ms,mv,mvi,pl/lsig/AG3C_xAwRQIgOO3HTCLhz3zUeuUHEq-Qt6XuOMRAVzpDCLH3EJUB7rACIQDpm3YPeYaSz3S3VsYCxlFMJT7-XUBYYeM94NR2_VBEAA%3D%3D/playlist/index.m3u8/sq/6384529/goap/clen%3D81126%3Blmt%3D1621187225209444/govp/clen%3D125607%3Blmt%3D1621187225209439/dur/5.000/file/seg.ts')]"
      ]
     },
     "execution_count": 47,
     "metadata": {},
     "output_type": "execute_result"
    }
   ],
   "source": [
    "import inspect\n",
    "\n",
    "inspect.getmembers(stream_segment, lambda a:not(inspect.isroutine(a)))\n"
   ]
  },
  {
   "cell_type": "markdown",
   "id": "freelance-compatibility",
   "metadata": {
    "heading_collapsed": true
   },
   "source": [
    "# attempt as using vidgear for everything \n",
    "\n",
    "Sadly, this requires gstreamer installed, which is too complex for use with streamlit. So this is not a usable option for me.  Otherwise it seems they have fixed the issues the above codes have faced."
   ]
  },
  {
   "cell_type": "code",
   "execution_count": 3,
   "id": "fiscal-contractor",
   "metadata": {
    "ExecuteTime": {
     "end_time": "2021-05-25T18:41:38.554812Z",
     "start_time": "2021-05-25T18:41:38.538852Z"
    },
    "hidden": true
   },
   "outputs": [],
   "source": [
    "# import required libraries\n",
    "from vidgear.gears import CamGear\n",
    "import cv2"
   ]
  },
  {
   "cell_type": "code",
   "execution_count": 13,
   "id": "practical-glass",
   "metadata": {
    "ExecuteTime": {
     "end_time": "2021-05-25T18:56:49.643127Z",
     "start_time": "2021-05-25T18:56:16.258005Z"
    },
    "hidden": true
   },
   "outputs": [
    {
     "name": "stderr",
     "output_type": "stream",
     "text": [
      "\u001b[01;36m13:56:16 :: \u001b[01;34mHelper\u001b[0m :: WARN\u001b[0m :: GStreamer not found!\u001b[0m\n",
      "\u001b[01;36m13:56:16 :: \u001b[01;34mHelper\u001b[0m :: \u001b[01;33mDEBUG\u001b[0m :: Selecting `360p` resolution for streams.\u001b[0m\n",
      "\u001b[01;36m13:56:16 :: \u001b[01;34mCamGear\u001b[0m :: \u001b[01;32mINFO\u001b[0m :: Using Streamlink Backend\u001b[0m\n",
      "\u001b[01;36m13:56:16 :: \u001b[01;34mCamGear\u001b[0m :: WARN\u001b[0m :: Specified stream-resolution `360p` is not available. Reverting to `best`!\u001b[0m\n",
      "\u001b[01;36m13:56:17 :: \u001b[01;34mCamGear\u001b[0m :: \u001b[01;33mDEBUG\u001b[0m :: Enabling Threaded Queue Mode for the current video source!\u001b[0m\n",
      "\u001b[01;36m13:56:49 :: \u001b[01;34mCamGear\u001b[0m :: \u001b[01;33mDEBUG\u001b[0m :: Terminating processes.\u001b[0m\n"
     ]
    }
   ],
   "source": [
    "# open any valid video stream(for e.g `myvideo.avi` file)\n",
    "source=medVid.url\n",
    "\n",
    "\n",
    "# Add YouTube Video URL as input source (for e.g https://youtu.be/bvetuLwJIkA)\n",
    "# and enable Stream Mode (`stream_mode = True`)\n",
    "stream = CamGear(\n",
    "    source=source, stream_mode=True, logging=True,\n",
    "    STREAM_RESOLUTION=\"360p\"\n",
    ").start()\n",
    "\n",
    "# loop over\n",
    "while True:\n",
    "\n",
    "    # read frames from stream\n",
    "    frame = stream.read()\n",
    "\n",
    "    # check for frame if Nonetype\n",
    "    if frame is None:\n",
    "        break\n",
    "\n",
    "    # {do something with the frame here}\n",
    "\n",
    "    # Show output window\n",
    "    cv2.imshow(\"Output\", frame)\n",
    "\n",
    "    # check for 'q' key if pressed\n",
    "    key = cv2.waitKey(1) & 0xFF\n",
    "    if key == ord(\"q\"):\n",
    "        break\n",
    "\n",
    "# close output window\n",
    "cv2.destroyAllWindows()\n",
    "\n",
    "# safely close video stream\n",
    "stream.stop()"
   ]
  },
  {
   "cell_type": "code",
   "execution_count": null,
   "id": "automated-formula",
   "metadata": {
    "hidden": true
   },
   "outputs": [],
   "source": []
  }
 ],
 "metadata": {
  "kernelspec": {
   "display_name": "Python 3",
   "language": "python",
   "name": "python3"
  },
  "language_info": {
   "codemirror_mode": {
    "name": "ipython",
    "version": 3
   },
   "file_extension": ".py",
   "mimetype": "text/x-python",
   "name": "python",
   "nbconvert_exporter": "python",
   "pygments_lexer": "ipython3",
   "version": "3.7.10"
  },
  "toc": {
   "base_numbering": 1,
   "nav_menu": {},
   "number_sections": true,
   "sideBar": true,
   "skip_h1_title": false,
   "title_cell": "Table of Contents",
   "title_sidebar": "Contents",
   "toc_cell": false,
   "toc_position": {},
   "toc_section_display": true,
   "toc_window_display": false
  }
 },
 "nbformat": 4,
 "nbformat_minor": 5
}
