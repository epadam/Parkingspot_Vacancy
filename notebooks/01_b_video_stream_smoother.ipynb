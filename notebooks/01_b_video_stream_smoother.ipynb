{
 "cells": [
  {
   "cell_type": "code",
   "execution_count": 3,
   "id": "funny-chemistry",
   "metadata": {
    "ExecuteTime": {
     "end_time": "2021-05-18T15:43:28.096700Z",
     "start_time": "2021-05-18T15:43:28.074764Z"
    }
   },
   "outputs": [],
   "source": [
    "# pip install urllib\n",
    "# pip install m3u8\n",
    "# pip install streamlink\n",
    "from datetime import datetime, timedelta, timezone\n",
    "import urllib\n",
    "import m3u8\n",
    "import streamlink\n",
    "import cv2 #openCV\n",
    "import time\n"
   ]
  },
  {
   "cell_type": "code",
   "execution_count": 4,
   "id": "lasting-hanging",
   "metadata": {
    "ExecuteTime": {
     "end_time": "2021-05-18T15:46:56.350065Z",
     "start_time": "2021-05-18T15:45:46.874859Z"
    }
   },
   "outputs": [
    {
     "name": "stdout",
     "output_type": "stream",
     "text": [
      "YES: pre:  0001-01-01 00:00:00+00:00 curr: 2021-05-19 15:59:34.840000+00:00\n",
      "#1 at time 2021-05-19 15:59:34.840000+00:00\n",
      "Attempt 1 of 10\n",
      "Attempt 2 of 10\n",
      "YES: pre:  2021-05-19 15:59:34.840000+00:00 curr: 2021-05-19 15:59:44.840000+00:00\n",
      "#2 at time 2021-05-19 15:59:44.840000+00:00\n",
      "YES: pre:  2021-05-19 15:59:44.840000+00:00 curr: 2021-05-19 15:59:49.840000+00:00\n",
      "#3 at time 2021-05-19 15:59:49.840000+00:00\n",
      "Attempt 1 of 10\n",
      "YES: pre:  2021-05-19 15:59:49.840000+00:00 curr: 2021-05-19 15:59:59.839000+00:00\n",
      "#4 at time 2021-05-19 15:59:59.839000+00:00\n",
      "Attempt 1 of 10\n",
      "YES: pre:  2021-05-19 15:59:59.839000+00:00 curr: 2021-05-19 16:00:04.839000+00:00\n",
      "#5 at time 2021-05-19 16:00:04.839000+00:00\n",
      "YES: pre:  2021-05-19 16:00:04.839000+00:00 curr: 2021-05-19 16:00:09.839000+00:00\n",
      "#6 at time 2021-05-19 16:00:09.839000+00:00\n",
      "YES: pre:  2021-05-19 16:00:09.839000+00:00 curr: 2021-05-19 16:00:19.839000+00:00\n",
      "#7 at time 2021-05-19 16:00:19.839000+00:00\n",
      "YES: pre:  2021-05-19 16:00:19.839000+00:00 curr: 2021-05-19 16:00:34.838000+00:00\n",
      "#8 at time 2021-05-19 16:00:34.838000+00:00\n",
      "Attempt 1 of 10\n",
      "NO   pre:  2021-05-19 16:00:34.838000+00:00 curr: 2021-05-19 16:00:34.838000+00:00\n",
      "NO   pre:  2021-05-19 16:00:34.838000+00:00 curr: 2021-05-19 16:00:34.838000+00:00\n",
      "YES: pre:  2021-05-19 16:00:34.838000+00:00 curr: 2021-05-19 16:00:39.838000+00:00\n",
      "#9 at time 2021-05-19 16:00:39.838000+00:00\n",
      "YES: pre:  2021-05-19 16:00:39.838000+00:00 curr: 2021-05-19 16:00:44.838000+00:00\n",
      "#10 at time 2021-05-19 16:00:44.838000+00:00\n"
     ]
    }
   ],
   "source": [
    "#Ref: https://stackoverflow.com/questions/55631634/recording-youtube-live-stream-to-file-in-python\n",
    "def get_stream(url):\n",
    "    \"\"\"\n",
    "    Get upload chunk url\n",
    "    input: youtube URL\n",
    "    output: m3u8 object segment\n",
    "    \"\"\"\n",
    "    \n",
    "    #Try this line tries number of times, if it doesn't work, \n",
    "    # then show the exception on the last attempt\n",
    "    # Credit, theherk, https://stackoverflow.com/questions/2083987/how-to-retry-after-exception\n",
    "    tries = 10\n",
    "    for i in range(tries):\n",
    "        try:\n",
    "            streams = streamlink.streams(url)\n",
    "        except:\n",
    "            if i < tries - 1: # i is zero indexed\n",
    "                print(f\"Attempt {i+1} of {tries}\")\n",
    "                time.sleep(0.1) #Wait half a second\n",
    "                continue\n",
    "            else:\n",
    "                raise\n",
    "        break\n",
    "    #print(f\"Stream choices: {streams.keys()})\n",
    "    stream_url = streams[\"480p\"] #Alternate, use \"best\"\n",
    "\n",
    "    m3u8_obj = m3u8.load(stream_url.args['url'])\n",
    "    return m3u8_obj.segments[0] #Parsed stream\n",
    "\n",
    "\n",
    "def dl_stream(url, filename, chunks):\n",
    "    \"\"\"\n",
    "    Download each chunk to file\n",
    "    input: url, filename, and number of chunks (int)\n",
    "    output: saves file at filename location\n",
    "    returns none.\n",
    "    \"\"\"\n",
    "    pre_time_stamp = datetime(1, 1, 1, 0, 0, tzinfo=timezone.utc)\n",
    "\n",
    "    \n",
    "    #Repeat for each chunk\n",
    "    #Needs to be in chunks beceause \n",
    "    #  1) it's live and \n",
    "    #  2) it won't let you leave the stream open forever\n",
    "    i=1\n",
    "    while i <= chunks:\n",
    "       \n",
    "        #Open stream\n",
    "        stream_segment = get_stream(url)\n",
    "        \n",
    "        #Get current time on video\n",
    "        cur_time_stamp = stream_segment.program_date_time\n",
    "        #Only get next time step, wait if it's not new yet\n",
    "        if cur_time_stamp <= pre_time_stamp:\n",
    "            #Don't increment counter until we have a new chunk\n",
    "            print(\"NO   pre: \",pre_time_stamp, \"curr:\",cur_time_stamp)\n",
    "            time.sleep(0.5) #Wait half a sec\n",
    "            pass\n",
    "        else:\n",
    "            print(\"YES: pre: \",pre_time_stamp, \"curr:\",cur_time_stamp)\n",
    "            print(f'#{i} at time {cur_time_stamp}')\n",
    "            #Open file for writing stream\n",
    "            file = open(filename, 'ab+') #ab+ means keep adding to file\n",
    "            #Write stream to file\n",
    "            with urllib.request.urlopen(stream_segment.uri) as response:\n",
    "                html = response.read()\n",
    "                file.write(html)\n",
    "                \n",
    "            #Update time stamp\n",
    "            pre_time_stamp = cur_time_stamp\n",
    "            time.sleep(stream_segment.duration) #Wait duration time - 1\n",
    "\n",
    "            i += 1 #only increment if we got a new chunk\n",
    "\n",
    "    return None\n",
    "\n",
    "def openCVProcessing(saved_video_file):\n",
    "    '''View saved video with openCV\n",
    "    Add your other steps here'''\n",
    "    capture = cv2.VideoCapture(saved_video_file)\n",
    "\n",
    "    while capture.isOpened():\n",
    "        grabbed, frame = capture.read()  #read in single frame\n",
    "        if grabbed == False:\n",
    "            break\n",
    "\n",
    "        #openCV processing goes here\n",
    "        #\n",
    "        \n",
    "        cv2.imshow('frame',frame)  #Show the frame\n",
    "        \n",
    "        #Shown in a new window, To exit, push q on the keyboard\n",
    "        if cv2.waitKey(20) & 0xFF == ord('q'):\n",
    "            break\n",
    "\n",
    "    capture.release()\n",
    "    cv2.destroyAllWindows()  #close the windows automatically\n",
    "\n",
    "#Do the work    \n",
    "tempFile = \"temp7.ts\"  #files are format ts, open cv can view them\n",
    "videoURL = \"https://youtu.be/DoUOrTJbIu4\" #Jackson hole town square, live stream\n",
    "\n",
    "dl_stream(videoURL, tempFile, 10)\n"
   ]
  },
  {
   "cell_type": "code",
   "execution_count": null,
   "id": "862ef53f",
   "metadata": {},
   "outputs": [],
   "source": []
  },
  {
   "cell_type": "code",
   "execution_count": 18,
   "id": "hairy-accent",
   "metadata": {
    "ExecuteTime": {
     "end_time": "2021-05-18T15:48:40.934420Z",
     "start_time": "2021-05-18T15:47:01.928875Z"
    }
   },
   "outputs": [],
   "source": [
    "#Process the newly made file\n",
    "openCVProcessing(tempFile)"
   ]
  },
  {
   "cell_type": "code",
   "execution_count": 28,
   "id": "emerging-genius",
   "metadata": {
    "ExecuteTime": {
     "end_time": "2021-05-18T14:51:16.965164Z",
     "start_time": "2021-05-18T14:51:16.940852Z"
    }
   },
   "outputs": [
    {
     "ename": "NameError",
     "evalue": "name 'pre_time_stamp' is not defined",
     "output_type": "error",
     "traceback": [
      "\u001b[1;31m---------------------------------------------------------------------------\u001b[0m",
      "\u001b[1;31mNameError\u001b[0m                                 Traceback (most recent call last)",
      "\u001b[1;32m<ipython-input-28-eedb7c32ecc3>\u001b[0m in \u001b[0;36m<module>\u001b[1;34m\u001b[0m\n\u001b[1;32m----> 1\u001b[1;33m \u001b[0mpre_time_stamp\u001b[0m\u001b[1;33m\u001b[0m\u001b[1;33m\u001b[0m\u001b[0m\n\u001b[0m",
      "\u001b[1;31mNameError\u001b[0m: name 'pre_time_stamp' is not defined"
     ]
    }
   ],
   "source": []
  },
  {
   "cell_type": "code",
   "execution_count": 5,
   "id": "ongoing-leonard",
   "metadata": {
    "ExecuteTime": {
     "end_time": "2021-05-12T02:18:11.850869Z",
     "start_time": "2021-05-12T02:18:11.838116Z"
    }
   },
   "outputs": [],
   "source": [
    "#Process newly saved video testing new things\n",
    "def openCVProcessing(saved_video_file):\n",
    "    #View saved video with openCV\n",
    "    capture = cv2.VideoCapture(saved_video_file)\n",
    "\n",
    "    while capture.isOpened():\n",
    "        grabbed, frame = capture.read()  #read in single frame\n",
    "        if grabbed == False:\n",
    "            break\n",
    "\n",
    "        #openCV processing goes here\n",
    "        \n",
    "        \n",
    "        cv2.imshow('frame',frame)  #Show the frame\n",
    "        \n",
    "        #Shown in a new window, To exit, push q on the keyboard\n",
    "        if cv2.waitKey(20) & 0xFF == ord('q'):\n",
    "            break\n",
    "\n",
    "    capture.release()\n",
    "    cv2.destroyAllWindows()  #close the windows automatically\n"
   ]
  },
  {
   "cell_type": "code",
   "execution_count": 46,
   "id": "contrary-string",
   "metadata": {
    "ExecuteTime": {
     "end_time": "2021-05-12T02:02:32.867932Z",
     "start_time": "2021-05-12T02:02:11.570894Z"
    }
   },
   "outputs": [],
   "source": [
    "videoURL = \"https://www.youtube.com/watch?v=DoUOrTJbIu4\"\n",
    "stream_segment = get_stream(videoURL)"
   ]
  },
  {
   "cell_type": "markdown",
   "id": "particular-priority",
   "metadata": {},
   "source": [
    "# Attempt to combine streaming and working into one!"
   ]
  },
  {
   "cell_type": "code",
   "execution_count": 7,
   "id": "interested-indian",
   "metadata": {
    "ExecuteTime": {
     "end_time": "2021-05-12T20:38:00.363538Z",
     "start_time": "2021-05-12T20:37:55.682895Z"
    }
   },
   "outputs": [],
   "source": [
    "#Ref: https://stackoverflow.com/questions/55631634/recording-youtube-live-stream-to-file-in-python\n",
    "def get_stream(url):\n",
    "    \"\"\"\n",
    "    Get upload chunk url\n",
    "    input: youtube URL\n",
    "    output: m3u8 object segment\n",
    "    \"\"\"\n",
    "    #Get stream\n",
    "    streams = streamlink.streams(url)\n",
    "    stream_url = streams[\"360p\"] #Alternate, use \"best\"\n",
    "\n",
    "    m3u8_obj = m3u8.load(stream_url.args['url'])\n",
    "    return m3u8_obj.segments[0] #Parsed stream\n",
    "\n",
    "def openCVProcessing(saved_video_file):\n",
    "    '''View saved video with openCV\n",
    "    Add your other steps here'''\n",
    "    capture = cv2.VideoCapture(saved_video_file)\n",
    "\n",
    "    while capture.isOpened():\n",
    "        grabbed, frame = capture.read()  #read in single frame\n",
    "        if grabbed == False:\n",
    "            break\n",
    "\n",
    "        #openCV processing goes here\n",
    "        #\n",
    "        \n",
    "        cv2.imshow('frame',frame)  #Show the frame\n",
    "        \n",
    "        #Shown in a new window, To exit, push q on the keyboard\n",
    "        if cv2.waitKey(20) & 0xFF == ord('q'):\n",
    "            break\n",
    "\n",
    "    capture.release()\n",
    "    cv2.destroyAllWindows()  #close the windows automatically\n",
    "\n",
    "def dl_stream(url, filename, chunks):\n",
    "    \"\"\"\n",
    "    Download each chunk to file\n",
    "    input: url, filename, and number of chunks (int)\n",
    "    output: saves file at filename location\n",
    "    returns none.\n",
    "    \"\"\"\n",
    "    pre_time_stamp = 0\n",
    "    \n",
    "    #Repeat for each chunk\n",
    "    #Needs to be in chunks beceause \n",
    "    #  1) it's live and \n",
    "    #  2) it won't let you leave the stream open forever\n",
    "    i=1\n",
    "    while i <= chunks:\n",
    "       \n",
    "        #Open stream\n",
    "        stream_segment = get_stream(url)\n",
    "        #Get current time\n",
    "        cur_time_stamp = \\\n",
    "            stream_segment.program_date_time.strftime(\"%Y%m%d-%H%M%S\")\n",
    "        #Only get next time step, wait if it's not new yet\n",
    "        if pre_time_stamp == cur_time_stamp:\n",
    "            #Don't increment counter if we didn't get a chunk\n",
    "            pass\n",
    "        else:\n",
    "            print(f'#{i} at time {cur_time_stamp}')\n",
    "            #Open file for writing stream\n",
    "            file = open(filename, 'ab+') #ab+ means keep adding to file\n",
    "            #Write stream to file\n",
    "            with urllib.request.urlopen(stream_segment.uri) as response:\n",
    "                html = response.read()\n",
    "                openCVProcessing(html)\n",
    "                #file.write(html)\n",
    "            #Update time stamp\n",
    "            pre_time_stamp = cur_time_stamp\n",
    "            i += 1 #only increment if we got a new chunk\n",
    "\n",
    "    return None\n"
   ]
  },
  {
   "cell_type": "code",
   "execution_count": null,
   "id": "1cef45f4",
   "metadata": {},
   "outputs": [],
   "source": [
    "tempFile = \"temp.ts\"  #files are format ts, open cv can view them\n",
    "videoURL = \"https://www.youtube.com/watch?v=DoUOrTJbIu4\" #Jackson hole town square, live stream\n",
    "\n",
    "dl_stream(videoURL, tempFile, 5)\n",
    "#openCVProcessing(tempFile)"
   ]
  },
  {
   "cell_type": "code",
   "execution_count": 8,
   "id": "instant-ballet",
   "metadata": {
    "ExecuteTime": {
     "end_time": "2021-05-18T15:06:04.384565Z",
     "start_time": "2021-05-18T15:05:52.311024Z"
    }
   },
   "outputs": [
    {
     "ename": "PluginError",
     "evalue": "Unable to open URL: https://youtube.com/get_video_info (404 Client Error: Not Found for url: https://www.youtube.com/get_video_info?video_id=DoUOrTJbIu4&el=detailpage)",
     "output_type": "error",
     "traceback": [
      "\u001b[1;31m---------------------------------------------------------------------------\u001b[0m",
      "\u001b[1;31mHTTPError\u001b[0m                                 Traceback (most recent call last)",
      "\u001b[1;32m~\\AppData\\Roaming\\Python\\Python37\\site-packages\\streamlink\\plugin\\api\\http_session.py\u001b[0m in \u001b[0;36mrequest\u001b[1;34m(self, method, url, *args, **kwargs)\u001b[0m\n\u001b[0;32m    132\u001b[0m                 \u001b[1;32mif\u001b[0m \u001b[0mraise_for_status\u001b[0m \u001b[1;32mand\u001b[0m \u001b[0mres\u001b[0m\u001b[1;33m.\u001b[0m\u001b[0mstatus_code\u001b[0m \u001b[1;32mnot\u001b[0m \u001b[1;32min\u001b[0m \u001b[0macceptable_status\u001b[0m\u001b[1;33m:\u001b[0m\u001b[1;33m\u001b[0m\u001b[1;33m\u001b[0m\u001b[0m\n\u001b[1;32m--> 133\u001b[1;33m                     \u001b[0mres\u001b[0m\u001b[1;33m.\u001b[0m\u001b[0mraise_for_status\u001b[0m\u001b[1;33m(\u001b[0m\u001b[1;33m)\u001b[0m\u001b[1;33m\u001b[0m\u001b[1;33m\u001b[0m\u001b[0m\n\u001b[0m\u001b[0;32m    134\u001b[0m                 \u001b[1;32mbreak\u001b[0m\u001b[1;33m\u001b[0m\u001b[1;33m\u001b[0m\u001b[0m\n",
      "\u001b[1;32mc:\\users\\rejex\\.conda\\envs\\parking_vacancy_tf2\\lib\\site-packages\\requests\\models.py\u001b[0m in \u001b[0;36mraise_for_status\u001b[1;34m(self)\u001b[0m\n\u001b[0;32m    942\u001b[0m         \u001b[1;32mif\u001b[0m \u001b[0mhttp_error_msg\u001b[0m\u001b[1;33m:\u001b[0m\u001b[1;33m\u001b[0m\u001b[1;33m\u001b[0m\u001b[0m\n\u001b[1;32m--> 943\u001b[1;33m             \u001b[1;32mraise\u001b[0m \u001b[0mHTTPError\u001b[0m\u001b[1;33m(\u001b[0m\u001b[0mhttp_error_msg\u001b[0m\u001b[1;33m,\u001b[0m \u001b[0mresponse\u001b[0m\u001b[1;33m=\u001b[0m\u001b[0mself\u001b[0m\u001b[1;33m)\u001b[0m\u001b[1;33m\u001b[0m\u001b[1;33m\u001b[0m\u001b[0m\n\u001b[0m\u001b[0;32m    944\u001b[0m \u001b[1;33m\u001b[0m\u001b[0m\n",
      "\u001b[1;31mHTTPError\u001b[0m: 404 Client Error: Not Found for url: https://www.youtube.com/get_video_info?video_id=DoUOrTJbIu4&el=detailpage",
      "\nDuring handling of the above exception, another exception occurred:\n",
      "\u001b[1;31mPluginError\u001b[0m                               Traceback (most recent call last)",
      "\u001b[1;32m<ipython-input-8-508866a190e2>\u001b[0m in \u001b[0;36m<module>\u001b[1;34m\u001b[0m\n\u001b[0;32m      3\u001b[0m \u001b[0murl\u001b[0m \u001b[1;33m=\u001b[0m \u001b[1;34m\"https://www.youtube.com/watch?v=DoUOrTJbIu4\"\u001b[0m \u001b[1;31m#Jackson hole town square, live stream\u001b[0m\u001b[1;33m\u001b[0m\u001b[1;33m\u001b[0m\u001b[0m\n\u001b[0;32m      4\u001b[0m \u001b[1;33m\u001b[0m\u001b[0m\n\u001b[1;32m----> 5\u001b[1;33m \u001b[0mstream_segment\u001b[0m \u001b[1;33m=\u001b[0m \u001b[0mget_stream\u001b[0m\u001b[1;33m(\u001b[0m\u001b[0murl\u001b[0m\u001b[1;33m)\u001b[0m\u001b[1;33m\u001b[0m\u001b[1;33m\u001b[0m\u001b[0m\n\u001b[0m\u001b[0;32m      6\u001b[0m \u001b[1;31m#Open file for writing stream\u001b[0m\u001b[1;33m\u001b[0m\u001b[1;33m\u001b[0m\u001b[1;33m\u001b[0m\u001b[0m\n\u001b[0;32m      7\u001b[0m \u001b[0mfile\u001b[0m \u001b[1;33m=\u001b[0m \u001b[0mopen\u001b[0m\u001b[1;33m(\u001b[0m\u001b[1;34m\"test.ts\"\u001b[0m\u001b[1;33m,\u001b[0m \u001b[1;34m'ab+'\u001b[0m\u001b[1;33m)\u001b[0m \u001b[1;31m#ab+ means keep adding to file\u001b[0m\u001b[1;33m\u001b[0m\u001b[1;33m\u001b[0m\u001b[0m\n",
      "\u001b[1;32m<ipython-input-7-ca00c52f2e2e>\u001b[0m in \u001b[0;36mget_stream\u001b[1;34m(url)\u001b[0m\n\u001b[0;32m      7\u001b[0m     \"\"\"\n\u001b[0;32m      8\u001b[0m     \u001b[1;31m#Get stream\u001b[0m\u001b[1;33m\u001b[0m\u001b[1;33m\u001b[0m\u001b[1;33m\u001b[0m\u001b[0m\n\u001b[1;32m----> 9\u001b[1;33m     \u001b[0mstreams\u001b[0m \u001b[1;33m=\u001b[0m \u001b[0mstreamlink\u001b[0m\u001b[1;33m.\u001b[0m\u001b[0mstreams\u001b[0m\u001b[1;33m(\u001b[0m\u001b[0murl\u001b[0m\u001b[1;33m)\u001b[0m\u001b[1;33m\u001b[0m\u001b[1;33m\u001b[0m\u001b[0m\n\u001b[0m\u001b[0;32m     10\u001b[0m     \u001b[0mstream_url\u001b[0m \u001b[1;33m=\u001b[0m \u001b[0mstreams\u001b[0m\u001b[1;33m[\u001b[0m\u001b[1;34m\"360p\"\u001b[0m\u001b[1;33m]\u001b[0m \u001b[1;31m#Alternate, use \"best\"\u001b[0m\u001b[1;33m\u001b[0m\u001b[1;33m\u001b[0m\u001b[0m\n\u001b[0;32m     11\u001b[0m \u001b[1;33m\u001b[0m\u001b[0m\n",
      "\u001b[1;32m~\\AppData\\Roaming\\Python\\Python37\\site-packages\\streamlink\\api.py\u001b[0m in \u001b[0;36mstreams\u001b[1;34m(url, **params)\u001b[0m\n\u001b[0;32m     11\u001b[0m \u001b[1;33m\u001b[0m\u001b[0m\n\u001b[0;32m     12\u001b[0m     \u001b[0msession\u001b[0m \u001b[1;33m=\u001b[0m \u001b[0mStreamlink\u001b[0m\u001b[1;33m(\u001b[0m\u001b[1;33m)\u001b[0m\u001b[1;33m\u001b[0m\u001b[1;33m\u001b[0m\u001b[0m\n\u001b[1;32m---> 13\u001b[1;33m     \u001b[1;32mreturn\u001b[0m \u001b[0msession\u001b[0m\u001b[1;33m.\u001b[0m\u001b[0mstreams\u001b[0m\u001b[1;33m(\u001b[0m\u001b[0murl\u001b[0m\u001b[1;33m,\u001b[0m \u001b[1;33m**\u001b[0m\u001b[0mparams\u001b[0m\u001b[1;33m)\u001b[0m\u001b[1;33m\u001b[0m\u001b[1;33m\u001b[0m\u001b[0m\n\u001b[0m",
      "\u001b[1;32m~\\AppData\\Roaming\\Python\\Python37\\site-packages\\streamlink\\session.py\u001b[0m in \u001b[0;36mstreams\u001b[1;34m(self, url, **params)\u001b[0m\n\u001b[0;32m    435\u001b[0m \u001b[1;33m\u001b[0m\u001b[0m\n\u001b[0;32m    436\u001b[0m         \u001b[0mplugin\u001b[0m \u001b[1;33m=\u001b[0m \u001b[0mself\u001b[0m\u001b[1;33m.\u001b[0m\u001b[0mresolve_url\u001b[0m\u001b[1;33m(\u001b[0m\u001b[0murl\u001b[0m\u001b[1;33m)\u001b[0m\u001b[1;33m\u001b[0m\u001b[1;33m\u001b[0m\u001b[0m\n\u001b[1;32m--> 437\u001b[1;33m         \u001b[1;32mreturn\u001b[0m \u001b[0mplugin\u001b[0m\u001b[1;33m.\u001b[0m\u001b[0mstreams\u001b[0m\u001b[1;33m(\u001b[0m\u001b[1;33m**\u001b[0m\u001b[0mparams\u001b[0m\u001b[1;33m)\u001b[0m\u001b[1;33m\u001b[0m\u001b[1;33m\u001b[0m\u001b[0m\n\u001b[0m\u001b[0;32m    438\u001b[0m \u001b[1;33m\u001b[0m\u001b[0m\n\u001b[0;32m    439\u001b[0m     \u001b[1;32mdef\u001b[0m \u001b[0mget_plugins\u001b[0m\u001b[1;33m(\u001b[0m\u001b[0mself\u001b[0m\u001b[1;33m)\u001b[0m\u001b[1;33m:\u001b[0m\u001b[1;33m\u001b[0m\u001b[1;33m\u001b[0m\u001b[0m\n",
      "\u001b[1;32m~\\AppData\\Roaming\\Python\\Python37\\site-packages\\streamlink\\plugin\\plugin.py\u001b[0m in \u001b[0;36mstreams\u001b[1;34m(self, stream_types, sorting_excludes)\u001b[0m\n\u001b[0;32m    315\u001b[0m \u001b[1;33m\u001b[0m\u001b[0m\n\u001b[0;32m    316\u001b[0m         \u001b[1;32mtry\u001b[0m\u001b[1;33m:\u001b[0m\u001b[1;33m\u001b[0m\u001b[1;33m\u001b[0m\u001b[0m\n\u001b[1;32m--> 317\u001b[1;33m             \u001b[0mostreams\u001b[0m \u001b[1;33m=\u001b[0m \u001b[0mself\u001b[0m\u001b[1;33m.\u001b[0m\u001b[0m_get_streams\u001b[0m\u001b[1;33m(\u001b[0m\u001b[1;33m)\u001b[0m\u001b[1;33m\u001b[0m\u001b[1;33m\u001b[0m\u001b[0m\n\u001b[0m\u001b[0;32m    318\u001b[0m             \u001b[1;32mif\u001b[0m \u001b[0misinstance\u001b[0m\u001b[1;33m(\u001b[0m\u001b[0mostreams\u001b[0m\u001b[1;33m,\u001b[0m \u001b[0mdict\u001b[0m\u001b[1;33m)\u001b[0m\u001b[1;33m:\u001b[0m\u001b[1;33m\u001b[0m\u001b[1;33m\u001b[0m\u001b[0m\n\u001b[0;32m    319\u001b[0m                 \u001b[0mostreams\u001b[0m \u001b[1;33m=\u001b[0m \u001b[0mostreams\u001b[0m\u001b[1;33m.\u001b[0m\u001b[0mitems\u001b[0m\u001b[1;33m(\u001b[0m\u001b[1;33m)\u001b[0m\u001b[1;33m\u001b[0m\u001b[1;33m\u001b[0m\u001b[0m\n",
      "\u001b[1;32m~\\AppData\\Roaming\\Python\\Python37\\site-packages\\streamlink\\plugins\\youtube.py\u001b[0m in \u001b[0;36m_get_streams\u001b[1;34m(self)\u001b[0m\n\u001b[0;32m    313\u001b[0m         \u001b[0mlog\u001b[0m\u001b[1;33m.\u001b[0m\u001b[0mdebug\u001b[0m\u001b[1;33m(\u001b[0m\u001b[1;34mf\"Using video ID: {self.video_id}\"\u001b[0m\u001b[1;33m)\u001b[0m\u001b[1;33m\u001b[0m\u001b[1;33m\u001b[0m\u001b[0m\n\u001b[0;32m    314\u001b[0m \u001b[1;33m\u001b[0m\u001b[0m\n\u001b[1;32m--> 315\u001b[1;33m         \u001b[0minfo\u001b[0m \u001b[1;33m=\u001b[0m \u001b[0mself\u001b[0m\u001b[1;33m.\u001b[0m\u001b[0m_get_stream_info\u001b[0m\u001b[1;33m(\u001b[0m\u001b[0mself\u001b[0m\u001b[1;33m.\u001b[0m\u001b[0mvideo_id\u001b[0m\u001b[1;33m)\u001b[0m\u001b[1;33m\u001b[0m\u001b[1;33m\u001b[0m\u001b[0m\n\u001b[0m\u001b[0;32m    316\u001b[0m         \u001b[1;32mif\u001b[0m \u001b[0minfo\u001b[0m \u001b[1;32mand\u001b[0m \u001b[0minfo\u001b[0m\u001b[1;33m.\u001b[0m\u001b[0mget\u001b[0m\u001b[1;33m(\u001b[0m\u001b[1;34m\"status\"\u001b[0m\u001b[1;33m)\u001b[0m \u001b[1;33m==\u001b[0m \u001b[1;34m\"fail\"\u001b[0m\u001b[1;33m:\u001b[0m\u001b[1;33m\u001b[0m\u001b[1;33m\u001b[0m\u001b[0m\n\u001b[0;32m    317\u001b[0m             \u001b[0mlog\u001b[0m\u001b[1;33m.\u001b[0m\u001b[0merror\u001b[0m\u001b[1;33m(\u001b[0m\u001b[1;34m\"Could not get video info: {0}\"\u001b[0m\u001b[1;33m.\u001b[0m\u001b[0mformat\u001b[0m\u001b[1;33m(\u001b[0m\u001b[0minfo\u001b[0m\u001b[1;33m.\u001b[0m\u001b[0mget\u001b[0m\u001b[1;33m(\u001b[0m\u001b[1;34m\"reason\"\u001b[0m\u001b[1;33m)\u001b[0m\u001b[1;33m)\u001b[0m\u001b[1;33m)\u001b[0m\u001b[1;33m\u001b[0m\u001b[1;33m\u001b[0m\u001b[0m\n",
      "\u001b[1;32m~\\AppData\\Roaming\\Python\\Python37\\site-packages\\streamlink\\plugins\\youtube.py\u001b[0m in \u001b[0;36m_get_stream_info\u001b[1;34m(self, video_id)\u001b[0m\n\u001b[0;32m    290\u001b[0m             \u001b[0mparams\u001b[0m\u001b[1;33m.\u001b[0m\u001b[0mupdate\u001b[0m\u001b[1;33m(\u001b[0m\u001b[0m_params\u001b[0m\u001b[1;33m)\u001b[0m\u001b[1;33m\u001b[0m\u001b[1;33m\u001b[0m\u001b[0m\n\u001b[0;32m    291\u001b[0m \u001b[1;33m\u001b[0m\u001b[0m\n\u001b[1;32m--> 292\u001b[1;33m             \u001b[0mres\u001b[0m \u001b[1;33m=\u001b[0m \u001b[0mself\u001b[0m\u001b[1;33m.\u001b[0m\u001b[0msession\u001b[0m\u001b[1;33m.\u001b[0m\u001b[0mhttp\u001b[0m\u001b[1;33m.\u001b[0m\u001b[0mget\u001b[0m\u001b[1;33m(\u001b[0m\u001b[0mself\u001b[0m\u001b[1;33m.\u001b[0m\u001b[0m_video_info_url\u001b[0m\u001b[1;33m,\u001b[0m \u001b[0mparams\u001b[0m\u001b[1;33m=\u001b[0m\u001b[0mparams\u001b[0m\u001b[1;33m)\u001b[0m\u001b[1;33m\u001b[0m\u001b[1;33m\u001b[0m\u001b[0m\n\u001b[0m\u001b[0;32m    293\u001b[0m             \u001b[0minfo_parsed\u001b[0m \u001b[1;33m=\u001b[0m \u001b[0mparse_query\u001b[0m\u001b[1;33m(\u001b[0m\u001b[0mres\u001b[0m\u001b[1;33m.\u001b[0m\u001b[0mtext\u001b[0m\u001b[1;33m,\u001b[0m \u001b[0mname\u001b[0m\u001b[1;33m=\u001b[0m\u001b[1;34m\"config\"\u001b[0m\u001b[1;33m,\u001b[0m \u001b[0mschema\u001b[0m\u001b[1;33m=\u001b[0m\u001b[0m_config_schema\u001b[0m\u001b[1;33m)\u001b[0m\u001b[1;33m\u001b[0m\u001b[1;33m\u001b[0m\u001b[0m\n\u001b[0;32m    294\u001b[0m             \u001b[0mplayer_response\u001b[0m \u001b[1;33m=\u001b[0m \u001b[0minfo_parsed\u001b[0m\u001b[1;33m.\u001b[0m\u001b[0mget\u001b[0m\u001b[1;33m(\u001b[0m\u001b[1;34m\"player_response\"\u001b[0m\u001b[1;33m,\u001b[0m \u001b[1;33m{\u001b[0m\u001b[1;33m}\u001b[0m\u001b[1;33m)\u001b[0m\u001b[1;33m\u001b[0m\u001b[1;33m\u001b[0m\u001b[0m\n",
      "\u001b[1;32mc:\\users\\rejex\\.conda\\envs\\parking_vacancy_tf2\\lib\\site-packages\\requests\\sessions.py\u001b[0m in \u001b[0;36mget\u001b[1;34m(self, url, **kwargs)\u001b[0m\n\u001b[0;32m    553\u001b[0m \u001b[1;33m\u001b[0m\u001b[0m\n\u001b[0;32m    554\u001b[0m         \u001b[0mkwargs\u001b[0m\u001b[1;33m.\u001b[0m\u001b[0msetdefault\u001b[0m\u001b[1;33m(\u001b[0m\u001b[1;34m'allow_redirects'\u001b[0m\u001b[1;33m,\u001b[0m \u001b[1;32mTrue\u001b[0m\u001b[1;33m)\u001b[0m\u001b[1;33m\u001b[0m\u001b[1;33m\u001b[0m\u001b[0m\n\u001b[1;32m--> 555\u001b[1;33m         \u001b[1;32mreturn\u001b[0m \u001b[0mself\u001b[0m\u001b[1;33m.\u001b[0m\u001b[0mrequest\u001b[0m\u001b[1;33m(\u001b[0m\u001b[1;34m'GET'\u001b[0m\u001b[1;33m,\u001b[0m \u001b[0murl\u001b[0m\u001b[1;33m,\u001b[0m \u001b[1;33m**\u001b[0m\u001b[0mkwargs\u001b[0m\u001b[1;33m)\u001b[0m\u001b[1;33m\u001b[0m\u001b[1;33m\u001b[0m\u001b[0m\n\u001b[0m\u001b[0;32m    556\u001b[0m \u001b[1;33m\u001b[0m\u001b[0m\n\u001b[0;32m    557\u001b[0m     \u001b[1;32mdef\u001b[0m \u001b[0moptions\u001b[0m\u001b[1;33m(\u001b[0m\u001b[0mself\u001b[0m\u001b[1;33m,\u001b[0m \u001b[0murl\u001b[0m\u001b[1;33m,\u001b[0m \u001b[1;33m**\u001b[0m\u001b[0mkwargs\u001b[0m\u001b[1;33m)\u001b[0m\u001b[1;33m:\u001b[0m\u001b[1;33m\u001b[0m\u001b[1;33m\u001b[0m\u001b[0m\n",
      "\u001b[1;32m~\\AppData\\Roaming\\Python\\Python37\\site-packages\\streamlink\\plugin\\api\\http_session.py\u001b[0m in \u001b[0;36mrequest\u001b[1;34m(self, method, url, *args, **kwargs)\u001b[0m\n\u001b[0;32m    140\u001b[0m                                                                                err=rerr))\n\u001b[0;32m    141\u001b[0m                     \u001b[0merr\u001b[0m\u001b[1;33m.\u001b[0m\u001b[0merr\u001b[0m \u001b[1;33m=\u001b[0m \u001b[0mrerr\u001b[0m\u001b[1;33m\u001b[0m\u001b[1;33m\u001b[0m\u001b[0m\n\u001b[1;32m--> 142\u001b[1;33m                     \u001b[1;32mraise\u001b[0m \u001b[0merr\u001b[0m\u001b[1;33m\u001b[0m\u001b[1;33m\u001b[0m\u001b[0m\n\u001b[0m\u001b[0;32m    143\u001b[0m                 \u001b[0mretries\u001b[0m \u001b[1;33m+=\u001b[0m \u001b[1;36m1\u001b[0m\u001b[1;33m\u001b[0m\u001b[1;33m\u001b[0m\u001b[0m\n\u001b[0;32m    144\u001b[0m                 \u001b[1;31m# back off retrying, but only to a maximum sleep time\u001b[0m\u001b[1;33m\u001b[0m\u001b[1;33m\u001b[0m\u001b[1;33m\u001b[0m\u001b[0m\n",
      "\u001b[1;31mPluginError\u001b[0m: Unable to open URL: https://youtube.com/get_video_info (404 Client Error: Not Found for url: https://www.youtube.com/get_video_info?video_id=DoUOrTJbIu4&el=detailpage)"
     ]
    }
   ],
   "source": [
    "#Sandbox/scratch area\n",
    "\n",
    "url = \"https://www.youtube.com/watch?v=DoUOrTJbIu4\" #Jackson hole town square, live stream\n",
    "\n",
    "stream_segment = get_stream(url)\n",
    "#Open file for writing stream\n",
    "file = open(\"test.ts\", 'ab+') #ab+ means keep adding to file\n",
    "#Write stream to file\n",
    "with urllib.request.urlopen(stream_segment.uri) as response:\n",
    "    html = response.read()\n",
    "    #openCVProcessing(html)\n",
    "    file.write(html)\n",
    "    openCVProcessing(\"test.ts\")"
   ]
  },
  {
   "cell_type": "markdown",
   "id": "92c5477e",
   "metadata": {},
   "source": [
    "Scratch area"
   ]
  },
  {
   "cell_type": "code",
   "execution_count": null,
   "id": "5b3c610c",
   "metadata": {},
   "outputs": [],
   "source": [
    "stream_segment."
   ]
  },
  {
   "cell_type": "code",
   "execution_count": 2,
   "id": "39b88c6e",
   "metadata": {},
   "outputs": [
    {
     "ename": "NameError",
     "evalue": "name 'get_stream' is not defined",
     "output_type": "error",
     "traceback": [
      "\u001b[1;31m---------------------------------------------------------------------------\u001b[0m",
      "\u001b[1;31mNameError\u001b[0m                                 Traceback (most recent call last)",
      "\u001b[1;32m<ipython-input-2-aa82ecc25d73>\u001b[0m in \u001b[0;36m<module>\u001b[1;34m\u001b[0m\n\u001b[0;32m      1\u001b[0m \u001b[0murl\u001b[0m \u001b[1;33m=\u001b[0m \u001b[1;34m\"https://youtu.be/DoUOrTJbIu4\"\u001b[0m \u001b[1;31m#Jackson hole town square, live stream\u001b[0m\u001b[1;33m\u001b[0m\u001b[1;33m\u001b[0m\u001b[0m\n\u001b[1;32m----> 2\u001b[1;33m \u001b[0mstream_segment5\u001b[0m \u001b[1;33m=\u001b[0m \u001b[0mget_stream\u001b[0m\u001b[1;33m(\u001b[0m\u001b[0murl\u001b[0m\u001b[1;33m)\u001b[0m\u001b[1;33m\u001b[0m\u001b[1;33m\u001b[0m\u001b[0m\n\u001b[0m",
      "\u001b[1;31mNameError\u001b[0m: name 'get_stream' is not defined"
     ]
    }
   ],
   "source": [
    "url = \"https://youtu.be/DoUOrTJbIu4\" #Jackson hole town square, live stream\n",
    "stream_segment5 = get_stream(url)\n"
   ]
  },
  {
   "cell_type": "code",
   "execution_count": 23,
   "id": "287a2791",
   "metadata": {},
   "outputs": [],
   "source": [
    "t1 = stream_segment.program_date_time\n",
    "t2 = stream_segment2.program_date_time\n",
    "t3 = stream_segment4.program_date_time\n",
    "t5 = stream_segment5.program_date_time\n"
   ]
  },
  {
   "cell_type": "code",
   "execution_count": 45,
   "id": "f0113114",
   "metadata": {},
   "outputs": [
    {
     "name": "stdout",
     "output_type": "stream",
     "text": [
      "2021-05-18 20:47:49.848000+00:00\n",
      "2021-05-18 20:47:49.847000+00:00\n"
     ]
    }
   ],
   "source": [
    "\n",
    "durationDateTime = timedelta(seconds=stream_segment4.duration)\n",
    "print(t3+durationDateTime+durationDateTime)\n",
    "print(t5)"
   ]
  },
  {
   "cell_type": "code",
   "execution_count": 10,
   "id": "48437989",
   "metadata": {},
   "outputs": [
    {
     "name": "stdout",
     "output_type": "stream",
     "text": [
      "Attempt 1 of 10\n",
      "Attempt 2 of 10\n"
     ]
    }
   ],
   "source": [
    "tries = 10\n",
    "url = \"https://youtu.be/DoUOrTJbIu4\" #Jackson hole town square, live stream\n",
    "\n",
    "for i in range(tries):\n",
    "    try:\n",
    "        streams = streamlink.streams(url)\n",
    "    except:\n",
    "        if i < tries - 1: # i is zero indexed\n",
    "            print(f\"Attempt {i+1} of {tries}\")\n",
    "            time.sleep(0.1) #Wait half a second\n",
    "            continue\n",
    "        else:\n",
    "            raise\n",
    "    break\n",
    "\n",
    "stream_url = streams[\"360p\"] #Alternate, use \"best\""
   ]
  },
  {
   "cell_type": "code",
   "execution_count": 13,
   "id": "bbc69963",
   "metadata": {},
   "outputs": [
    {
     "data": {
      "text/plain": [
       "odict_keys(['144p', '240p', '360p', '480p', '720p', '1080p', 'worst', 'best'])"
      ]
     },
     "execution_count": 13,
     "metadata": {},
     "output_type": "execute_result"
    }
   ],
   "source": [
    "streams.keys()"
   ]
  },
  {
   "cell_type": "code",
   "execution_count": 36,
   "id": "numerical-penetration",
   "metadata": {
    "ExecuteTime": {
     "end_time": "2021-05-18T15:08:04.813974Z",
     "start_time": "2021-05-18T15:08:04.767911Z"
    }
   },
   "outputs": [
    {
     "name": "stdout",
     "output_type": "stream",
     "text": [
      "Help on Segment in module m3u8.model object:\n",
      "\n",
      "class Segment(m3u8.mixins.BasePathMixin)\n",
      " |  Segment(uri=None, base_uri=None, program_date_time=None, current_program_date_time=None, duration=None, title=None, byterange=None, cue_out=False, cue_out_start=False, cue_in=False, discontinuity=False, key=None, scte35=None, scte35_duration=None, keyobject=None, parts=None, init_section=None, dateranges=None, gap_tag=None)\n",
      " |  \n",
      " |  A video segment from a M3U8 playlist\n",
      " |  \n",
      " |  `uri`\n",
      " |    a string with the segment uri\n",
      " |  \n",
      " |  `title`\n",
      " |    title attribute from EXTINF parameter\n",
      " |  \n",
      " |  `program_date_time`\n",
      " |    Returns the EXT-X-PROGRAM-DATE-TIME as a datetime. This field is only set\n",
      " |    if EXT-X-PROGRAM-DATE-TIME exists for this segment\n",
      " |    http://tools.ietf.org/html/draft-pantos-http-live-streaming-07#section-3.3.5\n",
      " |  \n",
      " |  `current_program_date_time`\n",
      " |    Returns a datetime of this segment, either the value of `program_date_time`\n",
      " |    when EXT-X-PROGRAM-DATE-TIME is set or a calculated value based on previous\n",
      " |    segments' EXT-X-PROGRAM-DATE-TIME and EXTINF values\n",
      " |  \n",
      " |  `discontinuity`\n",
      " |    Returns a boolean indicating if a EXT-X-DISCONTINUITY tag exists\n",
      " |    http://tools.ietf.org/html/draft-pantos-http-live-streaming-13#section-3.4.11\n",
      " |  \n",
      " |  `cue_out_start`\n",
      " |    Returns a boolean indicating if a EXT-X-CUE-OUT tag exists\n",
      " |  \n",
      " |  `cue_out`\n",
      " |    Returns a boolean indicating if a EXT-X-CUE-OUT-CONT tag exists\n",
      " |    Note: for backwards compatibility, this will be True when cue_out_start\n",
      " |          is True, even though this tag did not exist in the input, and\n",
      " |          EXT-X-CUE-OUT-CONT will not exist in the output\n",
      " |  \n",
      " |  `cue_in`\n",
      " |    Returns a boolean indicating if a EXT-X-CUE-IN tag exists\n",
      " |  \n",
      " |  `scte35`\n",
      " |    Base64 encoded SCTE35 metadata if available\n",
      " |  \n",
      " |  `scte35_duration`\n",
      " |    Planned SCTE35 duration\n",
      " |  \n",
      " |  `duration`\n",
      " |    duration attribute from EXTINF parameter\n",
      " |  \n",
      " |  `base_uri`\n",
      " |    uri the key comes from in URI hierarchy. ex.: http://example.com/path/to\n",
      " |  \n",
      " |  `byterange`\n",
      " |    byterange attribute from EXT-X-BYTERANGE parameter\n",
      " |  \n",
      " |  `key`\n",
      " |    Key used to encrypt the segment (EXT-X-KEY)\n",
      " |  \n",
      " |  `parts`\n",
      " |    partial segments that make up this segment\n",
      " |  \n",
      " |  `dateranges`\n",
      " |    any dateranges that should  preceed the segment\n",
      " |  \n",
      " |  `gap_tag`\n",
      " |    GAP tag indicates that a Media Segment is missing\n",
      " |  \n",
      " |  Method resolution order:\n",
      " |      Segment\n",
      " |      m3u8.mixins.BasePathMixin\n",
      " |      builtins.object\n",
      " |  \n",
      " |  Methods defined here:\n",
      " |  \n",
      " |  __init__(self, uri=None, base_uri=None, program_date_time=None, current_program_date_time=None, duration=None, title=None, byterange=None, cue_out=False, cue_out_start=False, cue_in=False, discontinuity=False, key=None, scte35=None, scte35_duration=None, keyobject=None, parts=None, init_section=None, dateranges=None, gap_tag=None)\n",
      " |      Initialize self.  See help(type(self)) for accurate signature.\n",
      " |  \n",
      " |  __str__(self)\n",
      " |      Return str(self).\n",
      " |  \n",
      " |  add_part(self, part)\n",
      " |  \n",
      " |  dumps(self, last_segment)\n",
      " |  \n",
      " |  ----------------------------------------------------------------------\n",
      " |  Data descriptors defined here:\n",
      " |  \n",
      " |  base_path\n",
      " |  \n",
      " |  base_uri\n",
      " |  \n",
      " |  ----------------------------------------------------------------------\n",
      " |  Methods inherited from m3u8.mixins.BasePathMixin:\n",
      " |  \n",
      " |  get_path_from_uri(self)\n",
      " |      Some URIs have a slash in the query string.\n",
      " |  \n",
      " |  ----------------------------------------------------------------------\n",
      " |  Data descriptors inherited from m3u8.mixins.BasePathMixin:\n",
      " |  \n",
      " |  __dict__\n",
      " |      dictionary for instance variables (if defined)\n",
      " |  \n",
      " |  __weakref__\n",
      " |      list of weak references to the object (if defined)\n",
      " |  \n",
      " |  absolute_uri\n",
      "\n"
     ]
    }
   ],
   "source": [
    "help(stream_segment)"
   ]
  },
  {
   "cell_type": "code",
   "execution_count": 47,
   "id": "careful-romania",
   "metadata": {
    "ExecuteTime": {
     "end_time": "2021-05-18T15:38:04.634275Z",
     "start_time": "2021-05-18T15:38:04.599368Z"
    }
   },
   "outputs": [
    {
     "data": {
      "text/plain": [
       "[('__class__', m3u8.model.Segment),\n",
       " ('__delattr__',\n",
       "  <method-wrapper '__delattr__' of Segment object at 0x000002A10E0A8F28>),\n",
       " ('__dict__',\n",
       "  {'uri': 'https://r5---sn-q4fl6nsy.googlevideo.com/videoplayback/id/DoUOrTJbIu4.0/itag/93/source/yt_live_broadcast/expire/1621371952/ei/0NejYNH-Hpupir4Pwei-wAM/ip/75.60.121.193/requiressl/yes/ratebypass/yes/live/1/sgoap/gir%3Dyes%3Bitag%3D140/sgovp/gir%3Dyes%3Bitag%3D134/hls_chunk_host/r5---sn-q4fl6nsy.googlevideo.com/playlist_duration/30/manifest_duration/30/vprv/1/playlist_type/DVR/initcwndbps/9360/mh/9I/mm/44/mn/sn-q4fl6nsy/ms/lva/mv/m/mvi/5/pl/24/keepalive/yes/fexp/24001373,24007246/mt/1621349559/sparams/expire,ei,ip,id,itag,source,requiressl,ratebypass,live,sgoap,sgovp,playlist_duration,manifest_duration,vprv,playlist_type/sig/AOq0QJ8wRgIhAKvALUF27ZSiGhHdsISTaFFF7A2-Sa6rs6Ef4JoZgzIEAiEAk0bWcYmWedj_CxSMANrIX2c8tLlmT9TX9oUhmbotQZY%3D/lsparams/hls_chunk_host,initcwndbps,mh,mm,mn,ms,mv,mvi,pl/lsig/AG3C_xAwRQIgOO3HTCLhz3zUeuUHEq-Qt6XuOMRAVzpDCLH3EJUB7rACIQDpm3YPeYaSz3S3VsYCxlFMJT7-XUBYYeM94NR2_VBEAA%3D%3D/playlist/index.m3u8/sq/6384529/goap/clen%3D81126%3Blmt%3D1621187225209444/govp/clen%3D125607%3Blmt%3D1621187225209439/dur/5.000/file/seg.ts',\n",
       "   'duration': 5.0,\n",
       "   'title': '',\n",
       "   '_base_uri': 'https://manifest.googlevideo.com/api/manifest/hls_playlist/expire/1621371952/ei/0NejYNH-Hpupir4Pwei-wAM/ip/75.60.121.193/id/DoUOrTJbIu4.0/itag/93/source/yt_live_broadcast/requiressl/yes/ratebypass/yes/live/1/sgoap/gir%3Dyes%3Bitag%3D140/sgovp/gir%3Dyes%3Bitag%3D134/hls_chunk_host/r5---sn-q4fl6nsy.googlevideo.com/playlist_duration/30/manifest_duration/30/vprv/1/playlist_type/DVR/initcwndbps/9360/mh/9I/mm/44/mn/sn-q4fl6nsy/ms/lva/mv/m/mvi/5/pl/24/dover/11/keepalive/yes/fexp/24001373,24007246/mt/1621349559/sparams/expire,ei,ip,id,itag,source,requiressl,ratebypass,live,sgoap,sgovp,playlist_duration,manifest_duration,vprv,playlist_type/sig/AOq0QJ8wRgIhAKvALUF27ZSiGhHdsISTaFFF7A2-Sa6rs6Ef4JoZgzIEAiEAk0bWcYmWedj_CxSMANrIX2c8tLlmT9TX9oUhmbotQZY%3D/lsparams/hls_chunk_host,initcwndbps,mh,mm,mn,ms,mv,mvi,pl/lsig/AG3C_xAwRQIgOO3HTCLhz3zUeuUHEq-Qt6XuOMRAVzpDCLH3EJUB7rACIQDpm3YPeYaSz3S3VsYCxlFMJT7-XUBYYeM94NR2_VBEAA%3D%3D/playlist/',\n",
       "   'byterange': None,\n",
       "   'program_date_time': datetime.datetime(2021, 5, 18, 15, 5, 9, 887000, tzinfo=datetime.timezone(datetime.timedelta(0), '+00:00')),\n",
       "   'current_program_date_time': datetime.datetime(2021, 5, 18, 15, 5, 9, 887000, tzinfo=datetime.timezone(datetime.timedelta(0), '+00:00')),\n",
       "   'discontinuity': False,\n",
       "   'cue_out_start': False,\n",
       "   'cue_out': False,\n",
       "   'cue_in': False,\n",
       "   'scte35': None,\n",
       "   'scte35_duration': None,\n",
       "   'key': None,\n",
       "   'parts': [],\n",
       "   'init_section': None,\n",
       "   'dateranges': [],\n",
       "   'gap_tag': None}),\n",
       " ('__doc__',\n",
       "  \"\\n    A video segment from a M3U8 playlist\\n\\n    `uri`\\n      a string with the segment uri\\n\\n    `title`\\n      title attribute from EXTINF parameter\\n\\n    `program_date_time`\\n      Returns the EXT-X-PROGRAM-DATE-TIME as a datetime. This field is only set\\n      if EXT-X-PROGRAM-DATE-TIME exists for this segment\\n      http://tools.ietf.org/html/draft-pantos-http-live-streaming-07#section-3.3.5\\n\\n    `current_program_date_time`\\n      Returns a datetime of this segment, either the value of `program_date_time`\\n      when EXT-X-PROGRAM-DATE-TIME is set or a calculated value based on previous\\n      segments' EXT-X-PROGRAM-DATE-TIME and EXTINF values\\n\\n    `discontinuity`\\n      Returns a boolean indicating if a EXT-X-DISCONTINUITY tag exists\\n      http://tools.ietf.org/html/draft-pantos-http-live-streaming-13#section-3.4.11\\n\\n    `cue_out_start`\\n      Returns a boolean indicating if a EXT-X-CUE-OUT tag exists\\n\\n    `cue_out`\\n      Returns a boolean indicating if a EXT-X-CUE-OUT-CONT tag exists\\n      Note: for backwards compatibility, this will be True when cue_out_start\\n            is True, even though this tag did not exist in the input, and\\n            EXT-X-CUE-OUT-CONT will not exist in the output\\n\\n    `cue_in`\\n      Returns a boolean indicating if a EXT-X-CUE-IN tag exists\\n\\n    `scte35`\\n      Base64 encoded SCTE35 metadata if available\\n\\n    `scte35_duration`\\n      Planned SCTE35 duration\\n\\n    `duration`\\n      duration attribute from EXTINF parameter\\n\\n    `base_uri`\\n      uri the key comes from in URI hierarchy. ex.: http://example.com/path/to\\n\\n    `byterange`\\n      byterange attribute from EXT-X-BYTERANGE parameter\\n\\n    `key`\\n      Key used to encrypt the segment (EXT-X-KEY)\\n\\n    `parts`\\n      partial segments that make up this segment\\n\\n    `dateranges`\\n      any dateranges that should  preceed the segment\\n\\n    `gap_tag`\\n      GAP tag indicates that a Media Segment is missing\\n    \"),\n",
       " ('__eq__', <method-wrapper '__eq__' of Segment object at 0x000002A10E0A8F28>),\n",
       " ('__ge__', <method-wrapper '__ge__' of Segment object at 0x000002A10E0A8F28>),\n",
       " ('__getattribute__',\n",
       "  <method-wrapper '__getattribute__' of Segment object at 0x000002A10E0A8F28>),\n",
       " ('__gt__', <method-wrapper '__gt__' of Segment object at 0x000002A10E0A8F28>),\n",
       " ('__hash__',\n",
       "  <method-wrapper '__hash__' of Segment object at 0x000002A10E0A8F28>),\n",
       " ('__le__', <method-wrapper '__le__' of Segment object at 0x000002A10E0A8F28>),\n",
       " ('__lt__', <method-wrapper '__lt__' of Segment object at 0x000002A10E0A8F28>),\n",
       " ('__module__', 'm3u8.model'),\n",
       " ('__ne__', <method-wrapper '__ne__' of Segment object at 0x000002A10E0A8F28>),\n",
       " ('__repr__',\n",
       "  <method-wrapper '__repr__' of Segment object at 0x000002A10E0A8F28>),\n",
       " ('__setattr__',\n",
       "  <method-wrapper '__setattr__' of Segment object at 0x000002A10E0A8F28>),\n",
       " ('__weakref__', None),\n",
       " ('_base_uri',\n",
       "  'https://manifest.googlevideo.com/api/manifest/hls_playlist/expire/1621371952/ei/0NejYNH-Hpupir4Pwei-wAM/ip/75.60.121.193/id/DoUOrTJbIu4.0/itag/93/source/yt_live_broadcast/requiressl/yes/ratebypass/yes/live/1/sgoap/gir%3Dyes%3Bitag%3D140/sgovp/gir%3Dyes%3Bitag%3D134/hls_chunk_host/r5---sn-q4fl6nsy.googlevideo.com/playlist_duration/30/manifest_duration/30/vprv/1/playlist_type/DVR/initcwndbps/9360/mh/9I/mm/44/mn/sn-q4fl6nsy/ms/lva/mv/m/mvi/5/pl/24/dover/11/keepalive/yes/fexp/24001373,24007246/mt/1621349559/sparams/expire,ei,ip,id,itag,source,requiressl,ratebypass,live,sgoap,sgovp,playlist_duration,manifest_duration,vprv,playlist_type/sig/AOq0QJ8wRgIhAKvALUF27ZSiGhHdsISTaFFF7A2-Sa6rs6Ef4JoZgzIEAiEAk0bWcYmWedj_CxSMANrIX2c8tLlmT9TX9oUhmbotQZY%3D/lsparams/hls_chunk_host,initcwndbps,mh,mm,mn,ms,mv,mvi,pl/lsig/AG3C_xAwRQIgOO3HTCLhz3zUeuUHEq-Qt6XuOMRAVzpDCLH3EJUB7rACIQDpm3YPeYaSz3S3VsYCxlFMJT7-XUBYYeM94NR2_VBEAA%3D%3D/playlist/'),\n",
       " ('absolute_uri',\n",
       "  'https://r5---sn-q4fl6nsy.googlevideo.com/videoplayback/id/DoUOrTJbIu4.0/itag/93/source/yt_live_broadcast/expire/1621371952/ei/0NejYNH-Hpupir4Pwei-wAM/ip/75.60.121.193/requiressl/yes/ratebypass/yes/live/1/sgoap/gir%3Dyes%3Bitag%3D140/sgovp/gir%3Dyes%3Bitag%3D134/hls_chunk_host/r5---sn-q4fl6nsy.googlevideo.com/playlist_duration/30/manifest_duration/30/vprv/1/playlist_type/DVR/initcwndbps/9360/mh/9I/mm/44/mn/sn-q4fl6nsy/ms/lva/mv/m/mvi/5/pl/24/keepalive/yes/fexp/24001373,24007246/mt/1621349559/sparams/expire,ei,ip,id,itag,source,requiressl,ratebypass,live,sgoap,sgovp,playlist_duration,manifest_duration,vprv,playlist_type/sig/AOq0QJ8wRgIhAKvALUF27ZSiGhHdsISTaFFF7A2-Sa6rs6Ef4JoZgzIEAiEAk0bWcYmWedj_CxSMANrIX2c8tLlmT9TX9oUhmbotQZY%3D/lsparams/hls_chunk_host,initcwndbps,mh,mm,mn,ms,mv,mvi,pl/lsig/AG3C_xAwRQIgOO3HTCLhz3zUeuUHEq-Qt6XuOMRAVzpDCLH3EJUB7rACIQDpm3YPeYaSz3S3VsYCxlFMJT7-XUBYYeM94NR2_VBEAA%3D%3D/playlist/index.m3u8/sq/6384529/goap/clen%3D81126%3Blmt%3D1621187225209444/govp/clen%3D125607%3Blmt%3D1621187225209439/dur/5.000/file/seg.ts'),\n",
       " ('base_path',\n",
       "  'https://r5---sn-q4fl6nsy.googlevideo.com/videoplayback/id/DoUOrTJbIu4.0/itag/93/source/yt_live_broadcast/expire/1621371952/ei/0NejYNH-Hpupir4Pwei-wAM/ip/75.60.121.193/requiressl/yes/ratebypass/yes/live/1/sgoap/gir%3Dyes%3Bitag%3D140/sgovp/gir%3Dyes%3Bitag%3D134/hls_chunk_host/r5---sn-q4fl6nsy.googlevideo.com/playlist_duration/30/manifest_duration/30/vprv/1/playlist_type/DVR/initcwndbps/9360/mh/9I/mm/44/mn/sn-q4fl6nsy/ms/lva/mv/m/mvi/5/pl/24/keepalive/yes/fexp/24001373,24007246/mt/1621349559/sparams/expire,ei,ip,id,itag,source,requiressl,ratebypass,live,sgoap,sgovp,playlist_duration,manifest_duration,vprv,playlist_type/sig/AOq0QJ8wRgIhAKvALUF27ZSiGhHdsISTaFFF7A2-Sa6rs6Ef4JoZgzIEAiEAk0bWcYmWedj_CxSMANrIX2c8tLlmT9TX9oUhmbotQZY%3D/lsparams/hls_chunk_host,initcwndbps,mh,mm,mn,ms,mv,mvi,pl/lsig/AG3C_xAwRQIgOO3HTCLhz3zUeuUHEq-Qt6XuOMRAVzpDCLH3EJUB7rACIQDpm3YPeYaSz3S3VsYCxlFMJT7-XUBYYeM94NR2_VBEAA%3D%3D/playlist/index.m3u8/sq/6384529/goap/clen%3D81126%3Blmt%3D1621187225209444/govp/clen%3D125607%3Blmt%3D1621187225209439/dur/5.000/file'),\n",
       " ('base_uri',\n",
       "  'https://manifest.googlevideo.com/api/manifest/hls_playlist/expire/1621371952/ei/0NejYNH-Hpupir4Pwei-wAM/ip/75.60.121.193/id/DoUOrTJbIu4.0/itag/93/source/yt_live_broadcast/requiressl/yes/ratebypass/yes/live/1/sgoap/gir%3Dyes%3Bitag%3D140/sgovp/gir%3Dyes%3Bitag%3D134/hls_chunk_host/r5---sn-q4fl6nsy.googlevideo.com/playlist_duration/30/manifest_duration/30/vprv/1/playlist_type/DVR/initcwndbps/9360/mh/9I/mm/44/mn/sn-q4fl6nsy/ms/lva/mv/m/mvi/5/pl/24/dover/11/keepalive/yes/fexp/24001373,24007246/mt/1621349559/sparams/expire,ei,ip,id,itag,source,requiressl,ratebypass,live,sgoap,sgovp,playlist_duration,manifest_duration,vprv,playlist_type/sig/AOq0QJ8wRgIhAKvALUF27ZSiGhHdsISTaFFF7A2-Sa6rs6Ef4JoZgzIEAiEAk0bWcYmWedj_CxSMANrIX2c8tLlmT9TX9oUhmbotQZY%3D/lsparams/hls_chunk_host,initcwndbps,mh,mm,mn,ms,mv,mvi,pl/lsig/AG3C_xAwRQIgOO3HTCLhz3zUeuUHEq-Qt6XuOMRAVzpDCLH3EJUB7rACIQDpm3YPeYaSz3S3VsYCxlFMJT7-XUBYYeM94NR2_VBEAA%3D%3D/playlist/'),\n",
       " ('byterange', None),\n",
       " ('cue_in', False),\n",
       " ('cue_out', False),\n",
       " ('cue_out_start', False),\n",
       " ('current_program_date_time',\n",
       "  datetime.datetime(2021, 5, 18, 15, 5, 9, 887000, tzinfo=datetime.timezone(datetime.timedelta(0), '+00:00'))),\n",
       " ('dateranges', []),\n",
       " ('discontinuity', False),\n",
       " ('duration', 5.0),\n",
       " ('gap_tag', None),\n",
       " ('init_section', None),\n",
       " ('key', None),\n",
       " ('parts', []),\n",
       " ('program_date_time',\n",
       "  datetime.datetime(2021, 5, 18, 15, 5, 9, 887000, tzinfo=datetime.timezone(datetime.timedelta(0), '+00:00'))),\n",
       " ('scte35', None),\n",
       " ('scte35_duration', None),\n",
       " ('title', ''),\n",
       " ('uri',\n",
       "  'https://r5---sn-q4fl6nsy.googlevideo.com/videoplayback/id/DoUOrTJbIu4.0/itag/93/source/yt_live_broadcast/expire/1621371952/ei/0NejYNH-Hpupir4Pwei-wAM/ip/75.60.121.193/requiressl/yes/ratebypass/yes/live/1/sgoap/gir%3Dyes%3Bitag%3D140/sgovp/gir%3Dyes%3Bitag%3D134/hls_chunk_host/r5---sn-q4fl6nsy.googlevideo.com/playlist_duration/30/manifest_duration/30/vprv/1/playlist_type/DVR/initcwndbps/9360/mh/9I/mm/44/mn/sn-q4fl6nsy/ms/lva/mv/m/mvi/5/pl/24/keepalive/yes/fexp/24001373,24007246/mt/1621349559/sparams/expire,ei,ip,id,itag,source,requiressl,ratebypass,live,sgoap,sgovp,playlist_duration,manifest_duration,vprv,playlist_type/sig/AOq0QJ8wRgIhAKvALUF27ZSiGhHdsISTaFFF7A2-Sa6rs6Ef4JoZgzIEAiEAk0bWcYmWedj_CxSMANrIX2c8tLlmT9TX9oUhmbotQZY%3D/lsparams/hls_chunk_host,initcwndbps,mh,mm,mn,ms,mv,mvi,pl/lsig/AG3C_xAwRQIgOO3HTCLhz3zUeuUHEq-Qt6XuOMRAVzpDCLH3EJUB7rACIQDpm3YPeYaSz3S3VsYCxlFMJT7-XUBYYeM94NR2_VBEAA%3D%3D/playlist/index.m3u8/sq/6384529/goap/clen%3D81126%3Blmt%3D1621187225209444/govp/clen%3D125607%3Blmt%3D1621187225209439/dur/5.000/file/seg.ts')]"
      ]
     },
     "execution_count": 47,
     "metadata": {},
     "output_type": "execute_result"
    }
   ],
   "source": [
    "import inspect\n",
    "\n",
    "inspect.getmembers(stream_segment, lambda a:not(inspect.isroutine(a)))\n"
   ]
  }
 ],
 "metadata": {
  "kernelspec": {
   "display_name": "Python 3",
   "language": "python",
   "name": "python3"
  },
  "language_info": {
   "codemirror_mode": {
    "name": "ipython",
    "version": 3
   },
   "file_extension": ".py",
   "mimetype": "text/x-python",
   "name": "python",
   "nbconvert_exporter": "python",
   "pygments_lexer": "ipython3",
   "version": "3.7.10"
  },
  "toc": {
   "base_numbering": 1,
   "nav_menu": {},
   "number_sections": true,
   "sideBar": true,
   "skip_h1_title": false,
   "title_cell": "Table of Contents",
   "title_sidebar": "Contents",
   "toc_cell": false,
   "toc_position": {},
   "toc_section_display": true,
   "toc_window_display": false
  }
 },
 "nbformat": 4,
 "nbformat_minor": 5
}
