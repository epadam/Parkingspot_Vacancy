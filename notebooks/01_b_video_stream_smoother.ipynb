{
 "cells": [
  {
   "cell_type": "code",
   "execution_count": 1,
   "id": "distributed-bracelet",
   "metadata": {
    "ExecuteTime": {
     "end_time": "2021-05-12T20:37:45.874453Z",
     "start_time": "2021-05-12T20:37:44.478168Z"
    }
   },
   "outputs": [],
   "source": [
    "import cv2 #openCV\n",
    "import time"
   ]
  },
  {
   "cell_type": "code",
   "execution_count": 2,
   "id": "funny-chemistry",
   "metadata": {
    "ExecuteTime": {
     "end_time": "2021-05-12T20:37:46.294542Z",
     "start_time": "2021-05-12T20:37:45.880437Z"
    }
   },
   "outputs": [],
   "source": [
    "# pip install urllib\n",
    "# pip install m3u8\n",
    "# pip install streamlink\n",
    "import urllib\n",
    "import m3u8\n",
    "import streamlink\n",
    "import cv2 #openCV\n"
   ]
  },
  {
   "cell_type": "code",
   "execution_count": 5,
   "id": "lasting-hanging",
   "metadata": {
    "ExecuteTime": {
     "end_time": "2021-05-12T20:41:33.004255Z",
     "start_time": "2021-05-12T20:40:52.770164Z"
    }
   },
   "outputs": [
    {
     "name": "stdout",
     "output_type": "stream",
     "text": [
      "#1 at time 20210512-204009\n",
      "#2 at time 20210512-204014\n",
      "#3 at time 20210512-204019\n"
     ]
    }
   ],
   "source": [
    "#Ref: https://stackoverflow.com/questions/55631634/recording-youtube-live-stream-to-file-in-python\n",
    "def get_stream(url):\n",
    "    \"\"\"\n",
    "    Get upload chunk url\n",
    "    input: youtube URL\n",
    "    output: m3u8 object segment\n",
    "    \"\"\"\n",
    "    #Get stream\n",
    "    streams = streamlink.streams(url)\n",
    "    stream_url = streams[\"360p\"] #Alternate, use \"best\"\n",
    "\n",
    "    m3u8_obj = m3u8.load(stream_url.args['url'])\n",
    "    return m3u8_obj.segments[0] #Parsed stream\n",
    "\n",
    "\n",
    "def dl_stream(url, filename, chunks):\n",
    "    \"\"\"\n",
    "    Download each chunk to file\n",
    "    input: url, filename, and number of chunks (int)\n",
    "    output: saves file at filename location\n",
    "    returns none.\n",
    "    \"\"\"\n",
    "    pre_time_stamp = 0\n",
    "    \n",
    "    #Repeat for each chunk\n",
    "    #Needs to be in chunks beceause \n",
    "    #  1) it's live and \n",
    "    #  2) it won't let you leave the stream open forever\n",
    "    i=1\n",
    "    while i <= chunks:\n",
    "       \n",
    "        #Open stream\n",
    "        stream_segment = get_stream(url)\n",
    "        #Get current time\n",
    "        cur_time_stamp = \\\n",
    "            stream_segment.program_date_time.strftime(\"%Y%m%d-%H%M%S\")\n",
    "        #Only get next time step, wait if it's not new yet\n",
    "        if pre_time_stamp == cur_time_stamp:\n",
    "            #Don't increment counter if we didn't get a chunk\n",
    "            pass\n",
    "        else:\n",
    "            print(f'#{i} at time {cur_time_stamp}')\n",
    "            #Open file for writing stream\n",
    "            file = open(filename, 'ab+') #ab+ means keep adding to file\n",
    "            #Write stream to file\n",
    "            with urllib.request.urlopen(stream_segment.uri) as response:\n",
    "                html = response.read()\n",
    "                file.write(html)\n",
    "            #Update time stamp\n",
    "            pre_time_stamp = cur_time_stamp\n",
    "            i += 1 #only increment if we got a new chunk\n",
    "\n",
    "    return None\n",
    "\n",
    "def openCVProcessing(saved_video_file):\n",
    "    '''View saved video with openCV\n",
    "    Add your other steps here'''\n",
    "    capture = cv2.VideoCapture(saved_video_file)\n",
    "\n",
    "    while capture.isOpened():\n",
    "        grabbed, frame = capture.read()  #read in single frame\n",
    "        if grabbed == False:\n",
    "            break\n",
    "\n",
    "        #openCV processing goes here\n",
    "        #\n",
    "        \n",
    "        cv2.imshow('frame',frame)  #Show the frame\n",
    "        \n",
    "        #Shown in a new window, To exit, push q on the keyboard\n",
    "        if cv2.waitKey(20) & 0xFF == ord('q'):\n",
    "            break\n",
    "\n",
    "    capture.release()\n",
    "    cv2.destroyAllWindows()  #close the windows automatically\n",
    "                  \n",
    "tempFile = \"temp.ts\"  #files are format ts, open cv can view them\n",
    "videoURL = \"https://www.youtube.com/watch?v=DoUOrTJbIu4\" #Jackson hole town square, live stream\n",
    "\n",
    "dl_stream(videoURL, tempFile, 3)\n",
    "openCVProcessing(tempFile)"
   ]
  },
  {
   "cell_type": "code",
   "execution_count": 52,
   "id": "ongoing-leonard",
   "metadata": {
    "ExecuteTime": {
     "end_time": "2021-05-12T02:18:11.850869Z",
     "start_time": "2021-05-12T02:18:11.838116Z"
    }
   },
   "outputs": [],
   "source": [
    "def openCVProcessing(saved_video_file):\n",
    "    #View saved video with openCV\n",
    "    capture = cv2.VideoCapture(saved_video_file)\n",
    "\n",
    "    while capture.isOpened():\n",
    "        grabbed, frame = capture.read()  #read in single frame\n",
    "        if grabbed == False:\n",
    "            break\n",
    "\n",
    "        #openCV processing goes here\n",
    "        \n",
    "        \n",
    "        cv2.imshow('frame',frame)  #Show the frame\n",
    "        \n",
    "        #Shown in a new window, To exit, push q on the keyboard\n",
    "        if cv2.waitKey(20) & 0xFF == ord('q'):\n",
    "            break\n",
    "\n",
    "    capture.release()\n",
    "    cv2.destroyAllWindows()  #close the windows automatically\n"
   ]
  },
  {
   "cell_type": "code",
   "execution_count": 46,
   "id": "contrary-string",
   "metadata": {
    "ExecuteTime": {
     "end_time": "2021-05-12T02:02:32.867932Z",
     "start_time": "2021-05-12T02:02:11.570894Z"
    }
   },
   "outputs": [],
   "source": [
    "videoURL = \"https://www.youtube.com/watch?v=DoUOrTJbIu4\"\n",
    "stream_segment = get_stream(videoURL)"
   ]
  },
  {
   "cell_type": "markdown",
   "id": "particular-priority",
   "metadata": {},
   "source": [
    "# Attempt to combine streaming and working into one!"
   ]
  },
  {
   "cell_type": "code",
   "execution_count": 3,
   "id": "interested-indian",
   "metadata": {
    "ExecuteTime": {
     "end_time": "2021-05-12T20:38:00.363538Z",
     "start_time": "2021-05-12T20:37:55.682895Z"
    }
   },
   "outputs": [
    {
     "name": "stdout",
     "output_type": "stream",
     "text": [
      "#1 at time 20210512-203714\n"
     ]
    },
    {
     "ename": "TypeError",
     "evalue": "an integer is required (got type bytes)",
     "output_type": "error",
     "traceback": [
      "\u001b[1;31m---------------------------------------------------------------------------\u001b[0m",
      "\u001b[1;31mTypeError\u001b[0m                                 Traceback (most recent call last)",
      "\u001b[1;32m<ipython-input-3-6656c3b439cf>\u001b[0m in \u001b[0;36m<module>\u001b[1;34m\u001b[0m\n\u001b[0;32m     79\u001b[0m \u001b[0mvideoURL\u001b[0m \u001b[1;33m=\u001b[0m \u001b[1;34m\"https://www.youtube.com/watch?v=DoUOrTJbIu4\"\u001b[0m \u001b[1;31m#Jackson hole town square, live stream\u001b[0m\u001b[1;33m\u001b[0m\u001b[1;33m\u001b[0m\u001b[0m\n\u001b[0;32m     80\u001b[0m \u001b[1;33m\u001b[0m\u001b[0m\n\u001b[1;32m---> 81\u001b[1;33m \u001b[0mdl_stream\u001b[0m\u001b[1;33m(\u001b[0m\u001b[0mvideoURL\u001b[0m\u001b[1;33m,\u001b[0m \u001b[0mtempFile\u001b[0m\u001b[1;33m,\u001b[0m \u001b[1;36m1\u001b[0m\u001b[1;33m)\u001b[0m\u001b[1;33m\u001b[0m\u001b[1;33m\u001b[0m\u001b[0m\n\u001b[0m\u001b[0;32m     82\u001b[0m \u001b[1;31m#openCVProcessing(tempFile)\u001b[0m\u001b[1;33m\u001b[0m\u001b[1;33m\u001b[0m\u001b[1;33m\u001b[0m\u001b[0m\n",
      "\u001b[1;32m<ipython-input-3-6656c3b439cf>\u001b[0m in \u001b[0;36mdl_stream\u001b[1;34m(url, filename, chunks)\u001b[0m\n\u001b[0;32m     67\u001b[0m             \u001b[1;32mwith\u001b[0m \u001b[0murllib\u001b[0m\u001b[1;33m.\u001b[0m\u001b[0mrequest\u001b[0m\u001b[1;33m.\u001b[0m\u001b[0murlopen\u001b[0m\u001b[1;33m(\u001b[0m\u001b[0mstream_segment\u001b[0m\u001b[1;33m.\u001b[0m\u001b[0muri\u001b[0m\u001b[1;33m)\u001b[0m \u001b[1;32mas\u001b[0m \u001b[0mresponse\u001b[0m\u001b[1;33m:\u001b[0m\u001b[1;33m\u001b[0m\u001b[1;33m\u001b[0m\u001b[0m\n\u001b[0;32m     68\u001b[0m                 \u001b[0mhtml\u001b[0m \u001b[1;33m=\u001b[0m \u001b[0mresponse\u001b[0m\u001b[1;33m.\u001b[0m\u001b[0mread\u001b[0m\u001b[1;33m(\u001b[0m\u001b[1;33m)\u001b[0m\u001b[1;33m\u001b[0m\u001b[1;33m\u001b[0m\u001b[0m\n\u001b[1;32m---> 69\u001b[1;33m                 \u001b[0mopenCVProcessing\u001b[0m\u001b[1;33m(\u001b[0m\u001b[0mhtml\u001b[0m\u001b[1;33m)\u001b[0m\u001b[1;33m\u001b[0m\u001b[1;33m\u001b[0m\u001b[0m\n\u001b[0m\u001b[0;32m     70\u001b[0m                 \u001b[1;31m#file.write(html)\u001b[0m\u001b[1;33m\u001b[0m\u001b[1;33m\u001b[0m\u001b[1;33m\u001b[0m\u001b[0m\n\u001b[0;32m     71\u001b[0m             \u001b[1;31m#Update time stamp\u001b[0m\u001b[1;33m\u001b[0m\u001b[1;33m\u001b[0m\u001b[1;33m\u001b[0m\u001b[0m\n",
      "\u001b[1;32m<ipython-input-3-6656c3b439cf>\u001b[0m in \u001b[0;36mopenCVProcessing\u001b[1;34m(saved_video_file)\u001b[0m\n\u001b[0;32m     16\u001b[0m     '''View saved video with openCV\n\u001b[0;32m     17\u001b[0m     Add your other steps here'''\n\u001b[1;32m---> 18\u001b[1;33m     \u001b[0mcapture\u001b[0m \u001b[1;33m=\u001b[0m \u001b[0mcv2\u001b[0m\u001b[1;33m.\u001b[0m\u001b[0mVideoCapture\u001b[0m\u001b[1;33m(\u001b[0m\u001b[0msaved_video_file\u001b[0m\u001b[1;33m)\u001b[0m\u001b[1;33m\u001b[0m\u001b[1;33m\u001b[0m\u001b[0m\n\u001b[0m\u001b[0;32m     19\u001b[0m \u001b[1;33m\u001b[0m\u001b[0m\n\u001b[0;32m     20\u001b[0m     \u001b[1;32mwhile\u001b[0m \u001b[0mcapture\u001b[0m\u001b[1;33m.\u001b[0m\u001b[0misOpened\u001b[0m\u001b[1;33m(\u001b[0m\u001b[1;33m)\u001b[0m\u001b[1;33m:\u001b[0m\u001b[1;33m\u001b[0m\u001b[1;33m\u001b[0m\u001b[0m\n",
      "\u001b[1;31mTypeError\u001b[0m: an integer is required (got type bytes)"
     ]
    }
   ],
   "source": [
    "#Ref: https://stackoverflow.com/questions/55631634/recording-youtube-live-stream-to-file-in-python\n",
    "def get_stream(url):\n",
    "    \"\"\"\n",
    "    Get upload chunk url\n",
    "    input: youtube URL\n",
    "    output: m3u8 object segment\n",
    "    \"\"\"\n",
    "    #Get stream\n",
    "    streams = streamlink.streams(url)\n",
    "    stream_url = streams[\"360p\"] #Alternate, use \"best\"\n",
    "\n",
    "    m3u8_obj = m3u8.load(stream_url.args['url'])\n",
    "    return m3u8_obj.segments[0] #Parsed stream\n",
    "\n",
    "def openCVProcessing(saved_video_file):\n",
    "    '''View saved video with openCV\n",
    "    Add your other steps here'''\n",
    "    capture = cv2.VideoCapture(saved_video_file)\n",
    "\n",
    "    while capture.isOpened():\n",
    "        grabbed, frame = capture.read()  #read in single frame\n",
    "        if grabbed == False:\n",
    "            break\n",
    "\n",
    "        #openCV processing goes here\n",
    "        #\n",
    "        \n",
    "        cv2.imshow('frame',frame)  #Show the frame\n",
    "        \n",
    "        #Shown in a new window, To exit, push q on the keyboard\n",
    "        if cv2.waitKey(20) & 0xFF == ord('q'):\n",
    "            break\n",
    "\n",
    "    capture.release()\n",
    "    cv2.destroyAllWindows()  #close the windows automatically\n",
    "\n",
    "def dl_stream(url, filename, chunks):\n",
    "    \"\"\"\n",
    "    Download each chunk to file\n",
    "    input: url, filename, and number of chunks (int)\n",
    "    output: saves file at filename location\n",
    "    returns none.\n",
    "    \"\"\"\n",
    "    pre_time_stamp = 0\n",
    "    \n",
    "    #Repeat for each chunk\n",
    "    #Needs to be in chunks beceause \n",
    "    #  1) it's live and \n",
    "    #  2) it won't let you leave the stream open forever\n",
    "    i=1\n",
    "    while i <= chunks:\n",
    "       \n",
    "        #Open stream\n",
    "        stream_segment = get_stream(url)\n",
    "        #Get current time\n",
    "        cur_time_stamp = \\\n",
    "            stream_segment.program_date_time.strftime(\"%Y%m%d-%H%M%S\")\n",
    "        #Only get next time step, wait if it's not new yet\n",
    "        if pre_time_stamp == cur_time_stamp:\n",
    "            #Don't increment counter if we didn't get a chunk\n",
    "            pass\n",
    "        else:\n",
    "            print(f'#{i} at time {cur_time_stamp}')\n",
    "            #Open file for writing stream\n",
    "            file = open(filename, 'ab+') #ab+ means keep adding to file\n",
    "            #Write stream to file\n",
    "            with urllib.request.urlopen(stream_segment.uri) as response:\n",
    "                html = response.read()\n",
    "                openCVProcessing(html)\n",
    "                #file.write(html)\n",
    "            #Update time stamp\n",
    "            pre_time_stamp = cur_time_stamp\n",
    "            i += 1 #only increment if we got a new chunk\n",
    "\n",
    "    return None\n",
    "\n",
    "\n",
    "tempFile = \"temp.ts\"  #files are format ts, open cv can view them\n",
    "videoURL = \"https://www.youtube.com/watch?v=DoUOrTJbIu4\" #Jackson hole town square, live stream\n",
    "\n",
    "dl_stream(videoURL, tempFile, 1)\n",
    "#openCVProcessing(tempFile)"
   ]
  },
  {
   "cell_type": "code",
   "execution_count": 10,
   "id": "instant-ballet",
   "metadata": {
    "ExecuteTime": {
     "end_time": "2021-05-12T20:46:28.036186Z",
     "start_time": "2021-05-12T20:46:18.664525Z"
    }
   },
   "outputs": [],
   "source": [
    "url = \"https://www.youtube.com/watch?v=DoUOrTJbIu4\" #Jackson hole town square, live stream\n",
    "\n",
    "stream_segment = get_stream(url)\n",
    "#Open file for writing stream\n",
    "file = open(\"test.ts\", 'ab+') #ab+ means keep adding to file\n",
    "#Write stream to file\n",
    "with urllib.request.urlopen(stream_segment.uri) as response:\n",
    "    html = response.read()\n",
    "    #openCVProcessing(html)\n",
    "    file.write(html)\n",
    "    openCVProcessing(\"test.ts\")"
   ]
  }
 ],
 "metadata": {
  "kernelspec": {
   "display_name": "Python 3",
   "language": "python",
   "name": "python3"
  },
  "language_info": {
   "codemirror_mode": {
    "name": "ipython",
    "version": 3
   },
   "file_extension": ".py",
   "mimetype": "text/x-python",
   "name": "python",
   "nbconvert_exporter": "python",
   "pygments_lexer": "ipython3",
   "version": "3.7.3"
  },
  "toc": {
   "base_numbering": 1,
   "nav_menu": {},
   "number_sections": true,
   "sideBar": true,
   "skip_h1_title": false,
   "title_cell": "Table of Contents",
   "title_sidebar": "Contents",
   "toc_cell": false,
   "toc_position": {},
   "toc_section_display": true,
   "toc_window_display": false
  }
 },
 "nbformat": 4,
 "nbformat_minor": 5
}
